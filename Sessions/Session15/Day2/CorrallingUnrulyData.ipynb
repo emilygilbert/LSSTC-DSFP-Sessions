{
 "cells": [
  {
   "cell_type": "code",
   "execution_count": 1,
   "metadata": {
    "slideshow": {
     "slide_type": "skip"
    }
   },
   "outputs": [],
   "source": [
    "import numpy as np\n",
    "import pandas as pd\n",
    "import matplotlib.pyplot as plt\n",
    "\n",
    "%matplotlib notebook"
   ]
  },
  {
   "cell_type": "markdown",
   "metadata": {
    "slideshow": {
     "slide_type": "slide"
    }
   },
   "source": [
    "# Wranglin' –– Corraling Unruly Data\n",
    "One bit at a time\n",
    "=====\n",
    "\n",
    "**Version 0.2**\n",
    "\n",
    "By AA Miller  \n",
    "2022 July 19"
   ]
  },
  {
   "cell_type": "markdown",
   "metadata": {
    "slideshow": {
     "slide_type": "skip"
    }
   },
   "source": [
    "For this exercise you will need a five different text files. They have been compiled into a tarball that you should [download](https://arch.library.northwestern.edu/downloads/8g84mm66j?locale=en) and unpack in the same directory as this notebook. "
   ]
  },
  {
   "cell_type": "markdown",
   "metadata": {
    "slideshow": {
     "slide_type": "slide"
    }
   },
   "source": [
    "Webster's Dictionary$^\\ast$ defines wrangler as:\n",
    "\n",
    "**wrangler** noun\n",
    "\n",
    "wran·gler | raŋ-g(ə-)lər\n",
    "\n",
    "(short for horse-wrangler, probably partial translation of Mexican Spanish caballerango groom): a ranch hand who takes care of the saddle horses broadly : cowboy "
   ]
  },
  {
   "cell_type": "markdown",
   "metadata": {
    "slideshow": {
     "slide_type": "subslide"
    }
   },
   "source": [
    "$^\\ast$actually https://www.merriam-webster.com/dictionary/ - Webster's didn't define wrangler in the way I wanted"
   ]
  },
  {
   "cell_type": "markdown",
   "metadata": {
    "slideshow": {
     "slide_type": "slide"
    }
   },
   "source": [
    "How then, as astronomers, are we all like cowhands?\n",
    "\n",
    "Data are often like horses in that: they all differ, rarely conform to a single standard set of behavior, and they love to eat hay.$^\\dagger$"
   ]
  },
  {
   "cell_type": "markdown",
   "metadata": {
    "slideshow": {
     "slide_type": "subslide"
    }
   },
   "source": [
    "$^\\dagger$I made that last one up."
   ]
  },
  {
   "cell_type": "markdown",
   "metadata": {
    "slideshow": {
     "slide_type": "slide"
    }
   },
   "source": [
    "Thus, in our efforts to better understand the Universe, we must often manipulate, coax, and, in some cases, force our data to \"behave.\" This involves a variety of tasks, such as: gathering, cleaning, matching, restructuring, transforming, filtering, combining, merging, verifying, and fixing data."
   ]
  },
  {
   "cell_type": "markdown",
   "metadata": {
    "slideshow": {
     "slide_type": "slide"
    }
   },
   "source": [
    "Here is a brief and unfortunate truth, there isn't a single person in the entire world that would organize data in *exactly* the same way that you would.\n",
    "\n",
    "As a result, you may find that data that are useful to you are not organized in an optimal fashion for use in your workflow/software.\n",
    "\n",
    "Hence: the need to wrangle."
   ]
  },
  {
   "cell_type": "markdown",
   "metadata": {
    "slideshow": {
     "slide_type": "slide"
    }
   },
   "source": [
    "There is one important and significant way in which our lives as astronomers are much better than the average data scientist: even though our data are \"worthless,\" virtually all of it is numbers.\n",
    "\n",
    "Furthermore, I contend that most astronomical data can easily be organized into a simple tabular structure."
   ]
  },
  {
   "cell_type": "markdown",
   "metadata": {
    "slideshow": {
     "slide_type": "slide"
    }
   },
   "source": [
    "Nevertheless, as you will see during the exercises, even with relatively simple, small numerical data sets there is a need for wrangling.\n",
    "\n",
    "And wrangling brings up a lot of issues..."
   ]
  },
  {
   "cell_type": "markdown",
   "metadata": {
    "slideshow": {
     "slide_type": "slide"
    }
   },
   "source": [
    "Consider the following data set that contains the street names for my best friends from childhood:\n",
    "\n",
    "    ['Ewing', 'Isabella', 'Reese', 'Isabella', \n",
    "     'Thayer', 'Reese', 'Reese', 'Ewing', 'Reece']\n",
    "\n",
    "Do you notice anything interesting?"
   ]
  },
  {
   "cell_type": "markdown",
   "metadata": {
    "slideshow": {
     "slide_type": "slide"
    }
   },
   "source": [
    "Either my hometown has a street named \"Reese\"  and a street named \"Reece\", or the last entry was input incorrectly. \n",
    "\n",
    "If the later is true, then we have to raise the question of: what should we do?"
   ]
  },
  {
   "cell_type": "markdown",
   "metadata": {
    "slideshow": {
     "slide_type": "slide"
    }
   },
   "source": [
    "For this particular data set, it would be possible to create a verification procedure to test for similar errors.\n",
    "\n",
    "1. Collect every street name in the city (from post office?)\n",
    "2. Confirm every data entry has a counterpart.\n",
    "\n",
    "For any instances where this isn't the case, one could then intervene with a correction. "
   ]
  },
  {
   "cell_type": "markdown",
   "metadata": {
    "slideshow": {
     "slide_type": "slide"
    }
   },
   "source": [
    "This particular verification catches this street name error, but it doesn't correct for the possibility that the person doing the data entry may have been reading addresses really quickly and the third \"Reese\" entry should have actually said \"Lawndale.\"\n",
    "\n",
    "(verification is really hard)"
   ]
  },
  {
   "cell_type": "markdown",
   "metadata": {
    "slideshow": {
     "slide_type": "slide"
    }
   },
   "source": [
    "Data provenance – a historical record of the data and its origins – is really really hard."
   ]
  },
  {
   "cell_type": "markdown",
   "metadata": {
    "slideshow": {
     "slide_type": "slide"
    }
   },
   "source": [
    "If you are making \"corrections\" to the data, then each and every one of those corrections should be reported (for databases this is called \"logging\"). Ideally, these reports would live with the data so others could understand how things have changed.\n",
    "\n",
    "If you did change \"Reece\" to \"Reese\", anyone working with the data should be able to confirm those changes."
   ]
  },
  {
   "cell_type": "markdown",
   "metadata": {
    "slideshow": {
     "slide_type": "slide"
    }
   },
   "source": [
    "Suppose now you wanted to use the same street name data set to estimate which street I lived on while growing up. \n",
    "\n",
    "One way to mathematically approach this problem would be to convert the streets in the data set to GPS coordinates, and then to perform a KDE of the PDF for the coordinates of where I lived. \n",
    "\n",
    "This too is a form of wrangling, because the data you have (street names) are not the data you need (coordinates). "
   ]
  },
  {
   "cell_type": "markdown",
   "metadata": {
    "slideshow": {
     "slide_type": "slide"
    }
   },
   "source": [
    "Why harp on this? \n",
    "\n",
    "In practice, data scientists (including astronomers) spend an unreasonable amount of time manipulating and quality checking data (some indsutry experts estimate that up to 80% of their time is spent warnglin').\n",
    "\n",
    "Today, we will work through several examples that require wrangling, while, hopefully, building some strategies to minimize the amount of time you spend on these tasks in the future."
   ]
  },
  {
   "cell_type": "markdown",
   "metadata": {
    "slideshow": {
     "slide_type": "slide"
    }
   },
   "source": [
    "For completeness, I will mention that there is a famous canonical paper about [data wrangling](http://vis.stanford.edu/files/2011-Wrangler-CHI.pdf), which introduces the [`Wrangler`](http://vis.stanford.edu/wrangler/), a tool specifically designed to take heterogeneous (text) data, and provide a set of suggested operations/manipulations to  create a homogenous table amenable to standard statistical analysis. \n",
    "\n",
    "One extremely nice property of the `Wrangler` is that it records every operation performed on the data, ensuring high-fidelity reporting on the data provenance. We should do a better job of this in astronomy."
   ]
  },
  {
   "cell_type": "markdown",
   "metadata": {
    "slideshow": {
     "slide_type": "slide"
    }
   },
   "source": [
    "Today, we are going to focus on `python` solutions to some specific astronomical data sets.\n",
    "\n",
    "Hopefully you learn some tricks to make your work easier in the future."
   ]
  },
  {
   "cell_type": "markdown",
   "metadata": {
    "slideshow": {
     "slide_type": "skip"
    }
   },
   "source": [
    "## Problem 0) An (Incomplete) Introduction to Pandas DataFrames"
   ]
  },
  {
   "cell_type": "markdown",
   "metadata": {
    "slideshow": {
     "slide_type": "skip"
    }
   },
   "source": [
    "**Problem 0a**\n",
    "\n",
    "Read the SDSS data for Problem 4, stored in a csv file called `DSFP_SDSS_spec_train.csv`, into a `pandas` DataFrame called `sdss_spec`."
   ]
  },
  {
   "cell_type": "markdown",
   "metadata": {
    "slideshow": {
     "slide_type": "skip"
    }
   },
   "source": [
    "After yesterday spending a great deal of time describing the value of binary data storage, does the fact that I am now providing a (moderate) amount of data as a plain ascii file mean that I am a bad teacher...\n",
    "\n",
    "*probably*"
   ]
  },
  {
   "cell_type": "code",
   "execution_count": 2,
   "metadata": {
    "slideshow": {
     "slide_type": "skip"
    }
   },
   "outputs": [
    {
     "data": {
      "text/html": [
       "<div>\n",
       "<style scoped>\n",
       "    .dataframe tbody tr th:only-of-type {\n",
       "        vertical-align: middle;\n",
       "    }\n",
       "\n",
       "    .dataframe tbody tr th {\n",
       "        vertical-align: top;\n",
       "    }\n",
       "\n",
       "    .dataframe thead th {\n",
       "        text-align: right;\n",
       "    }\n",
       "</style>\n",
       "<table border=\"1\" class=\"dataframe\">\n",
       "  <thead>\n",
       "    <tr style=\"text-align: right;\">\n",
       "      <th></th>\n",
       "      <th>specObjID</th>\n",
       "      <th>z</th>\n",
       "      <th>type</th>\n",
       "      <th>psfMag_u</th>\n",
       "      <th>psfMag_g</th>\n",
       "      <th>psfMag_r</th>\n",
       "      <th>psfMag_i</th>\n",
       "      <th>psfMag_z</th>\n",
       "      <th>modelMag_u</th>\n",
       "      <th>modelMag_g</th>\n",
       "      <th>...</th>\n",
       "      <th>extinction_i</th>\n",
       "      <th>extinction_z</th>\n",
       "      <th>w1mpro</th>\n",
       "      <th>w1snr</th>\n",
       "      <th>w2mpro</th>\n",
       "      <th>w2snr</th>\n",
       "      <th>w3mpro</th>\n",
       "      <th>w3snr</th>\n",
       "      <th>w4mpro</th>\n",
       "      <th>w4snr</th>\n",
       "    </tr>\n",
       "  </thead>\n",
       "  <tbody>\n",
       "    <tr>\n",
       "      <th>0</th>\n",
       "      <td>299567742770505728</td>\n",
       "      <td>0.071414</td>\n",
       "      <td>ext</td>\n",
       "      <td>20.88291</td>\n",
       "      <td>19.23907</td>\n",
       "      <td>18.56170</td>\n",
       "      <td>18.09715</td>\n",
       "      <td>17.76469</td>\n",
       "      <td>19.62189</td>\n",
       "      <td>18.03702</td>\n",
       "      <td>...</td>\n",
       "      <td>0.061267</td>\n",
       "      <td>0.045572</td>\n",
       "      <td>14.395</td>\n",
       "      <td>21.1</td>\n",
       "      <td>14.236</td>\n",
       "      <td>15.6</td>\n",
       "      <td>11.029</td>\n",
       "      <td>6.8</td>\n",
       "      <td>8.579</td>\n",
       "      <td>-0.9</td>\n",
       "    </tr>\n",
       "    <tr>\n",
       "      <th>1</th>\n",
       "      <td>299568017178650624</td>\n",
       "      <td>0.071380</td>\n",
       "      <td>ext</td>\n",
       "      <td>20.88291</td>\n",
       "      <td>19.23907</td>\n",
       "      <td>18.56170</td>\n",
       "      <td>18.09715</td>\n",
       "      <td>17.76469</td>\n",
       "      <td>19.62189</td>\n",
       "      <td>18.03702</td>\n",
       "      <td>...</td>\n",
       "      <td>0.061267</td>\n",
       "      <td>0.045572</td>\n",
       "      <td>14.395</td>\n",
       "      <td>21.1</td>\n",
       "      <td>14.236</td>\n",
       "      <td>15.6</td>\n",
       "      <td>11.029</td>\n",
       "      <td>6.8</td>\n",
       "      <td>8.579</td>\n",
       "      <td>-0.9</td>\n",
       "    </tr>\n",
       "    <tr>\n",
       "      <th>2</th>\n",
       "      <td>299566643258877952</td>\n",
       "      <td>0.088173</td>\n",
       "      <td>ext</td>\n",
       "      <td>20.84844</td>\n",
       "      <td>18.96040</td>\n",
       "      <td>18.08027</td>\n",
       "      <td>17.62953</td>\n",
       "      <td>17.31857</td>\n",
       "      <td>20.18508</td>\n",
       "      <td>18.26120</td>\n",
       "      <td>...</td>\n",
       "      <td>0.047582</td>\n",
       "      <td>0.035392</td>\n",
       "      <td>14.162</td>\n",
       "      <td>35.0</td>\n",
       "      <td>13.970</td>\n",
       "      <td>22.3</td>\n",
       "      <td>12.233</td>\n",
       "      <td>2.9</td>\n",
       "      <td>9.067</td>\n",
       "      <td>-0.3</td>\n",
       "    </tr>\n",
       "    <tr>\n",
       "      <th>3</th>\n",
       "      <td>299569116690278400</td>\n",
       "      <td>0.088161</td>\n",
       "      <td>ext</td>\n",
       "      <td>20.84844</td>\n",
       "      <td>18.96040</td>\n",
       "      <td>18.08027</td>\n",
       "      <td>17.62953</td>\n",
       "      <td>17.31857</td>\n",
       "      <td>20.18508</td>\n",
       "      <td>18.26120</td>\n",
       "      <td>...</td>\n",
       "      <td>0.047582</td>\n",
       "      <td>0.035392</td>\n",
       "      <td>14.162</td>\n",
       "      <td>35.0</td>\n",
       "      <td>13.970</td>\n",
       "      <td>22.3</td>\n",
       "      <td>12.233</td>\n",
       "      <td>2.9</td>\n",
       "      <td>9.067</td>\n",
       "      <td>-0.3</td>\n",
       "    </tr>\n",
       "    <tr>\n",
       "      <th>4</th>\n",
       "      <td>299568292056557568</td>\n",
       "      <td>0.066539</td>\n",
       "      <td>ext</td>\n",
       "      <td>21.28256</td>\n",
       "      <td>19.61427</td>\n",
       "      <td>18.98529</td>\n",
       "      <td>18.52956</td>\n",
       "      <td>18.26322</td>\n",
       "      <td>20.18081</td>\n",
       "      <td>18.47435</td>\n",
       "      <td>...</td>\n",
       "      <td>0.058709</td>\n",
       "      <td>0.043669</td>\n",
       "      <td>14.734</td>\n",
       "      <td>30.6</td>\n",
       "      <td>14.512</td>\n",
       "      <td>17.6</td>\n",
       "      <td>11.078</td>\n",
       "      <td>9.8</td>\n",
       "      <td>9.054</td>\n",
       "      <td>2.3</td>\n",
       "    </tr>\n",
       "  </tbody>\n",
       "</table>\n",
       "<p>5 rows × 26 columns</p>\n",
       "</div>"
      ],
      "text/plain": [
       "            specObjID         z type  psfMag_u  psfMag_g  psfMag_r  psfMag_i  \\\n",
       "0  299567742770505728  0.071414  ext  20.88291  19.23907  18.56170  18.09715   \n",
       "1  299568017178650624  0.071380  ext  20.88291  19.23907  18.56170  18.09715   \n",
       "2  299566643258877952  0.088173  ext  20.84844  18.96040  18.08027  17.62953   \n",
       "3  299569116690278400  0.088161  ext  20.84844  18.96040  18.08027  17.62953   \n",
       "4  299568292056557568  0.066539  ext  21.28256  19.61427  18.98529  18.52956   \n",
       "\n",
       "   psfMag_z  modelMag_u  modelMag_g  ...  extinction_i  extinction_z  w1mpro  \\\n",
       "0  17.76469    19.62189    18.03702  ...      0.061267      0.045572  14.395   \n",
       "1  17.76469    19.62189    18.03702  ...      0.061267      0.045572  14.395   \n",
       "2  17.31857    20.18508    18.26120  ...      0.047582      0.035392  14.162   \n",
       "3  17.31857    20.18508    18.26120  ...      0.047582      0.035392  14.162   \n",
       "4  18.26322    20.18081    18.47435  ...      0.058709      0.043669  14.734   \n",
       "\n",
       "   w1snr  w2mpro  w2snr  w3mpro  w3snr  w4mpro  w4snr  \n",
       "0   21.1  14.236   15.6  11.029    6.8   8.579   -0.9  \n",
       "1   21.1  14.236   15.6  11.029    6.8   8.579   -0.9  \n",
       "2   35.0  13.970   22.3  12.233    2.9   9.067   -0.3  \n",
       "3   35.0  13.970   22.3  12.233    2.9   9.067   -0.3  \n",
       "4   30.6  14.512   17.6  11.078    9.8   9.054    2.3  \n",
       "\n",
       "[5 rows x 26 columns]"
      ]
     },
     "execution_count": 2,
     "metadata": {},
     "output_type": "execute_result"
    }
   ],
   "source": [
    "sdss_spec = pd.read_csv(\"DSFP_SDSS_spec_train.csv\")\n",
    "sdss_spec.head()"
   ]
  },
  {
   "cell_type": "markdown",
   "metadata": {
    "slideshow": {
     "slide_type": "skip"
    }
   },
   "source": [
    "`pandas` provides many different methods for selecting columns from the DataFrame. Supposing you wanted `psfMag`, you could use any of the following:\n",
    "\n",
    "    sdss_spec['psfMag_g']\n",
    "    sdss_spec[['psfMag_r', 'psfMag_z']]\n",
    "    sdss_spec.psfMag_g\n",
    "\n",
    "(notice that selecting multiple columns requires a list within `[]`)"
   ]
  },
  {
   "cell_type": "markdown",
   "metadata": {
    "slideshow": {
     "slide_type": "skip"
    }
   },
   "source": [
    "**Problem 0b**\n",
    "\n",
    "Plot a histogram of the `psfMag_g` - `modelMag_g` distribution for the data set (which requires a selection of those two columns).\n",
    "\n",
    "Do you notice anything interesting?\n",
    "\n",
    "*Hint* - you may want to use more than the default number of bins (=10)."
   ]
  },
  {
   "cell_type": "code",
   "execution_count": 3,
   "metadata": {
    "slideshow": {
     "slide_type": "skip"
    }
   },
   "outputs": [
    {
     "data": {
      "application/javascript": [
       "/* Put everything inside the global mpl namespace */\n",
       "/* global mpl */\n",
       "window.mpl = {};\n",
       "\n",
       "mpl.get_websocket_type = function () {\n",
       "    if (typeof WebSocket !== 'undefined') {\n",
       "        return WebSocket;\n",
       "    } else if (typeof MozWebSocket !== 'undefined') {\n",
       "        return MozWebSocket;\n",
       "    } else {\n",
       "        alert(\n",
       "            'Your browser does not have WebSocket support. ' +\n",
       "                'Please try Chrome, Safari or Firefox ≥ 6. ' +\n",
       "                'Firefox 4 and 5 are also supported but you ' +\n",
       "                'have to enable WebSockets in about:config.'\n",
       "        );\n",
       "    }\n",
       "};\n",
       "\n",
       "mpl.figure = function (figure_id, websocket, ondownload, parent_element) {\n",
       "    this.id = figure_id;\n",
       "\n",
       "    this.ws = websocket;\n",
       "\n",
       "    this.supports_binary = this.ws.binaryType !== undefined;\n",
       "\n",
       "    if (!this.supports_binary) {\n",
       "        var warnings = document.getElementById('mpl-warnings');\n",
       "        if (warnings) {\n",
       "            warnings.style.display = 'block';\n",
       "            warnings.textContent =\n",
       "                'This browser does not support binary websocket messages. ' +\n",
       "                'Performance may be slow.';\n",
       "        }\n",
       "    }\n",
       "\n",
       "    this.imageObj = new Image();\n",
       "\n",
       "    this.context = undefined;\n",
       "    this.message = undefined;\n",
       "    this.canvas = undefined;\n",
       "    this.rubberband_canvas = undefined;\n",
       "    this.rubberband_context = undefined;\n",
       "    this.format_dropdown = undefined;\n",
       "\n",
       "    this.image_mode = 'full';\n",
       "\n",
       "    this.root = document.createElement('div');\n",
       "    this.root.setAttribute('style', 'display: inline-block');\n",
       "    this._root_extra_style(this.root);\n",
       "\n",
       "    parent_element.appendChild(this.root);\n",
       "\n",
       "    this._init_header(this);\n",
       "    this._init_canvas(this);\n",
       "    this._init_toolbar(this);\n",
       "\n",
       "    var fig = this;\n",
       "\n",
       "    this.waiting = false;\n",
       "\n",
       "    this.ws.onopen = function () {\n",
       "        fig.send_message('supports_binary', { value: fig.supports_binary });\n",
       "        fig.send_message('send_image_mode', {});\n",
       "        if (fig.ratio !== 1) {\n",
       "            fig.send_message('set_device_pixel_ratio', {\n",
       "                device_pixel_ratio: fig.ratio,\n",
       "            });\n",
       "        }\n",
       "        fig.send_message('refresh', {});\n",
       "    };\n",
       "\n",
       "    this.imageObj.onload = function () {\n",
       "        if (fig.image_mode === 'full') {\n",
       "            // Full images could contain transparency (where diff images\n",
       "            // almost always do), so we need to clear the canvas so that\n",
       "            // there is no ghosting.\n",
       "            fig.context.clearRect(0, 0, fig.canvas.width, fig.canvas.height);\n",
       "        }\n",
       "        fig.context.drawImage(fig.imageObj, 0, 0);\n",
       "    };\n",
       "\n",
       "    this.imageObj.onunload = function () {\n",
       "        fig.ws.close();\n",
       "    };\n",
       "\n",
       "    this.ws.onmessage = this._make_on_message_function(this);\n",
       "\n",
       "    this.ondownload = ondownload;\n",
       "};\n",
       "\n",
       "mpl.figure.prototype._init_header = function () {\n",
       "    var titlebar = document.createElement('div');\n",
       "    titlebar.classList =\n",
       "        'ui-dialog-titlebar ui-widget-header ui-corner-all ui-helper-clearfix';\n",
       "    var titletext = document.createElement('div');\n",
       "    titletext.classList = 'ui-dialog-title';\n",
       "    titletext.setAttribute(\n",
       "        'style',\n",
       "        'width: 100%; text-align: center; padding: 3px;'\n",
       "    );\n",
       "    titlebar.appendChild(titletext);\n",
       "    this.root.appendChild(titlebar);\n",
       "    this.header = titletext;\n",
       "};\n",
       "\n",
       "mpl.figure.prototype._canvas_extra_style = function (_canvas_div) {};\n",
       "\n",
       "mpl.figure.prototype._root_extra_style = function (_canvas_div) {};\n",
       "\n",
       "mpl.figure.prototype._init_canvas = function () {\n",
       "    var fig = this;\n",
       "\n",
       "    var canvas_div = (this.canvas_div = document.createElement('div'));\n",
       "    canvas_div.setAttribute(\n",
       "        'style',\n",
       "        'border: 1px solid #ddd;' +\n",
       "            'box-sizing: content-box;' +\n",
       "            'clear: both;' +\n",
       "            'min-height: 1px;' +\n",
       "            'min-width: 1px;' +\n",
       "            'outline: 0;' +\n",
       "            'overflow: hidden;' +\n",
       "            'position: relative;' +\n",
       "            'resize: both;'\n",
       "    );\n",
       "\n",
       "    function on_keyboard_event_closure(name) {\n",
       "        return function (event) {\n",
       "            return fig.key_event(event, name);\n",
       "        };\n",
       "    }\n",
       "\n",
       "    canvas_div.addEventListener(\n",
       "        'keydown',\n",
       "        on_keyboard_event_closure('key_press')\n",
       "    );\n",
       "    canvas_div.addEventListener(\n",
       "        'keyup',\n",
       "        on_keyboard_event_closure('key_release')\n",
       "    );\n",
       "\n",
       "    this._canvas_extra_style(canvas_div);\n",
       "    this.root.appendChild(canvas_div);\n",
       "\n",
       "    var canvas = (this.canvas = document.createElement('canvas'));\n",
       "    canvas.classList.add('mpl-canvas');\n",
       "    canvas.setAttribute('style', 'box-sizing: content-box;');\n",
       "\n",
       "    this.context = canvas.getContext('2d');\n",
       "\n",
       "    var backingStore =\n",
       "        this.context.backingStorePixelRatio ||\n",
       "        this.context.webkitBackingStorePixelRatio ||\n",
       "        this.context.mozBackingStorePixelRatio ||\n",
       "        this.context.msBackingStorePixelRatio ||\n",
       "        this.context.oBackingStorePixelRatio ||\n",
       "        this.context.backingStorePixelRatio ||\n",
       "        1;\n",
       "\n",
       "    this.ratio = (window.devicePixelRatio || 1) / backingStore;\n",
       "\n",
       "    var rubberband_canvas = (this.rubberband_canvas = document.createElement(\n",
       "        'canvas'\n",
       "    ));\n",
       "    rubberband_canvas.setAttribute(\n",
       "        'style',\n",
       "        'box-sizing: content-box; position: absolute; left: 0; top: 0; z-index: 1;'\n",
       "    );\n",
       "\n",
       "    // Apply a ponyfill if ResizeObserver is not implemented by browser.\n",
       "    if (this.ResizeObserver === undefined) {\n",
       "        if (window.ResizeObserver !== undefined) {\n",
       "            this.ResizeObserver = window.ResizeObserver;\n",
       "        } else {\n",
       "            var obs = _JSXTOOLS_RESIZE_OBSERVER({});\n",
       "            this.ResizeObserver = obs.ResizeObserver;\n",
       "        }\n",
       "    }\n",
       "\n",
       "    this.resizeObserverInstance = new this.ResizeObserver(function (entries) {\n",
       "        var nentries = entries.length;\n",
       "        for (var i = 0; i < nentries; i++) {\n",
       "            var entry = entries[i];\n",
       "            var width, height;\n",
       "            if (entry.contentBoxSize) {\n",
       "                if (entry.contentBoxSize instanceof Array) {\n",
       "                    // Chrome 84 implements new version of spec.\n",
       "                    width = entry.contentBoxSize[0].inlineSize;\n",
       "                    height = entry.contentBoxSize[0].blockSize;\n",
       "                } else {\n",
       "                    // Firefox implements old version of spec.\n",
       "                    width = entry.contentBoxSize.inlineSize;\n",
       "                    height = entry.contentBoxSize.blockSize;\n",
       "                }\n",
       "            } else {\n",
       "                // Chrome <84 implements even older version of spec.\n",
       "                width = entry.contentRect.width;\n",
       "                height = entry.contentRect.height;\n",
       "            }\n",
       "\n",
       "            // Keep the size of the canvas and rubber band canvas in sync with\n",
       "            // the canvas container.\n",
       "            if (entry.devicePixelContentBoxSize) {\n",
       "                // Chrome 84 implements new version of spec.\n",
       "                canvas.setAttribute(\n",
       "                    'width',\n",
       "                    entry.devicePixelContentBoxSize[0].inlineSize\n",
       "                );\n",
       "                canvas.setAttribute(\n",
       "                    'height',\n",
       "                    entry.devicePixelContentBoxSize[0].blockSize\n",
       "                );\n",
       "            } else {\n",
       "                canvas.setAttribute('width', width * fig.ratio);\n",
       "                canvas.setAttribute('height', height * fig.ratio);\n",
       "            }\n",
       "            canvas.setAttribute(\n",
       "                'style',\n",
       "                'width: ' + width + 'px; height: ' + height + 'px;'\n",
       "            );\n",
       "\n",
       "            rubberband_canvas.setAttribute('width', width);\n",
       "            rubberband_canvas.setAttribute('height', height);\n",
       "\n",
       "            // And update the size in Python. We ignore the initial 0/0 size\n",
       "            // that occurs as the element is placed into the DOM, which should\n",
       "            // otherwise not happen due to the minimum size styling.\n",
       "            if (fig.ws.readyState == 1 && width != 0 && height != 0) {\n",
       "                fig.request_resize(width, height);\n",
       "            }\n",
       "        }\n",
       "    });\n",
       "    this.resizeObserverInstance.observe(canvas_div);\n",
       "\n",
       "    function on_mouse_event_closure(name) {\n",
       "        return function (event) {\n",
       "            return fig.mouse_event(event, name);\n",
       "        };\n",
       "    }\n",
       "\n",
       "    rubberband_canvas.addEventListener(\n",
       "        'mousedown',\n",
       "        on_mouse_event_closure('button_press')\n",
       "    );\n",
       "    rubberband_canvas.addEventListener(\n",
       "        'mouseup',\n",
       "        on_mouse_event_closure('button_release')\n",
       "    );\n",
       "    rubberband_canvas.addEventListener(\n",
       "        'dblclick',\n",
       "        on_mouse_event_closure('dblclick')\n",
       "    );\n",
       "    // Throttle sequential mouse events to 1 every 20ms.\n",
       "    rubberband_canvas.addEventListener(\n",
       "        'mousemove',\n",
       "        on_mouse_event_closure('motion_notify')\n",
       "    );\n",
       "\n",
       "    rubberband_canvas.addEventListener(\n",
       "        'mouseenter',\n",
       "        on_mouse_event_closure('figure_enter')\n",
       "    );\n",
       "    rubberband_canvas.addEventListener(\n",
       "        'mouseleave',\n",
       "        on_mouse_event_closure('figure_leave')\n",
       "    );\n",
       "\n",
       "    canvas_div.addEventListener('wheel', function (event) {\n",
       "        if (event.deltaY < 0) {\n",
       "            event.step = 1;\n",
       "        } else {\n",
       "            event.step = -1;\n",
       "        }\n",
       "        on_mouse_event_closure('scroll')(event);\n",
       "    });\n",
       "\n",
       "    canvas_div.appendChild(canvas);\n",
       "    canvas_div.appendChild(rubberband_canvas);\n",
       "\n",
       "    this.rubberband_context = rubberband_canvas.getContext('2d');\n",
       "    this.rubberband_context.strokeStyle = '#000000';\n",
       "\n",
       "    this._resize_canvas = function (width, height, forward) {\n",
       "        if (forward) {\n",
       "            canvas_div.style.width = width + 'px';\n",
       "            canvas_div.style.height = height + 'px';\n",
       "        }\n",
       "    };\n",
       "\n",
       "    // Disable right mouse context menu.\n",
       "    this.rubberband_canvas.addEventListener('contextmenu', function (_e) {\n",
       "        event.preventDefault();\n",
       "        return false;\n",
       "    });\n",
       "\n",
       "    function set_focus() {\n",
       "        canvas.focus();\n",
       "        canvas_div.focus();\n",
       "    }\n",
       "\n",
       "    window.setTimeout(set_focus, 100);\n",
       "};\n",
       "\n",
       "mpl.figure.prototype._init_toolbar = function () {\n",
       "    var fig = this;\n",
       "\n",
       "    var toolbar = document.createElement('div');\n",
       "    toolbar.classList = 'mpl-toolbar';\n",
       "    this.root.appendChild(toolbar);\n",
       "\n",
       "    function on_click_closure(name) {\n",
       "        return function (_event) {\n",
       "            return fig.toolbar_button_onclick(name);\n",
       "        };\n",
       "    }\n",
       "\n",
       "    function on_mouseover_closure(tooltip) {\n",
       "        return function (event) {\n",
       "            if (!event.currentTarget.disabled) {\n",
       "                return fig.toolbar_button_onmouseover(tooltip);\n",
       "            }\n",
       "        };\n",
       "    }\n",
       "\n",
       "    fig.buttons = {};\n",
       "    var buttonGroup = document.createElement('div');\n",
       "    buttonGroup.classList = 'mpl-button-group';\n",
       "    for (var toolbar_ind in mpl.toolbar_items) {\n",
       "        var name = mpl.toolbar_items[toolbar_ind][0];\n",
       "        var tooltip = mpl.toolbar_items[toolbar_ind][1];\n",
       "        var image = mpl.toolbar_items[toolbar_ind][2];\n",
       "        var method_name = mpl.toolbar_items[toolbar_ind][3];\n",
       "\n",
       "        if (!name) {\n",
       "            /* Instead of a spacer, we start a new button group. */\n",
       "            if (buttonGroup.hasChildNodes()) {\n",
       "                toolbar.appendChild(buttonGroup);\n",
       "            }\n",
       "            buttonGroup = document.createElement('div');\n",
       "            buttonGroup.classList = 'mpl-button-group';\n",
       "            continue;\n",
       "        }\n",
       "\n",
       "        var button = (fig.buttons[name] = document.createElement('button'));\n",
       "        button.classList = 'mpl-widget';\n",
       "        button.setAttribute('role', 'button');\n",
       "        button.setAttribute('aria-disabled', 'false');\n",
       "        button.addEventListener('click', on_click_closure(method_name));\n",
       "        button.addEventListener('mouseover', on_mouseover_closure(tooltip));\n",
       "\n",
       "        var icon_img = document.createElement('img');\n",
       "        icon_img.src = '_images/' + image + '.png';\n",
       "        icon_img.srcset = '_images/' + image + '_large.png 2x';\n",
       "        icon_img.alt = tooltip;\n",
       "        button.appendChild(icon_img);\n",
       "\n",
       "        buttonGroup.appendChild(button);\n",
       "    }\n",
       "\n",
       "    if (buttonGroup.hasChildNodes()) {\n",
       "        toolbar.appendChild(buttonGroup);\n",
       "    }\n",
       "\n",
       "    var fmt_picker = document.createElement('select');\n",
       "    fmt_picker.classList = 'mpl-widget';\n",
       "    toolbar.appendChild(fmt_picker);\n",
       "    this.format_dropdown = fmt_picker;\n",
       "\n",
       "    for (var ind in mpl.extensions) {\n",
       "        var fmt = mpl.extensions[ind];\n",
       "        var option = document.createElement('option');\n",
       "        option.selected = fmt === mpl.default_extension;\n",
       "        option.innerHTML = fmt;\n",
       "        fmt_picker.appendChild(option);\n",
       "    }\n",
       "\n",
       "    var status_bar = document.createElement('span');\n",
       "    status_bar.classList = 'mpl-message';\n",
       "    toolbar.appendChild(status_bar);\n",
       "    this.message = status_bar;\n",
       "};\n",
       "\n",
       "mpl.figure.prototype.request_resize = function (x_pixels, y_pixels) {\n",
       "    // Request matplotlib to resize the figure. Matplotlib will then trigger a resize in the client,\n",
       "    // which will in turn request a refresh of the image.\n",
       "    this.send_message('resize', { width: x_pixels, height: y_pixels });\n",
       "};\n",
       "\n",
       "mpl.figure.prototype.send_message = function (type, properties) {\n",
       "    properties['type'] = type;\n",
       "    properties['figure_id'] = this.id;\n",
       "    this.ws.send(JSON.stringify(properties));\n",
       "};\n",
       "\n",
       "mpl.figure.prototype.send_draw_message = function () {\n",
       "    if (!this.waiting) {\n",
       "        this.waiting = true;\n",
       "        this.ws.send(JSON.stringify({ type: 'draw', figure_id: this.id }));\n",
       "    }\n",
       "};\n",
       "\n",
       "mpl.figure.prototype.handle_save = function (fig, _msg) {\n",
       "    var format_dropdown = fig.format_dropdown;\n",
       "    var format = format_dropdown.options[format_dropdown.selectedIndex].value;\n",
       "    fig.ondownload(fig, format);\n",
       "};\n",
       "\n",
       "mpl.figure.prototype.handle_resize = function (fig, msg) {\n",
       "    var size = msg['size'];\n",
       "    if (size[0] !== fig.canvas.width || size[1] !== fig.canvas.height) {\n",
       "        fig._resize_canvas(size[0], size[1], msg['forward']);\n",
       "        fig.send_message('refresh', {});\n",
       "    }\n",
       "};\n",
       "\n",
       "mpl.figure.prototype.handle_rubberband = function (fig, msg) {\n",
       "    var x0 = msg['x0'] / fig.ratio;\n",
       "    var y0 = (fig.canvas.height - msg['y0']) / fig.ratio;\n",
       "    var x1 = msg['x1'] / fig.ratio;\n",
       "    var y1 = (fig.canvas.height - msg['y1']) / fig.ratio;\n",
       "    x0 = Math.floor(x0) + 0.5;\n",
       "    y0 = Math.floor(y0) + 0.5;\n",
       "    x1 = Math.floor(x1) + 0.5;\n",
       "    y1 = Math.floor(y1) + 0.5;\n",
       "    var min_x = Math.min(x0, x1);\n",
       "    var min_y = Math.min(y0, y1);\n",
       "    var width = Math.abs(x1 - x0);\n",
       "    var height = Math.abs(y1 - y0);\n",
       "\n",
       "    fig.rubberband_context.clearRect(\n",
       "        0,\n",
       "        0,\n",
       "        fig.canvas.width / fig.ratio,\n",
       "        fig.canvas.height / fig.ratio\n",
       "    );\n",
       "\n",
       "    fig.rubberband_context.strokeRect(min_x, min_y, width, height);\n",
       "};\n",
       "\n",
       "mpl.figure.prototype.handle_figure_label = function (fig, msg) {\n",
       "    // Updates the figure title.\n",
       "    fig.header.textContent = msg['label'];\n",
       "};\n",
       "\n",
       "mpl.figure.prototype.handle_cursor = function (fig, msg) {\n",
       "    fig.rubberband_canvas.style.cursor = msg['cursor'];\n",
       "};\n",
       "\n",
       "mpl.figure.prototype.handle_message = function (fig, msg) {\n",
       "    fig.message.textContent = msg['message'];\n",
       "};\n",
       "\n",
       "mpl.figure.prototype.handle_draw = function (fig, _msg) {\n",
       "    // Request the server to send over a new figure.\n",
       "    fig.send_draw_message();\n",
       "};\n",
       "\n",
       "mpl.figure.prototype.handle_image_mode = function (fig, msg) {\n",
       "    fig.image_mode = msg['mode'];\n",
       "};\n",
       "\n",
       "mpl.figure.prototype.handle_history_buttons = function (fig, msg) {\n",
       "    for (var key in msg) {\n",
       "        if (!(key in fig.buttons)) {\n",
       "            continue;\n",
       "        }\n",
       "        fig.buttons[key].disabled = !msg[key];\n",
       "        fig.buttons[key].setAttribute('aria-disabled', !msg[key]);\n",
       "    }\n",
       "};\n",
       "\n",
       "mpl.figure.prototype.handle_navigate_mode = function (fig, msg) {\n",
       "    if (msg['mode'] === 'PAN') {\n",
       "        fig.buttons['Pan'].classList.add('active');\n",
       "        fig.buttons['Zoom'].classList.remove('active');\n",
       "    } else if (msg['mode'] === 'ZOOM') {\n",
       "        fig.buttons['Pan'].classList.remove('active');\n",
       "        fig.buttons['Zoom'].classList.add('active');\n",
       "    } else {\n",
       "        fig.buttons['Pan'].classList.remove('active');\n",
       "        fig.buttons['Zoom'].classList.remove('active');\n",
       "    }\n",
       "};\n",
       "\n",
       "mpl.figure.prototype.updated_canvas_event = function () {\n",
       "    // Called whenever the canvas gets updated.\n",
       "    this.send_message('ack', {});\n",
       "};\n",
       "\n",
       "// A function to construct a web socket function for onmessage handling.\n",
       "// Called in the figure constructor.\n",
       "mpl.figure.prototype._make_on_message_function = function (fig) {\n",
       "    return function socket_on_message(evt) {\n",
       "        if (evt.data instanceof Blob) {\n",
       "            var img = evt.data;\n",
       "            if (img.type !== 'image/png') {\n",
       "                /* FIXME: We get \"Resource interpreted as Image but\n",
       "                 * transferred with MIME type text/plain:\" errors on\n",
       "                 * Chrome.  But how to set the MIME type?  It doesn't seem\n",
       "                 * to be part of the websocket stream */\n",
       "                img.type = 'image/png';\n",
       "            }\n",
       "\n",
       "            /* Free the memory for the previous frames */\n",
       "            if (fig.imageObj.src) {\n",
       "                (window.URL || window.webkitURL).revokeObjectURL(\n",
       "                    fig.imageObj.src\n",
       "                );\n",
       "            }\n",
       "\n",
       "            fig.imageObj.src = (window.URL || window.webkitURL).createObjectURL(\n",
       "                img\n",
       "            );\n",
       "            fig.updated_canvas_event();\n",
       "            fig.waiting = false;\n",
       "            return;\n",
       "        } else if (\n",
       "            typeof evt.data === 'string' &&\n",
       "            evt.data.slice(0, 21) === 'data:image/png;base64'\n",
       "        ) {\n",
       "            fig.imageObj.src = evt.data;\n",
       "            fig.updated_canvas_event();\n",
       "            fig.waiting = false;\n",
       "            return;\n",
       "        }\n",
       "\n",
       "        var msg = JSON.parse(evt.data);\n",
       "        var msg_type = msg['type'];\n",
       "\n",
       "        // Call the  \"handle_{type}\" callback, which takes\n",
       "        // the figure and JSON message as its only arguments.\n",
       "        try {\n",
       "            var callback = fig['handle_' + msg_type];\n",
       "        } catch (e) {\n",
       "            console.log(\n",
       "                \"No handler for the '\" + msg_type + \"' message type: \",\n",
       "                msg\n",
       "            );\n",
       "            return;\n",
       "        }\n",
       "\n",
       "        if (callback) {\n",
       "            try {\n",
       "                // console.log(\"Handling '\" + msg_type + \"' message: \", msg);\n",
       "                callback(fig, msg);\n",
       "            } catch (e) {\n",
       "                console.log(\n",
       "                    \"Exception inside the 'handler_\" + msg_type + \"' callback:\",\n",
       "                    e,\n",
       "                    e.stack,\n",
       "                    msg\n",
       "                );\n",
       "            }\n",
       "        }\n",
       "    };\n",
       "};\n",
       "\n",
       "// from https://stackoverflow.com/questions/1114465/getting-mouse-location-in-canvas\n",
       "mpl.findpos = function (e) {\n",
       "    //this section is from http://www.quirksmode.org/js/events_properties.html\n",
       "    var targ;\n",
       "    if (!e) {\n",
       "        e = window.event;\n",
       "    }\n",
       "    if (e.target) {\n",
       "        targ = e.target;\n",
       "    } else if (e.srcElement) {\n",
       "        targ = e.srcElement;\n",
       "    }\n",
       "    if (targ.nodeType === 3) {\n",
       "        // defeat Safari bug\n",
       "        targ = targ.parentNode;\n",
       "    }\n",
       "\n",
       "    // pageX,Y are the mouse positions relative to the document\n",
       "    var boundingRect = targ.getBoundingClientRect();\n",
       "    var x = e.pageX - (boundingRect.left + document.body.scrollLeft);\n",
       "    var y = e.pageY - (boundingRect.top + document.body.scrollTop);\n",
       "\n",
       "    return { x: x, y: y };\n",
       "};\n",
       "\n",
       "/*\n",
       " * return a copy of an object with only non-object keys\n",
       " * we need this to avoid circular references\n",
       " * https://stackoverflow.com/a/24161582/3208463\n",
       " */\n",
       "function simpleKeys(original) {\n",
       "    return Object.keys(original).reduce(function (obj, key) {\n",
       "        if (typeof original[key] !== 'object') {\n",
       "            obj[key] = original[key];\n",
       "        }\n",
       "        return obj;\n",
       "    }, {});\n",
       "}\n",
       "\n",
       "mpl.figure.prototype.mouse_event = function (event, name) {\n",
       "    var canvas_pos = mpl.findpos(event);\n",
       "\n",
       "    if (name === 'button_press') {\n",
       "        this.canvas.focus();\n",
       "        this.canvas_div.focus();\n",
       "    }\n",
       "\n",
       "    var x = canvas_pos.x * this.ratio;\n",
       "    var y = canvas_pos.y * this.ratio;\n",
       "\n",
       "    this.send_message(name, {\n",
       "        x: x,\n",
       "        y: y,\n",
       "        button: event.button,\n",
       "        step: event.step,\n",
       "        guiEvent: simpleKeys(event),\n",
       "    });\n",
       "\n",
       "    /* This prevents the web browser from automatically changing to\n",
       "     * the text insertion cursor when the button is pressed.  We want\n",
       "     * to control all of the cursor setting manually through the\n",
       "     * 'cursor' event from matplotlib */\n",
       "    event.preventDefault();\n",
       "    return false;\n",
       "};\n",
       "\n",
       "mpl.figure.prototype._key_event_extra = function (_event, _name) {\n",
       "    // Handle any extra behaviour associated with a key event\n",
       "};\n",
       "\n",
       "mpl.figure.prototype.key_event = function (event, name) {\n",
       "    // Prevent repeat events\n",
       "    if (name === 'key_press') {\n",
       "        if (event.key === this._key) {\n",
       "            return;\n",
       "        } else {\n",
       "            this._key = event.key;\n",
       "        }\n",
       "    }\n",
       "    if (name === 'key_release') {\n",
       "        this._key = null;\n",
       "    }\n",
       "\n",
       "    var value = '';\n",
       "    if (event.ctrlKey && event.key !== 'Control') {\n",
       "        value += 'ctrl+';\n",
       "    }\n",
       "    else if (event.altKey && event.key !== 'Alt') {\n",
       "        value += 'alt+';\n",
       "    }\n",
       "    else if (event.shiftKey && event.key !== 'Shift') {\n",
       "        value += 'shift+';\n",
       "    }\n",
       "\n",
       "    value += 'k' + event.key;\n",
       "\n",
       "    this._key_event_extra(event, name);\n",
       "\n",
       "    this.send_message(name, { key: value, guiEvent: simpleKeys(event) });\n",
       "    return false;\n",
       "};\n",
       "\n",
       "mpl.figure.prototype.toolbar_button_onclick = function (name) {\n",
       "    if (name === 'download') {\n",
       "        this.handle_save(this, null);\n",
       "    } else {\n",
       "        this.send_message('toolbar_button', { name: name });\n",
       "    }\n",
       "};\n",
       "\n",
       "mpl.figure.prototype.toolbar_button_onmouseover = function (tooltip) {\n",
       "    this.message.textContent = tooltip;\n",
       "};\n",
       "\n",
       "///////////////// REMAINING CONTENT GENERATED BY embed_js.py /////////////////\n",
       "// prettier-ignore\n",
       "var _JSXTOOLS_RESIZE_OBSERVER=function(A){var t,i=new WeakMap,n=new WeakMap,a=new WeakMap,r=new WeakMap,o=new Set;function s(e){if(!(this instanceof s))throw new TypeError(\"Constructor requires 'new' operator\");i.set(this,e)}function h(){throw new TypeError(\"Function is not a constructor\")}function c(e,t,i,n){e=0 in arguments?Number(arguments[0]):0,t=1 in arguments?Number(arguments[1]):0,i=2 in arguments?Number(arguments[2]):0,n=3 in arguments?Number(arguments[3]):0,this.right=(this.x=this.left=e)+(this.width=i),this.bottom=(this.y=this.top=t)+(this.height=n),Object.freeze(this)}function d(){t=requestAnimationFrame(d);var s=new WeakMap,p=new Set;o.forEach((function(t){r.get(t).forEach((function(i){var r=t instanceof window.SVGElement,o=a.get(t),d=r?0:parseFloat(o.paddingTop),f=r?0:parseFloat(o.paddingRight),l=r?0:parseFloat(o.paddingBottom),u=r?0:parseFloat(o.paddingLeft),g=r?0:parseFloat(o.borderTopWidth),m=r?0:parseFloat(o.borderRightWidth),w=r?0:parseFloat(o.borderBottomWidth),b=u+f,F=d+l,v=(r?0:parseFloat(o.borderLeftWidth))+m,W=g+w,y=r?0:t.offsetHeight-W-t.clientHeight,E=r?0:t.offsetWidth-v-t.clientWidth,R=b+v,z=F+W,M=r?t.width:parseFloat(o.width)-R-E,O=r?t.height:parseFloat(o.height)-z-y;if(n.has(t)){var k=n.get(t);if(k[0]===M&&k[1]===O)return}n.set(t,[M,O]);var S=Object.create(h.prototype);S.target=t,S.contentRect=new c(u,d,M,O),s.has(i)||(s.set(i,[]),p.add(i)),s.get(i).push(S)}))})),p.forEach((function(e){i.get(e).call(e,s.get(e),e)}))}return s.prototype.observe=function(i){if(i instanceof window.Element){r.has(i)||(r.set(i,new Set),o.add(i),a.set(i,window.getComputedStyle(i)));var n=r.get(i);n.has(this)||n.add(this),cancelAnimationFrame(t),t=requestAnimationFrame(d)}},s.prototype.unobserve=function(i){if(i instanceof window.Element&&r.has(i)){var n=r.get(i);n.has(this)&&(n.delete(this),n.size||(r.delete(i),o.delete(i))),n.size||r.delete(i),o.size||cancelAnimationFrame(t)}},A.DOMRectReadOnly=c,A.ResizeObserver=s,A.ResizeObserverEntry=h,A}; // eslint-disable-line\n",
       "mpl.toolbar_items = [[\"Home\", \"Reset original view\", \"fa fa-home icon-home\", \"home\"], [\"Back\", \"Back to previous view\", \"fa fa-arrow-left icon-arrow-left\", \"back\"], [\"Forward\", \"Forward to next view\", \"fa fa-arrow-right icon-arrow-right\", \"forward\"], [\"\", \"\", \"\", \"\"], [\"Pan\", \"Left button pans, Right button zooms\\nx/y fixes axis, CTRL fixes aspect\", \"fa fa-arrows icon-move\", \"pan\"], [\"Zoom\", \"Zoom to rectangle\\nx/y fixes axis\", \"fa fa-square-o icon-check-empty\", \"zoom\"], [\"\", \"\", \"\", \"\"], [\"Download\", \"Download plot\", \"fa fa-floppy-o icon-save\", \"download\"]];\n",
       "\n",
       "mpl.extensions = [\"eps\", \"jpeg\", \"pgf\", \"pdf\", \"png\", \"ps\", \"raw\", \"svg\", \"tif\"];\n",
       "\n",
       "mpl.default_extension = \"png\";/* global mpl */\n",
       "\n",
       "var comm_websocket_adapter = function (comm) {\n",
       "    // Create a \"websocket\"-like object which calls the given IPython comm\n",
       "    // object with the appropriate methods. Currently this is a non binary\n",
       "    // socket, so there is still some room for performance tuning.\n",
       "    var ws = {};\n",
       "\n",
       "    ws.binaryType = comm.kernel.ws.binaryType;\n",
       "    ws.readyState = comm.kernel.ws.readyState;\n",
       "    function updateReadyState(_event) {\n",
       "        if (comm.kernel.ws) {\n",
       "            ws.readyState = comm.kernel.ws.readyState;\n",
       "        } else {\n",
       "            ws.readyState = 3; // Closed state.\n",
       "        }\n",
       "    }\n",
       "    comm.kernel.ws.addEventListener('open', updateReadyState);\n",
       "    comm.kernel.ws.addEventListener('close', updateReadyState);\n",
       "    comm.kernel.ws.addEventListener('error', updateReadyState);\n",
       "\n",
       "    ws.close = function () {\n",
       "        comm.close();\n",
       "    };\n",
       "    ws.send = function (m) {\n",
       "        //console.log('sending', m);\n",
       "        comm.send(m);\n",
       "    };\n",
       "    // Register the callback with on_msg.\n",
       "    comm.on_msg(function (msg) {\n",
       "        //console.log('receiving', msg['content']['data'], msg);\n",
       "        var data = msg['content']['data'];\n",
       "        if (data['blob'] !== undefined) {\n",
       "            data = {\n",
       "                data: new Blob(msg['buffers'], { type: data['blob'] }),\n",
       "            };\n",
       "        }\n",
       "        // Pass the mpl event to the overridden (by mpl) onmessage function.\n",
       "        ws.onmessage(data);\n",
       "    });\n",
       "    return ws;\n",
       "};\n",
       "\n",
       "mpl.mpl_figure_comm = function (comm, msg) {\n",
       "    // This is the function which gets called when the mpl process\n",
       "    // starts-up an IPython Comm through the \"matplotlib\" channel.\n",
       "\n",
       "    var id = msg.content.data.id;\n",
       "    // Get hold of the div created by the display call when the Comm\n",
       "    // socket was opened in Python.\n",
       "    var element = document.getElementById(id);\n",
       "    var ws_proxy = comm_websocket_adapter(comm);\n",
       "\n",
       "    function ondownload(figure, _format) {\n",
       "        window.open(figure.canvas.toDataURL());\n",
       "    }\n",
       "\n",
       "    var fig = new mpl.figure(id, ws_proxy, ondownload, element);\n",
       "\n",
       "    // Call onopen now - mpl needs it, as it is assuming we've passed it a real\n",
       "    // web socket which is closed, not our websocket->open comm proxy.\n",
       "    ws_proxy.onopen();\n",
       "\n",
       "    fig.parent_element = element;\n",
       "    fig.cell_info = mpl.find_output_cell(\"<div id='\" + id + \"'></div>\");\n",
       "    if (!fig.cell_info) {\n",
       "        console.error('Failed to find cell for figure', id, fig);\n",
       "        return;\n",
       "    }\n",
       "    fig.cell_info[0].output_area.element.on(\n",
       "        'cleared',\n",
       "        { fig: fig },\n",
       "        fig._remove_fig_handler\n",
       "    );\n",
       "};\n",
       "\n",
       "mpl.figure.prototype.handle_close = function (fig, msg) {\n",
       "    var width = fig.canvas.width / fig.ratio;\n",
       "    fig.cell_info[0].output_area.element.off(\n",
       "        'cleared',\n",
       "        fig._remove_fig_handler\n",
       "    );\n",
       "    fig.resizeObserverInstance.unobserve(fig.canvas_div);\n",
       "\n",
       "    // Update the output cell to use the data from the current canvas.\n",
       "    fig.push_to_output();\n",
       "    var dataURL = fig.canvas.toDataURL();\n",
       "    // Re-enable the keyboard manager in IPython - without this line, in FF,\n",
       "    // the notebook keyboard shortcuts fail.\n",
       "    IPython.keyboard_manager.enable();\n",
       "    fig.parent_element.innerHTML =\n",
       "        '<img src=\"' + dataURL + '\" width=\"' + width + '\">';\n",
       "    fig.close_ws(fig, msg);\n",
       "};\n",
       "\n",
       "mpl.figure.prototype.close_ws = function (fig, msg) {\n",
       "    fig.send_message('closing', msg);\n",
       "    // fig.ws.close()\n",
       "};\n",
       "\n",
       "mpl.figure.prototype.push_to_output = function (_remove_interactive) {\n",
       "    // Turn the data on the canvas into data in the output cell.\n",
       "    var width = this.canvas.width / this.ratio;\n",
       "    var dataURL = this.canvas.toDataURL();\n",
       "    this.cell_info[1]['text/html'] =\n",
       "        '<img src=\"' + dataURL + '\" width=\"' + width + '\">';\n",
       "};\n",
       "\n",
       "mpl.figure.prototype.updated_canvas_event = function () {\n",
       "    // Tell IPython that the notebook contents must change.\n",
       "    IPython.notebook.set_dirty(true);\n",
       "    this.send_message('ack', {});\n",
       "    var fig = this;\n",
       "    // Wait a second, then push the new image to the DOM so\n",
       "    // that it is saved nicely (might be nice to debounce this).\n",
       "    setTimeout(function () {\n",
       "        fig.push_to_output();\n",
       "    }, 1000);\n",
       "};\n",
       "\n",
       "mpl.figure.prototype._init_toolbar = function () {\n",
       "    var fig = this;\n",
       "\n",
       "    var toolbar = document.createElement('div');\n",
       "    toolbar.classList = 'btn-toolbar';\n",
       "    this.root.appendChild(toolbar);\n",
       "\n",
       "    function on_click_closure(name) {\n",
       "        return function (_event) {\n",
       "            return fig.toolbar_button_onclick(name);\n",
       "        };\n",
       "    }\n",
       "\n",
       "    function on_mouseover_closure(tooltip) {\n",
       "        return function (event) {\n",
       "            if (!event.currentTarget.disabled) {\n",
       "                return fig.toolbar_button_onmouseover(tooltip);\n",
       "            }\n",
       "        };\n",
       "    }\n",
       "\n",
       "    fig.buttons = {};\n",
       "    var buttonGroup = document.createElement('div');\n",
       "    buttonGroup.classList = 'btn-group';\n",
       "    var button;\n",
       "    for (var toolbar_ind in mpl.toolbar_items) {\n",
       "        var name = mpl.toolbar_items[toolbar_ind][0];\n",
       "        var tooltip = mpl.toolbar_items[toolbar_ind][1];\n",
       "        var image = mpl.toolbar_items[toolbar_ind][2];\n",
       "        var method_name = mpl.toolbar_items[toolbar_ind][3];\n",
       "\n",
       "        if (!name) {\n",
       "            /* Instead of a spacer, we start a new button group. */\n",
       "            if (buttonGroup.hasChildNodes()) {\n",
       "                toolbar.appendChild(buttonGroup);\n",
       "            }\n",
       "            buttonGroup = document.createElement('div');\n",
       "            buttonGroup.classList = 'btn-group';\n",
       "            continue;\n",
       "        }\n",
       "\n",
       "        button = fig.buttons[name] = document.createElement('button');\n",
       "        button.classList = 'btn btn-default';\n",
       "        button.href = '#';\n",
       "        button.title = name;\n",
       "        button.innerHTML = '<i class=\"fa ' + image + ' fa-lg\"></i>';\n",
       "        button.addEventListener('click', on_click_closure(method_name));\n",
       "        button.addEventListener('mouseover', on_mouseover_closure(tooltip));\n",
       "        buttonGroup.appendChild(button);\n",
       "    }\n",
       "\n",
       "    if (buttonGroup.hasChildNodes()) {\n",
       "        toolbar.appendChild(buttonGroup);\n",
       "    }\n",
       "\n",
       "    // Add the status bar.\n",
       "    var status_bar = document.createElement('span');\n",
       "    status_bar.classList = 'mpl-message pull-right';\n",
       "    toolbar.appendChild(status_bar);\n",
       "    this.message = status_bar;\n",
       "\n",
       "    // Add the close button to the window.\n",
       "    var buttongrp = document.createElement('div');\n",
       "    buttongrp.classList = 'btn-group inline pull-right';\n",
       "    button = document.createElement('button');\n",
       "    button.classList = 'btn btn-mini btn-primary';\n",
       "    button.href = '#';\n",
       "    button.title = 'Stop Interaction';\n",
       "    button.innerHTML = '<i class=\"fa fa-power-off icon-remove icon-large\"></i>';\n",
       "    button.addEventListener('click', function (_evt) {\n",
       "        fig.handle_close(fig, {});\n",
       "    });\n",
       "    button.addEventListener(\n",
       "        'mouseover',\n",
       "        on_mouseover_closure('Stop Interaction')\n",
       "    );\n",
       "    buttongrp.appendChild(button);\n",
       "    var titlebar = this.root.querySelector('.ui-dialog-titlebar');\n",
       "    titlebar.insertBefore(buttongrp, titlebar.firstChild);\n",
       "};\n",
       "\n",
       "mpl.figure.prototype._remove_fig_handler = function (event) {\n",
       "    var fig = event.data.fig;\n",
       "    if (event.target !== this) {\n",
       "        // Ignore bubbled events from children.\n",
       "        return;\n",
       "    }\n",
       "    fig.close_ws(fig, {});\n",
       "};\n",
       "\n",
       "mpl.figure.prototype._root_extra_style = function (el) {\n",
       "    el.style.boxSizing = 'content-box'; // override notebook setting of border-box.\n",
       "};\n",
       "\n",
       "mpl.figure.prototype._canvas_extra_style = function (el) {\n",
       "    // this is important to make the div 'focusable\n",
       "    el.setAttribute('tabindex', 0);\n",
       "    // reach out to IPython and tell the keyboard manager to turn it's self\n",
       "    // off when our div gets focus\n",
       "\n",
       "    // location in version 3\n",
       "    if (IPython.notebook.keyboard_manager) {\n",
       "        IPython.notebook.keyboard_manager.register_events(el);\n",
       "    } else {\n",
       "        // location in version 2\n",
       "        IPython.keyboard_manager.register_events(el);\n",
       "    }\n",
       "};\n",
       "\n",
       "mpl.figure.prototype._key_event_extra = function (event, _name) {\n",
       "    // Check for shift+enter\n",
       "    if (event.shiftKey && event.which === 13) {\n",
       "        this.canvas_div.blur();\n",
       "        // select the cell after this one\n",
       "        var index = IPython.notebook.find_cell_index(this.cell_info[0]);\n",
       "        IPython.notebook.select(index + 1);\n",
       "    }\n",
       "};\n",
       "\n",
       "mpl.figure.prototype.handle_save = function (fig, _msg) {\n",
       "    fig.ondownload(fig, null);\n",
       "};\n",
       "\n",
       "mpl.find_output_cell = function (html_output) {\n",
       "    // Return the cell and output element which can be found *uniquely* in the notebook.\n",
       "    // Note - this is a bit hacky, but it is done because the \"notebook_saving.Notebook\"\n",
       "    // IPython event is triggered only after the cells have been serialised, which for\n",
       "    // our purposes (turning an active figure into a static one), is too late.\n",
       "    var cells = IPython.notebook.get_cells();\n",
       "    var ncells = cells.length;\n",
       "    for (var i = 0; i < ncells; i++) {\n",
       "        var cell = cells[i];\n",
       "        if (cell.cell_type === 'code') {\n",
       "            for (var j = 0; j < cell.output_area.outputs.length; j++) {\n",
       "                var data = cell.output_area.outputs[j];\n",
       "                if (data.data) {\n",
       "                    // IPython >= 3 moved mimebundle to data attribute of output\n",
       "                    data = data.data;\n",
       "                }\n",
       "                if (data['text/html'] === html_output) {\n",
       "                    return [cell, data, j];\n",
       "                }\n",
       "            }\n",
       "        }\n",
       "    }\n",
       "};\n",
       "\n",
       "// Register the function which deals with the matplotlib target/channel.\n",
       "// The kernel may be null if the page has been refreshed.\n",
       "if (IPython.notebook.kernel !== null) {\n",
       "    IPython.notebook.kernel.comm_manager.register_target(\n",
       "        'matplotlib',\n",
       "        mpl.mpl_figure_comm\n",
       "    );\n",
       "}\n"
      ],
      "text/plain": [
       "<IPython.core.display.Javascript object>"
      ]
     },
     "metadata": {},
     "output_type": "display_data"
    },
    {
     "data": {
      "text/html": [
       "<img src=\"data:image/png;base64,iVBORw0KGgoAAAANSUhEUgAABQAAAAPACAYAAABq3NR5AAAAAXNSR0IArs4c6QAAIABJREFUeF7s3QewZVWdL+BFg4MEW5AcZ4Ah+4CWoKCCwoxk9RkAQUGGIElx5IGogCAZHR2VBhtGgaEMRVIHaMktSaKgZBCQh49QJIkNAna/Wrvq3rpN33v7nL7rnnXWXt+umhrh7r3C91+sqv2rs/eeZ+bMmTODgwABAgQIECBAgAABAgQIECBAgACBVgrMIwBsZV1NigABAgQIECBAgAABAgQIECBAgEAjIAC0EAgQIECAAAECBAgQIECAAAECBAi0WEAA2OLimhoBAgQIECBAgAABAgQIECBAgAABAaA1QIAAAQIECBAgQIAAAQIECBAgQKDFAgLAFhfX1AgQIECAAAECBAgQIECAAAECBAgIAK0BAgQIECBAgAABAgQIECBAgAABAi0WEAC2uLimRoAAAQIECBAgQIAAAQIECBAgQEAAaA0QIECAAAECBAgQIECAAAECBAgQaLGAALDFxTU1AgQIECBAgAABAgQIECBAgAABAgJAa4AAAQIECBAgQIAAAQIECBAgQIBAiwUEgC0urqkRIECAAAECBAgQIECAAAECBAgQEABaAwQIECBAgAABAgQIECBAgAABAgRaLCAAbHFxTY0AAQIECBAgQIAAAQIECBAgQICAANAaIECAAAECBAgQIECAAAECBAgQINBiAQFgi4tragQIECBAgAABAgQIECBAgAABAgQEgNYAAQIECBAgQIAAAQIECBAgQIAAgRYLCABbXFxTI0CAAAECBAgQIECAAAECBAgQICAAtAYIECBAgAABAgQIECBAgAABAgQItFhAANji4poaAQIECBAgQIAAAQIECBAgQIAAAQGgNUCAAAECBAgQIECAAAECBAgQIECgxQICwBYX19QIECBAgAABAgQIECBAgAABAgQICACtAQIECBAgQIAAAQIECBAgQIAAAQItFhAAtri4pkaAAAECBAgQIECAAAECBAgQIEBAAGgNECBAgAABAgQIECBAgAABAgQIEGixgACwxcU1NQIECBAgQIAAAQIECBAgQIAAAQICQGuAAAECBAgQIECAAAECBAgQIECAQIsFBIAtLq6pESBAgAABAgQIECBAgAABAgQIEBAAWgMECBAgQIAAAQIECBAgQIAAAQIEWiwgAGxxcU2NAAECBAgQIECAAAECBAgQIECAgADQGiBAgAABAgQIECBAgAABAgQIECDQYgEBYIuLa2oECBAgQIAAAQIECBAgQIAAAQIEBIDWAAECBAgQIECAAAECBAgQIECAAIEWCwgAW1xcUyNAgAABAgQIECBAgAABAgQIECAgALQGCBAgQIAAAQIECBAgQIAAAQIECLRYQADY4uKaGgECBAgQIECAAAECBAgQIECAAAEBoDVAgAABAgQIECBAgAABAgQIECBAoMUCAsAWF9fUCBAgQIAAAQIECBAgQIAAAQIECAgArQECBAgQIECAAAECBAgQIECAAAECLRYQALa4uKZGgAABAgQIECBAgAABAgQIECBAQABoDRAgQIAAAQIECBAgQIAAAQIECBBosYAAsMXFNTUCBAgQIECAAAECBAgQIECAAAECAkBrgAABAgQIECBAgAABAgQIECBAgECLBQSALS6uqREgQIAAAQIECBAgQIAAAQIECBAQAFoDBAgQIECAAAECBAgQIECAAAECBFosIABscXFNjQABAgQIECBAgAABAgQIECBAgIAA0BogQIAAAQIECBAgQIAAAQIECBAg0GIBAWCLi2tqBAgQIECAAAECBAgQIECAAAECBASA1gABAgQIECBAgAABAgQIECBAgACBFgsIAFtcXFMjQIAAAQIECBAgQIAAAQIECBAgIAC0BggQIECAAAECBAgQIECAAAECBAi0WEAA2OLimhoBAgQIECBAgAABAgQIECBAgAABAaA1QIAAAQIECBAgQIAAAQIECBAgQKDFAgLAFhfX1AgQIECAAAECBAgQIECAAAECBAgIAK0BAgQIECBAgAABAgQIECBAgAABAi0WEAC2uLimRoAAAQIECBAgQIAAAQIECBAgQEAAaA0QIECAAAECBAgQIECAAAECBAgQaLGAALDFxTU1AgQIECBAgAABAgQIECBAgAABAgJAa4AAAQIECBAgQIAAAQIECBAgQIBAiwUEgC0urqkRIECAAAECBAgQIECAAAECBAgQEABaAwQIECBAgAABAgQIECBAgAABAgRaLCAAbHFxTY0AAQIECBAgQIAAAQIECBAgQICAANAaIECAAAECBAgQIECAAAECBAgQINBiAQFgi4tragQIECBAgAABAgQIECBAgAABAgQEgNYAAQIECBAgQIAAAQIECBAgQIAAgRYLCABbXFxTI0CAAAECBAgQIECAAAECBAgQICAAtAYIECBAgAABAgQIECBAgAABAgQItFhAANji4poaAQIECBAgQIAAAQIECBAgQIAAAQGgNUCAAAECBAgQIECAAAECBAgQIECgxQICwBYX19QIECBAgAABAgQIECBAgAABAgQICACtAQIECBAgQIAAAQIECBAgQIAAAQItFhAAtri4pkaAAAECBAgQIECAAAECBAgQIEBAAGgNECBAgAABAgQIECBAgAABAgQIEGixgACwxcU1NQIECBAgQIAAAQIECBAgQIAAAQICQGuAAAECBAgQIECAAAECBAgQIECAQIsFBIAtLq6pESBAgAABAgQIECBAgAABAgQIEBAAWgMECBAgQIAAAQIECBAgQIAAAQIEWiwgAGxxcU2NAAECBAgQIECAAAECBAgQIECAgADQGiBAgAABAgQIECBAgAABAgQIECDQYgEBYIuLa2oECBAgQIAAAQIECBAgQIAAAQIEBIDWAAECBAgQIECAAAECBAgQIECAAIEWCwgAW1xcUyNAgAABAgQIECBAgAABAgQIECAgALQGCBAgQIAAAQIECBAgQIAAAQIECLRYQADY4uKaGgECBAgQIECAAAECBAgQIECAAAEBoDVAgAABAgQIECBAgAABAgQIECBAoMUCAsAWF9fUCBAgQIAAAQIECBAgQIAAAQIECAgArQECBAgQIECAAAECBAgQIECAAAECLRYQALa4uKZGgAABAgQIECBAgAABAgQIECBAQABoDRAgQIAAAQIECBAgQIAAAQIECBBosYAAsMXFNTUCBAgQIECAAAECBAgQIECAAAECAkBrgAABAgQIECBAgAABAgQIECBAgECLBQSALS6uqREgQIAAAQIECBAgQIAAAQIECBAQAFoDBAgQIECAAAECBAgQIECAAAECBFosIABscXFNjQABAgQIECBAgAABAgQIECBAgIAA0BogQIAAAQIECBAgQIAAAQIECBAg0GIBAWCLi2tqBAgQIECAAAECBAgQIECAAAECBASA1gABAgQIECBAgAABAgQIECBAgACBFgsIAFtcXFMjQIAAAQIECBAgQIAAAQIECBAgIAC0BggQIECAAAECBAgQIECAAAECBAi0WEAA2OLimhoBAgQIECBAgAABAgQIECBAgAABAaA1QIAAAQIECBAgQIAAAQIECBAgQKDFAgLAFhfX1AgQIECAAAECBAgQIECAAAECBAgIAK0BAgQIECBAgAABAgQIECBAgAABAi0WEAC2uLimRoAAAQIECBAgQIAAAQIECBAgQEAAaA0QIECAAAECBAgQIECAAAECBAgQaLGAALDFxTU1AgQIECBAgAABAgQIECBAgAABAgJAa4AAAQIECBAgQIAAAQIECBAgQIBAiwUEgC0urqkRIECAAAECBAgQIECAAAECBAgQEABaAwQIECBAgAABAgQIECBAgAABAgRaLCAAbHFxTY0AAQIECBAgQIAAAQIECBAgQICAANAaIECAAAECBAgQIECAAAECBAgQINBigVYHgE899VS4+eabm/+75ZZbmv979tlnm3Lutttu4cwzz+yqtJdcckk47bTTmvaefvrpsMQSS4SNNtoo7L333mGrrbbqqK3p06eHyZMnh3PPPTc8+OCD4fXXXw8rrLBC2HbbbcOXvvSlsOKKK3bUzt133x1++MMfhiuuuCI89thjYeGFFw5rrrlm2GWXXcIee+wR5ptvvo7a+cUvfhHOOOOMcMcdd4S//vWvYemllw4f/OAHw/777x/e9773ddSGkwgQIECAAAECBAgQIECAAAECBPpXoNUB4DzzzDOifDcB4MyZM8M+++zThH8jHTEE/NGPfhRG6/Ohhx5qgr77779/2Gbe+c53hp/97Gdhm222GXXF/PjHP24Cur/97W/DnheDu4suuigstthiI7bz2muvhU9/+tPNecMdEyZMCEceeWQ4/PDD+3f1GhkBAgQIECBAgAABAgQIECBAgMAcBaoJAOOv7OIv5C677LIGpZsA8Bvf+EY47rjjmusmTZoUDjnkkLDKKquEGOiddNJJ4fbbb2/+Fs875phjhkV/+eWXw4Ybbhjuu+++5u977bVX2GmnncICCywQpk2bFo4//vgQz1lwwQXDDTfcENZZZ51h27n00kubgHDGjBlhqaWWavp873vfG5577rlw+umnhwsuuKC5btNNN23ajUHecEf8pWAMG+Px4Q9/OBx44IFh2WWXDXfeeWcz1zi3eMQ299xzzzkupG5PiAFk7Cse8ZeUnf5isdt+nE+AAAECBAgQIECAAAECBGoWePPNN5unGOPxv/7X/wpvf/vba+aodu6tDgC/+c1vNqFb/L8Ylj3yyCNhpZVWaordaQAYH9ONwWH8D2aDDTYI11xzTRPaDRzxkd7NNtss3HrrrU2IFQO+GA6+9Yi/pjvqqKOafx1Dw4MPPniWU2LoF0O72E8M5K666qrZ2oh/i2OJY5o4cWK47bbbZusr/jLwlFNOaa4966yzwq677jpbO1dffXX40Ic+1Pz77bffPvzyl78M88477+B5zzzzTFh//fXDo48+GhZddNHw8MMPh0UWWSTpfyTxcez4+LSDAAECBAgQIECAAAECBAgQ6I1AfKVZzEgc9Qm0OgB8aznnJgAcGqjFkG649+LdeOONYeONN266O+CAA5p38w093njjjbDkkkuG559/vgnw7rrrrmF/mRcfM54yZUpzaQwUYwg39IjvDdxhhx2afxV/MXjooYfOtmJjILn88ss37/N797vfPfgru6EnxseQp06d2oR+0SSe/9YjvhvwM5/5TPOvv/Od74SDDjoo6X8dAsCknBojQIAAAQIECBAgQIAAAQJzFBAAzpGotScIAEcpbXz3X3x0OH5kY4011gj33nvviGfHv8d3+8UwLf5ybui7AC+//PLwkY98pLn2hBNOCF/96leHbWdokPj1r389HHvssbOcN/Sx3SeeeKL5YMdwx9Ag8YEHHgirrrrq4GnxMePFF1+8eX9g/HDJb37zm2HbiB8niY/mvvjii2GTTTYJ119/fdL/CIaGsXEDWmaZZZK2rzECBAgQIECAAAECBAgQIEAghJgfDDyB9+c//zn80z/9E5YKBQSAoxQ9Pvo68DjvF77wheYjHyMd8e8DHwmJ1w08ahzPP+KII8LRRx/dXDrSrwjj3+IjvvFR21deeaV5HDg+qjv0iF8I/stf/hJWX331wXcJDjeen//852HnnXdu/vSTn/wk7L777oOnxUeLt9hii+afR/oV4cDJW265ZfPOxPhoc/xl4dve9rZk/4n8v//3/5pwNR5xTsP9CjFZZxoiQIAAAQIECBAgQIAAAQKVCrj/rrTwb5m2AHCUdXDxxReH7bbbrjnje9/7Xvjyl7884tnx71/5yleav8frhn7JN35t97zzzmv+Fh/NHe19euuuu2644447ml/fPfXUU4P9xV/uxff+xV8lfuxjHwu/+tWvRhxL/CjJe97znubv8V2D8Z2DA8fkyZObx5TjEd/99/GPf3zEduKHQX7wgx80f7/77rvDWmutley/GhtQMkoNESBAgAABAgQIECBAgACBEQXcf1scUUAAOMo6iL/423fffZsz4vv3PvWpT414dgz4YtAXj3hd/EXgwBHfG3jTTTeFhRZaqPnS72hHDBxjgBiP+KXc+eefv/nf8eMi8f2B8YjvJTz55JNHbCZ+xCMGiPGIXxqOvwgcOOJ7A0888cTmH+N7+OKHTUY64rv/Bj5Wcskll4T4i8BOj7jBjHYM/QmyXwB2quo8AgQIECBAgAABAgQIECDQnYAAsDuvtp4tABylst/+9rfDIYcc0pwR35UX35k30hH/PvCrv7d+NGPttdcO99xzT/Ml4ieffHLUtbTjjjuGc845pzknBnmLLbZY87+HfjQjvkMwvktwpOPVV18NCy64YPPnGCheeOGFg6cO/ahJfKdhfHfhSMepp54a9ttvv+bPMeD85Cc/2fF/B0PfgTiniwSAcxLydwIECBAgQIAAAQIECBAgMHcCAsC5c2vbVQLAUSoa39sX398XjyuvvDJsvvnmI5499N168brDDjts8Nz4HsH4XsD4zrv4gZDRjl133TWcffbZzSlDg7Frr722eS9gPA4//PDwrW99a8RmZsyY0XzhNx7xfX9XXHHF4Ll77LFH817AeDz00ENh5ZVXHrGdeF48Px5xTJ/97Gc7Xv8CwI6pnEiAAAECBAgQIECAAAECBMZNQAA4brRFNSwAHKVcfgE4978A9AhwUfuAwRIgQIAAAQIECBAgQIBASwUEgC0tbJfTEgCOAuYdgHP/DsA5rUMb0JyE/J0AAQIECBAgQIAAAQIECIxdwP332A3b0IIAcJQqXnTRRWH77bdvzhjLV4Djx0POP//8pp2xfAX4He94R9PGWL4CHD8e8sUvfrFpx1eA2/CfsDkQIECAAAECBAgQIECAAIGRBQSAVkcUEACOsg7ie/vi+/viEb/qG38RONIR/37aaac1f47XrbTSSoOnxvcIxvcCxuOGG24I8avAwx1vvvlmWGSRRcIrr7zSvO/v6quvnuW0FVdcsXkv4Oqrr958FXikI371d+edd27+HN/jt/vuuw+eOvRdhccff3yIXwUe6Yhf/b3sssvCfPPN14zpH/7hH5L9V2MDSkapIQIECBAgQIAAAQIECBAgMKKA+2+LIwoIAEdZBzNnzgzLL798ePzxx5uv5cav5o50rLnmmk0ot9xyyzUh3dCPYMQQLYZp8Yhf741f8R3uuPHGG8PGG2/c/OlrX/taOO6442Y5LYZ6MdyLxxNPPBGWXnrpYdvZZ599wpQpU5q/3X///WG11VYbPO+ll14Kiy++eHj99debrxrHrxcPd8S/L7HEEuHFF19sxvS73/0u6X8xNqCknBojQIAAAQIECBAgQIAAAQLDCrj/tjCigABwDutgv/32C6eeempz1ki/3hsa3MXzJ0+ePEurMUxbcsklwwsvvBBiUHj33XfPEhAOnDw0uLv55pvDhhtuOEs755xzTthxxx2bfzfSr/emT5/ehJbxUeO11lqr6eutxzbbbNMEf/GXfX/+85+b8996/OIXvwif+cxnmn990kknhYMPPjjpfzE2oKScGiNAgAABAgQIECBAgAABAsMKuP+2MKKAAHAO6+CBBx4Ia6+9doiP526wwQbhmmuuCQsssMDgVa+++mrzuO6tt97aBGr33HNPWHXVVWdrdehjwMMFajFcjO3EfjbbbLPw29/+drY23njjjSZAfOihh8LEiRPDbbfdNviI8sDJ+++/fzjllFOafzzjjDPC5z//+dnaGfoY8Ec/+tFwwQUXhHnnnXfwvGeeeSasv/764dFHH20eSY6PNC+66KJJ/4uxASXl1BgBAgQIECBAgAABAgQIEBAAWgMjCrQ6ALzuuuvCgw8+OEuwNfBLtve///1hzz33nAVmuLAsnhAfx42P7sZj0qRJzSO88d2AMYg78cQTw+233978bbjHdgc6iI/exgAxBorx2HvvvcNOO+3UhInTpk1rHvd9+eWXm3+Oj9uut956wxZt6tSpzYdJZsyYEZZaaqlw2GGHhY022qj5xd/pp58++LGRD3zgA02IODTYG9pg/HVf/JVfPD784Q+HL3/5y2HZZZcNd955Zzj22GObucUjvvcwvt8w9SEATC2qPQIECBAgQIAAAQIECBAgMLuA+2+rIgq0OgCMgd5ZZ53VcaXjO/+GO2LYttdeezUf1Bjp2GOPPZqPgEyYMGHEc2IYGR+//dOf/jTsOfFXfT/96U/DdtttN+qYY9B3wAEHNO/xG+6IgeDFF1/cvOtvpCP+cjF+nTgGisMdcR6HH354OPLIIzv26+ZEG1A3Ws4lQIAAAQIECBAgQIAAAQJzJ+D+e+7c2naVAHBIRUcKAAdOiWFZDPluueWWEB+TjQFbfE9f/IXc1ltv3dHaiF/Tje8IPPfcc5tfJ8YQb4UVVmiCwQMPPDD84z/+Y0ft3HXXXeEHP/hBuPLKK5uPlCy00ELN48G77LJL88vG+DhyJ8fPfvazcOaZZ4Y//vGP4fnnn29+VfjBD36wCRgHPkjSSTvdnmMD6lbM+QQIECBAgAABAgQIECBAoHsB99/dm7XxilYHgG0sWFvmZANqSyXNgwABAgQIECBAgAABAgT6WcD9dz9Xp3djEwD2zlpPQwRsQJYDAQIECBAgQIAAAQIECBAYfwH33+NvXEIPAsASqtTCMdqAWlhUUyJAgAABAgQIECBAgACBvhNw/913JckyIAFgFnad2oCsAQIECBAgQIAAAQIECBAgMP4C7r/H37iEHgSAJVSphWO0AbWwqKZEgAABAgQIECBAgAABAn0n4P6770qSZUACwCzsOrUBWQMECBAgQIAAAQIECBAgQGD8Bdx/j79xCT0IAEuoUgvHaANqYVFNiQABAgQIECBAgAABAgT6TsD9d9+VJMuABIBZ2HVqA7IGCBAgQIAAAQIECBAgQIDA+Au4/x5/4xJ6EACWUKUWjtEG1MKimhIBAgQIECBAgAABAgQI9J2A++++K0mWAQkAs7Dr1AZkDRAgQIAAAQIECBAgQIAAgfEXcP89/sYl9CAALKFKLRyjDaiFRTUlAgQIECBAgAABAgQIEOg7AffffVeSLAMSAGZh16kNyBogQIAAAQIECBAgQIAAAQLjL+D+e/yNS+hBAFhClVo4RhtQC4tqSgQIECBAgAABAgQIECDQdwLuv/uuJFkGJADMwq5TG5A1QIAAAQIECBAgQIAAAQIExl/A/ff4G5fQgwCwhCq1cIw2oBYW1ZQIECBAgAABAgQIECBAoO8E3H/3XUmyDEgAmIVdpzYga4AAAQIECBAgQIAAAQIECIy/gPvv8TcuoQcBYAlVauEYbUAtLKopESBAgAABAgQIECBAgEDfCbj/7ruSZBmQADALu05tQNYAAQIECBAgQIAAAQIECBAYfwH33+NvXEIPAsASqtTCMdqAWlhUUyJAoC8F/unQi7OM65ETts3Sr04JECBAgAABAgRmFXD/bUVEAQGgdZBFwAaUhV2nBAhUKCAArLDopkyAAAECBAgQGCLg/ttyEABaA9kEbEDZ6HVMgEBlAgLAygpuugQIECBAgACBtwi4/7YkBIDWQDYBG1A2eh0TIFCZgACwsoKbLgECBAgQIEBAAGgNDCPgEWDLIouAADALu04JEKhQQABYYdFNmQABAgQIECAwRMD9t+UQBQSA1kEWARtQFnadEiBQoYAAsMKimzIBAgQIECBAQABoDbxFQABoSWQREABmYdcpAQIVCggAKyy6KRMgQIAAAQIEBIDWgADQGugHAQFgP1TBGAgQqEFAAFhDlc2RAAECBAgQIDCygPtvqyMK+AWgdZBFwAaUhV2nBAhUKCAArLDopkyAAAECBAgQGCLg/ttyEABaA9kEbEDZ6HVMgEBlAgLAygpuugQIECBAgACBtwi4/7YkBIDWQDYBG1A2eh0TIFCZgACwsoKbLgECBAgQIEBAAGgNDCPgEWDLIouAADALu04JEKhQQABYYdFNmQABAgQIECAwRMD9t+UQBQSA1kEWARtQFnadEiBQoYAAsDdF59wbZ70QIECAAAEC3Qu4/+7erI1XCADbWNUC5mQDKqBIhkiAQCsEBFO9KSPn3jjrhQABAgQIEOhewP1392ZtvEIA2MaqFjAnG1ABRTJEAgRaISCY6k0ZOffGWS8ECBAgQIBA9wLuv7s3a+MVAsA2VrWAOdmACiiSIRIg0AoBwVRvysi5N856IUCAAAECBLoXcP/dvVkbrxAAtrGqBczJBlRAkQyRAIFWCAimelNGzr1x1gsBAgQIECDQvYD77+7N2niFALCNVS1gTjagAopkiAQItEJAMNWbMnLujbNeCBAgQIAAge4F3H93b9bGKwSAbaxqAXOyARVQJEMkQKAVAoKp3pSRc2+c9UKAAAECBAh0L+D+u3uzNl4hAGxjVQuYkw2ogCIZIgECrRAQTPWmjJx746wXAgQIECBAoHsB99/dm7XxCgFgG6tawJxsQAUUyRAJEGiFgGCqN2Xk3BtnvRAgQIAAAQLdC7j/7t6sjVcIANtY1QLmZAMqoEiGSIBAKwQEU70pI+feOOuFAAECBAgQ6F7A/Xf3Zm28QgDYxqoWMCcbUAFFMkQCBFohIJjqTRk598ZZLwQIECBAgED3Au6/uzdr4xUCwDZWtYA52YAKKJIhEiDQCgHBVG/KyLk3znohQIAAAQIEuhdw/929WRuvEAC2saoFzMkGVECRDJEAgVYICKZ6U0bOvXHWCwECBAgQINC9gPvv7s3aeIUAsI1VLWBONqACimSIBAi0QkAw1Zsycu6Ns14IECBAgACB7gXcf3dv1sYrBIBtrGoBc7IBFVAkQyRAoBUCgqnelJFzb5z1QoAAAQIECHQv4P67e7M2XiEAbGNVC5iTDaiAIhkiAQKtEBBM9aaMnHvjrBcCBAgQIECgewH3392btfEKAWAbq1rAnGxABRTJEAkQaIWAYKo3ZeTcG2e9ECBAgAABAt0LuP/u3qyNVwgA21jVAuaBIf1GAAAgAElEQVRkAyqgSIZIgEArBARTvSkj594464UAAQIECBDoXsD9d/dmbbxCANjGqhYwJxtQAUUyRAIEWiEgmOpNGTn3xlkvBAgQIECAQPcC7r+7N2vjFQLANla1gDnZgAookiESINAKAcFUb8rIuTfOeiFAgAABAgS6F3D/3b1ZG68QALaxqgXMyQZUQJEMkQCBVggIpnpTRs69cdYLAQIECBAg0L2A++/uzdp4hQCwjVUtYE42oAKKZIgECLRCQDDVmzJy7o2zXggQIECAAIHuBdx/d2/WxisEgG2sagFzsgEVUCRDJECgFQKCqd6UkXNvnPVCgAABAgQIdC/g/rt7szZeIQBsY1ULmJMNqIAiGSIBAq0QEEz1poyce+OsFwIECBAgQKB7Afff3Zu18QoBYBurWsCcbEAFFMkQCRBohYBgqjdl5NwbZ70QIECAAAEC3Qu4/+7erI1XCADbWNUC5mQDKqBIhkiAQCsEBFO9KSPn3jjrhQABAgQIEOhewP1392ZtvEIA2MaqFjAnG1ABRTJEAgRaISCY6k0ZOffGWS8ECBAgQIBA9wLuv7s3a+MVAsA2VrWAOdmACiiSIRIg0AoBwVRvysi5N856IUCAAAECBLoXcP/dvVkbrxAAtrGqBczJBlRAkQyRAIFWCAimelNGzr1x1gsBAgQIECDQvYD77+7N2niFALCNVS1gTjagAopkiAQItEJAMNWbMnLujbNeCBAgQIAAge4F3H93b9bGKwSAbaxqAXOyARVQJEMkQKAVAoKp3pSRc2+c9UKAAAECBAh0L+D+u3uzNl4hAGxjVQuYkw2ogCIZIgECrRAQTPWmjJx746wXAgQIECBAoHsB99/dm7XxCgFgG6tawJxsQAUUyRAJEGiFgGCqN2Xk3BtnvRAgQIAAAQLdC7j/7t6sjVcIANtY1QLmZAMqoEiGSIBAKwQEU70pI+feOOuFAAECBAgQ6F7A/Xf3Zm28QgDYxqoWMCcbUAFFMkQCBFohIJjqTRk598ZZLwQIECBAgED3Au6/uzdr4xUCwDZWtYA52YAKKJIhEiDQCgHBVG/KyLk3znohQIAAAQIEuhdw/929WRuvEAC2saoFzMkGVECRDJEAgVYICKZ6U0bOvXHWCwECBAgQINC9gPvv7s3aeIUAsI1VLWBONqACimSIBAi0QkAw1Zsycu6Ns14IECBAgACB7gXcf3dv1sYrBIBtrGoBc7IBFVAkQyRAoBUCgqnelJFzb5z1QoAAAQIECHQv4P67e7M2XiEAbGNVC5iTDaiAIhkiAQKtEBBM9aaMnHvjrBcCBAgQIECgewH3392btfEKAWAbq1rAnGxABRTJEAkQaIWAYKo3ZeTcG2e9ECBAgAABAt0LuP/u3qyNVwgA21jVAuZkAyqgSIZIgEArBARTvSkj594464UAAQIECBDoXsD9d/dmbbxCANjGqhYwJxtQAUUyRAIEWiEgmOpNGTn3xlkvBAgQIECAQPcC7r+7N2vjFQLANla1gDnZgAookiESINAKAcFUb8rIuTfOeiFAgAABAgS6F3D/3b1ZG68QALaxqgXMyQZUQJEMkQCBVggIpnpTRs69cdYLAQIECBAg0L2A++/uzdp4hQCwjVUtYE42oAKKZIgECLRCQDDVmzJy7o2zXggQIECAAIHuBdx/d2/WxisEgG2sagFzsgEVUCRDJECgFQKCqd6UkXNvnPVCgAABAgQIdC/g/rt7szZeIQBsY1ULmJMNqIAiGSIBAq0QEEz1poyce+OsFwIECBAgQKB7Afff3Zu18QoBYBurWsCcbEAFFMkQCRBohYBgqjdl5NwbZ70QIECAAAEC3Qu4/+7erI1XCADbWNUC5mQDKqBIhkiAQCsEBFO9KSPn3jjrhQABAgQIEOhewP1392ZtvEIA2MaqFjAnG1ABRTJEAgRaISCY6k0ZOffGWS8ECBAgQIBA9wLuv7s3a+MVAsA2VrWAOdmACiiSIRIg0AoBwVRvysi5N856IUCAAAECBLoXcP/dvVkbrxAAtrGqBczJBlRAkQyRAIFWCAimelNGzr1x1gsBAgQIECDQvYD77+7N2niFALCNVS1gTjagAopkiAQItEJAMNWbMnLujbNeCBAgQIAAge4F3H93b9bGKwSAbaxqAXOyARVQJEMkQKAVAoKp3pSRc2+c9UKAAAECBAh0L+D+u3uzNl4hAGxjVQuYkw2ogCIZIgECrRAQTPWmjJx746wXAgQIECBAoHsB99/dm7XxCgFgG6tawJxsQAUUyRAJEGiFgGCqN2XM5dyb2c3eyyMnbJura/0SIECAAAECXQq4/+4SrKWnCwBbWth+n5YNqN8rZHwECLRFIFcwVVtAlMs51zqtrb65nPVLgAABAgRSCLj/TqFYfhsCwPJrWOQMbEBFls2gCRAoUCBXMFVbQJTLOdeSrK2+uZz1S4AAAQIEUgi4/06hWH4bAsDya1jkDGxARZbNoAkQKFAgVzBVW0CUyznXkqytvrmc9UuAAAECBFIIuP9OoVh+GwLA8mtY5AxsQEWWzaAJEChQIFcwVVtAlMs515Ksrb65nPVLgAABAgRSCLj/TqFYfhsCwPJrWOQMbEBFls2gCRAoUCBXMFVbQJTLOdeSrK2+uZz1S4AAAQIEUgi4/06hWH4bAsDya1jkDGxARZbNoAkQKFAgVzBVW0CUyznXkqytvrmc9UuAAAECBFIIuP9OoVh+GwLA8mtY5AxsQEWWzaAJEChQIFcwVVtAlMs515Ksrb65nPVLgAABAgRSCLj/TqFYfhsCwPJrWOQMbEBFls2gCRAoUCBXMFVbQJTLOdeSrK2+uZz1S4AAAQIEUgi4/06hWH4bAsDya1jkDGxARZbNoAkQKFAgVzBVW0CUyznXkqytvrmc9UuAAAECBFIIuP9OoVh+GwLA8mtY5AxsQEWWzaAJEChQIFcwVVtAlMs515Ksrb65nPVLgAABAgRSCLj/TqFYfhsCwPJrWOQMbEBFls2gCRAoUCBXMFVbQJTLOdeSrK2+uZz1S4AAAQIEUgi4/06hWH4bAsDya1jkDGxARZbNoAkQKFAgVzBVW0CUyznXkqytvrmc9UuAAAECBFIIuP9OoVh+GwLA8mtY5AxsQEWWzaAJEChQIFcwVVtAlMs515Ksrb65nPVLgAABAgRSCLj/TqFYfhsCwPJrWOQMbEBFls2gCRAoUCBXMFVbQJTLOdeSrK2+uZz1S4AAAQIEUgi4/06hWH4bAsDya1jkDGxARZbNoAkQKFAgVzBVW0CUyznXkqytvrmc9UuAAAECBFIIuP9OoVh+GwLA8mtY5AxsQEWWzaAJEChQIFcwVVtAlMs515Ksrb65nPVLgAABAgRSCLj/TqFYfhsCwPJrWOQMbEBFls2gCRAoUCBXMFVbQJTLOdeSrK2+uZz1S4AAAQIEUgi4/06hWH4bAsDya1jkDGxARZbNoAkQKFAgVzBVW0CUyznXkqytvrmc9UuAAAECBFIIuP9OoVh+GwLA8mtY5AxsQEWWzaAJEChQIFcwVVtAlMs515Ksrb65nPVLgAABAgRSCLj/TqFYfhsCwPJrWOQMbEBFls2gCRAoUCBXMFVbQJTLOdeSrK2+uZz1S4AAAQIEUgi4/06hWH4bAsDya1jkDGxARZbNoAkQKFAgVzBVW0CUyznXkqytvrmc9UuAAAECBFIIuP9OoVh+GwLA8mtY5AxsQEWWzaAJEChQIFcwVVtAlMs515Ksrb65nPVLgAABAgRSCLj/TqFYfhsCwPJrWOQMbEBFls2gCRAoUCBXMFVbQJTLOdeSrK2+uZz1S4AAAQIEUgi4/06hWH4bAsDya1jkDGxARZbNoAkQKFAgVzBVW0CUyznXkqytvrmc9UuAAAECBFIIuP9OoVh+GwLA8mtY5AxsQEWWzaAJEChQIFcwVVtAlMs515Ksrb65nPVLgAABAgRSCLj/TqFYfhsCwPJrWOQMbEBFls2gCRAoUCBXMFVbQJTLOdeSrK2+uZz1S4AAAQIEUgi4/06hWH4bAsDya1jkDGxARZbNoAkQKFAgVzBVW0CUyznXkqytvrmc9UuAAAECBFIIuP9OoVh+GwLA8mtY5AxsQEWWzaAJEChQIFcwVVtAlMs515Ksrb65nPVLgAABAgRSCLj/TqFYfhsCwPJrWOQMbEBFls2gCRAoUCBXMFVbQJTLOdeSrK2+uZz1S4AAAQIEUgi4/06hWH4bAsDya1jkDGxARZbNoAkQKFAgVzBVW0CUyznXkqytvrmc9UuAAAECBFIIuP9OoVh+GwLA8mtY5AxsQEWWzaAJEChQIFcwVVtAlMs515Ksrb65nPVLgAABAgRSCLj/TqFYfhsCwPJrWOQMbEBFls2gCRAoUCBXMFVbQJTLOdeSrK2+uZz1S4AAAQIEUgi4/06hWH4bAsDya1jkDGxARZbNoAkQKFAgVzBVW0CUyznXkqytvrmc9UuAAAECBFIIuP9OoVh+GwLA8mtY5AxsQEWWzaAJEChQIFcwVVtAlMs515Ksrb65nPVLgAABAgRSCLj/TqFYfhsCwPJrWOQMbEBFls2gCRAoUCBXMFVbQJTLOdeSrK2+uZz1S4AAAQIEUgi4/06hWH4bAsDya1jkDGxARZbNoAkQKFAgVzBVW0CUyznXkqytvrmc9UuAAAECBFIIuP9OoVh+GwLA8mtY5AxsQEWWzaAJEChQIFcwVVtAlMs515Ksrb65nPVLgAABAgRSCLj/TqFYfhsCwPJrWOQMbEBFls2gCRAoUCBXMFVbQJTLOdeSrK2+uZz1S4AAAQIEUgi4/06hWH4bAsDya1jkDGxARZbNoAkQKFAgVzBVW0CUyznXkqytvrmc9UuAAAECBFIIuP9OoVh+GwLALmr4+uuvh7PPPjuce+654Y9//GN47rnnwtve9raw3HLLhfe///1h7733Du973/vm2OIll1wSTjvttHDzzTeHp59+OiyxxBJho402aq7faqut5nh9PGH69Olh8uTJzVgefPDBEMe2wgorhG233TZ86UtfCiuuuGJH7dx9993hhz/8YbjiiivCY489FhZeeOGw5pprhl122SXsscceYb755uuonW5PsgF1K+Z8AgQIzJ1ArmCqtoAol/PcrYqxX1VbfccupgUCBAgQIJBPwP13Pvt+6lkA2GE1/vKXvzTh2p133jnqFf/+7/8e/uM//iPMM888s503c+bMsM8++zTh30hHDAF/9KMfDXv9wDUPPfRQM5b7779/2Gbe+c53hp/97Gdhm222GXWsP/7xj8P+++8f/va3vw17XgwzL7roorDYYot1qNT5aTagzq2cSYAAgbEI5AqmaguIcjmPZW2M5dra6jsWK9cSIECAAIHcAu6/c1egP/oXAHZQhzfffDO85z3vGQz/1llnnfCVr3wlrL766uGll14K1113XRP6vfLKK01rJ510Ujj44INna/kb3/hGOO6445p/P2nSpHDIIYeEVVZZJcRAL15z++23N3+L5x1zzDHDjuzll18OG264Ybjvvvuav++1115hp512CgsssECYNm1aOP7440M8Z8EFFww33HBDiGMd7rj00kubgHDGjBlhqaWWavp873vf2/yq8fTTTw8XXHBBc9mmm27atDthwoQOpDo/xQbUuZUzCRAgMBaBXMFUbQFRLuexrI2xXFtbfcdi5VoCBAgQIJBbwP137gr0R/8CwA7qcP7554dPfepTzZkbb7xxuPbaa8O88847y5W///3vm7+98cYbYdFFFw1PPfXULI/Pxsd046O1MUzcYIMNwjXXXNOEdgNHfKR3s802C7feemtzXQz4Yjj41uPII48MRx11VPOvhwsaY+gXQ7vYz4c//OFw1VVXzdZG/FscSxzTxIkTw2233TZbX/GXgaecckpz7VlnnRV23XXXDqQ6P8UG1LmVMwkQIDAWgVzBVG0BUS7nsayNsVxbW33HYuVaAgQIECCQW8D9d+4K9Ef/AsAO6hB/7fe9732vOfN//ud/wvbbbz/sVZ/4xCfCL3/5y+Zv8VHhd7/73YPnDQ3UYkg33LsCb7zxxiZEjMcBBxzQvJtv6BHDxSWXXDI8//zzTYB31113DfvLvPiY8ZQpU5pLY6C4/vrrz9JOfG/gDjvs0Py7+IvBQw89dLb5xEBy+eWXD3/961+beczp0ecOGGc5xQbUrZjzCRAgMHcCuYKp2gKiXM5ztyrGflVt9R27mBYIECBAgEA+Afff+ez7qWcBYAfViGFc/OBGPGLotvbaaw97VXzs9zvf+c5swVt891/8QEf8yMYaa6wR7r333hF7jX+P7/aL4dujjz46y7sAL7/88vCRj3ykufaEE04IX/3qV4dtZ2iQ+PWvfz0ce+yxs5wXP/AR3xEYjyeeeCIsvfTSw7YzNEh84IEHwqqrrtqBVmen2IA6c3IWAQIExiqQK5iqLSDK5TzW9TG319dW37l1ch0BAgQIEOgHAfff/VCF/GMQAHZQgx/84AfhwAMPbM7s5BeA8QMg8Vd68fHaeDz88MODj9h+4QtfaD7yMdIR/z7wkZB43UorrTR46hFHHBGOPvro5p9H+hVh/Ft8xHeRRRZp3kkYHwe++uqrZ+kufiE4ftQkvsNw4F2Cw43n5z//edh5552bP/3kJz8Ju+++ewdanZ1iA+rMyVkECBAYq0CuYKq2gCiX81jXx9xeX1t959bJdQQIECBAoB8E3H/3QxXyj0EA2EENnn766fDP//zP4cUXXwzvf//7m0Dtre8AjB/wiI/1vv766+Ezn/nM4C/sYvMXX3xx2G677Zqe4qPEX/7yl0fsNf49PnI8cN3QL/l++tOfDuedd17zt/hobgz5RjrWXXfdcMcdd4QllliieR/hwBE/EBKDyfirxI997GPhV7/61YhtxDnFj5/EI/66Mb5zMNVhA0olqR0CBAiMLpArmKotIMrlnGv911bfXM76JUCAAAECKQTcf6dQLL8NAWCHNYzv9ouPzr766qvNF3xjiLfaaqs1X9y9/vrrm68Axy8Cr7feeuE3v/nNLI/Vxl/87bvvvk1P8f17Ax8UGa7rGPDFoC8e8br4i8CBIwaMN910U1hooYWafkc7YuAYg8d4vPbaa2H++edv/nf8xV98f2A84nsJTz755BGbeeaZZ5oAMR7xS8PxF4GdHnGDGe2Ijx5vtNFGzSnx14jxkWcHAQIECKQXyBVM1RYQ5XJOv2I6a7G2+nam4iwCBAgQINCfAgLA/qxLr0clAOxC/J577gnf/e53m8dh4y/ohh5LLbVU806+vffeuwnohh7f/va3wyGHHNL8qxgObrXVViP2Gv8+8Ku/+D7Bgw46aPDc+O7BOIbY15NPPjnqyHfcccdwzjnnNOfEIG+xxRZr/vctt9wyGLzF8cZ3CY50xLBzwQUXbP4cA8ULL7ywY634GHSnhwCwUynnESBAoHuBXMFUbQFRLufuV0SaK2qrbxo1rRAgQIAAgTwCAsA87v3WqwCww4rEL/AeddRR4fTTT5/lkdqhl2+44Ybhm9/8Zth2221naTW+ty++vy8eV155Zdh8881H7PWqq64KW2yxRfP3eN1hhx02eO4qq6zSvE8wflAkfiBktGPXXXcNZ599dnPK0IDt2muvbd4LGI/DDz88fOtb3xqxmRkzZgw+6hzHdMUVV3SoFWb5eMmcLhIAzknI3wkQIDD3ArmCqdoColzOc78yxnZlbfUdm5arCRAgQIBAXgEBYF7/fuldANhBJeLHNOKv8q655pomEIu/yosfxFh55ZWbx2vjY7kxSLvuuuua4Cu+x2/goyGx+Rp/AegR4A4WllMIECDQA4FcwVRtAVEu5x4soWG7qK2+uZz1S4AAAQIEUggIAFMolt+GALCDGv6f//N/mnf8xePMM88Mu+2222xXxS/vfuQjHwnTpk0LEyZMCPEDGuuss05zXo3vAJwTqw1oTkL+ToAAgTQCuYKp2gKiXM5pVkn3rdRW3+6FXEGAAAECBPpHwP13/9Qi50gEgHPQj+/6W3zxxcNzzz3XfPTj/vvvH/GK+DGQD3zgA83f40dC4i8B43HRRReF7bffvvnfY/kKcPx4yPnnn9+0M5avAL/jHe9o2vAV4Jz/6embAAECvRHIFUzVFhDlcu7NKpq9l9rqm8tZvwQIECBAIIWAADCFYvltCADnUMP4sY1lllmmOSt+WOMXv/jFiFfEx4EXWGCB5u/xQx/xgx7xiO/ti+/vi0f8qm/8ReBIR/z7aaedNnjdSiutNHhqfI9gfC9gPG644YYQvwo83BF/jbjIIouE+OhyfN/f1VdfPctpK664YvNewNVXX735KvBIR/zq784779z8OX74JD72nOqwAaWS1A4BAgRGF8gVTNUWEOVyzrX+a6tvLmf9EiBAgACBFALuv1Molt+GAHAONYxf0F1iiSWasz75yU+G8847b8QrXnrppTBx4sTm70O/mht/Rbj88suHxx9/PKyxxhrh3nvvHbGNNddcswnllltuuSakG/o13csuuyxsueWWzbXx673xK77DHTfeeGPYeOONmz997WtfC8cdd9wsp8VQL4Z78XjiiSfC0ksvPWw7++yzT5gyZUrzt/jLx/gLyFSHDSiVpHYIECAwukCuYKq2gCiXc671X1t9cznrlwABAgQIpBBw/51Csfw2BIBzqGH8Eu6iiy4aXnzxxbDsssuG//t//2+Yb775hr1q6KO+X/ziF8MPfvCDwfP222+/cOqppzb/PNKv94YGd/H8yZMnz9LP66+/HpZccsnwwgsvhBgU3n333cN+bXdocHfzzTeH+HXiocc555zT/JoxHscff3w49NBDZ5vP9OnTm9AyPmq81lprNX2lPGxAKTW1RYAAgZEFcgVTtQVEuZxzrf3a6pvLWb8ECBAgQCCFgPvvFIrltyEA7KCGQ38xd+SRR4ZvfvObs10Vg7L4/r977rmn+dull17afBRk4HjggQfC2muvHeLjuRtssEHzReGBx4XjOa+++mrzuO6tt97aBIyxnVVXXXW2foY+BnzSSSeFgw8+eJZzYrgY24n9bLbZZuG3v/3tbG288cYbTYD40EMPNb9YvO222wYfUR44ef/99w+nnHJK849nnHFG+PznP9+BVOen2IA6t3ImAQIExiKQK5iqLSDK5TyWtTGWa2ur71isXEuAAAECBHILuP/OXYH+6F8A2EEd4iO566+/foi/iotH/KBH/BLwyiuvHOJ7/+Iv9/7zP/8zPProo83ft9hii3DFFVfM1nJ8HDc+uhuPSZMmNY/wxncDxiDuxBNPbL4cHI/hHtsdaCw+ZhwDxBgoxmPvvfcOO+20UxMmxi8Qx8d9X3755eaff/e734X11ltv2BlOnTq1mUf8heNSSy0VDjvssLDRRhs1v/g7/fTTBz82EkPNGCLOO++8HUh1fooNqHMrZxIgQGAsArmCqdoColzOY1kbY7m2tvqOxcq1BAgQIEAgt4D779wV6I/+BYAd1iEGep/5zGdCfCfgaMfmm2/evCcwPjb81iOGbXvttVfzQY2Rjj322KP5CMiECRNGPOfBBx8M22yzTfjTn/407DnxV30//elPm/cQjnbEoO+AAw4I8dHi4Y4YCF588cXNV5BTHzag1KLaI0CAwPACuYKp2gKiXM651n1t9c3lrF8CBAgQIJBCwP13CsXy2xAAdlHDZ599Nvz4xz9uvu4b34n3/PPPN4/rxo9oxPfsxUeFP/rRjw77Xr6h3cRf38WQ75ZbbmkCxRiwxevjF4C33nrrjkYUv/Ab3xF47rnnhhgIxhBvhRVWaILBAw88MPzjP/5jR+3cddddzbsKr7zyyuYjJQsttFDzePAuu+wS9txzzxHfd9hR46OcZAMaq6DrCRAg0JlArmCqtoAol3NnqyD9WbXVN72gFgkQIECAQO8E3H/3zrqfexIA9nN1Wjw2G1CLi2tqBAj0lUCuYKq2gCiXc67FVlt9cznrlwABAgQIpBBw/51Csfw2BIDl17DIGdiAiiybQRMgUKBArmCqtoAol3OuJVlbfXM565cAAQIECKQQcP+dQrH8NgSA5dewyBnYgIosm0ETIFCgQK5gqraAKJdzriVZW31zOeuXAAECBAikEHD/nUKx/DYEgOXXsMgZ2ICKLJtBEyBQoECuYKq2gCiXc64lWVt9cznrlwABAgQIpBBw/51Csfw2BIDl17DIGdiAiiybQRMgUKBArmCqtoAol3OuJVlbfXM565cAAQIECKQQcP+dQrH8NgSA5dewyBnYgIosm0ETIFCgQK5gqraAKJdzriVZW31zOeuXAAECBAikEHD/nUKx/DYEgOXXsMgZ2ICKLJtBEyBQoECuYKq2gCiXc64lWVt9cznrlwABAgQIpBBw/51Csfw2BIDl17DIGdiAiiybQRMgUKBArmCqtoAol3OuJVlbfXM565cAAQIECKQQcP+dQrH8NgSA5dewyBnYgIosm0ETIFCgQK5gqraAKJdzriVZW31zOeuXAAECBAikEHD/nUKx/DYEgOXXsMgZ2ICKLJtBEyBQoECuYKq2gCiXc64lWVt9cznrlwABAgQIpBBw/51Csfw2BIDl17DIGdiAiiybQRMgUKBArmCqtoAol3OuJVlbfXM565cAAQIECKQQcP+dQrH8NgSA5dewyBnYgIosm0ETIFCgQK5gqraAKJdzriVZW31zOeuXAAECBAikEHD/nUKx/DYEgOXXsMgZ2ICKLJtBEyBQoECuYKq2gCiXc64lWVt9cznrlwABAgQIpBBw/51Csfw2BIDl17DIGdiAiiybQRMgUKBArmCqtoAol3OuJVlbfXM565cAAQIECKQQcP+dQrH8NgSA5dewyBnYgIosm0ETIFCgQK5gqraAKJdzriVZW31zOeuXAAECBAikEHD/nUKx/DYEgOXXsMgZ2ICKLJtBEyBQoECuYKq2gCiXc3Zl100AACAASURBVK4lWVt9cznrlwABAgQIpBBw/51Csfw2BIDl17DIGdiAiiybQRMgUKBArmCqtoAol3OuJVlbfXM565cAAQIECKQQcP+dQrH8NgSA5dewyBnYgIosm0ETIFCgQK5gqraAKJdzriVZW31zOeuXAAECBAikEHD/nUKx/DYEgOXXsMgZ2ICKLJtBEyBQoECuYKq2gCiXc64lWVt9cznrlwABAgQIpBBw/51Csfw2BIDl17DIGdiAiiybQRMgUKBArmCqtoAol3OuJVlbfXM565cAAQIECKQQcP+dQrH8NgSA5dewyBnYgIosm0ETIFCgQK5gqraAKJdzriVZW31zOeuXAAECBAikEHD/nUKx/DYEgOXXsMgZ2ICKLJtBEyBQoECuYKq2gCiXc64lWVt9cznrlwABAgQIpBBw/51Csfw2BIDl17DIGdiAiiybQRMgUKBArmCqtoAol3OuJVlbfXM565cAAQIECKQQcP+dQrH8NgSA5dewyBnYgIosm0ETIFCgQK5gqraAKJdzriVZW31zOeuXAAECBAikEHD/nUKx/DYEgOXXsMgZ2ICKLJtBEyBQoECuYKq2gCiXc64lWVt9cznrlwABAgQIpBBw/51Csfw2BIDl17DIGdiAiiybQRMgUKBArmCqtoAol3OuJVlbfXM565cAAQIECKQQcP+dQrH8NgSA5dewyBnYgIosm0ETIFCgQK5gqraAKJdzriVZW31zOeuXAAECBAikEHD/nUKx/DYEgOXXsMgZ2ICKLJtBEyBQoECuYKq2gCiXc64lWVt9cznrlwABAgQIpBBw/51Csfw2BIDl17DIGdiAiiybQRMgUKBArmCqtoAol3OuJVlbfXM565cAAQIECKQQcP+dQrH8NgSA5dewyBnYgIosm0ETIFCgQK5gqraAKJdzriVZW31zOeuXAAECBAikEHD/nUKx/DYEgOXXsMgZ2ICKLJtBEyBQoECuYKq2gCiXc64lWVt9cznrlwABAgQIpBBw/51Csfw2BIDl17DIGdiAiiybQRMgUKBArmCqtoAol3OuJVlbfXM565cAAQIECKQQcP+dQrH8NgSA5dewyBnYgIosm0ETIFCgQK5gqraAKJdzriVZW31zOeuXAAECBAikEHD/nUKx/DYEgOXXsMgZ2ICKLJtBEyBQoECuYKq2gCiXc64lWVt9cznrlwABAgQIpBBw/51Csfw2BIDl17DIGdiAiiybQRMgUKBArmCqtoAol3OuJVlbfXM565cAAQIECKQQcP+dQrH8NgSA5dewyBnYgIosm0ETIFCgQK5gqraAKJdzriVZW31zOeuXAAECBAikEHD/nUKx/DYEgOXXsMgZ2ICKLJtBEyBQoECuYKq2gCiXc64lWVt9cznrlwABAgQIpBBw/51Csfw2BIDl17DIGdiAiiybQRMgUKBArmCqtoAol3OuJVlbfXM565cAAQIECKQQcP+dQrH8NgSA5dewyBnYgIosm0ETIFCgQK5gqraAKJdzriVZW31zOeuXAAECBAikEHD/nUKx/DYEgOXXsMgZ2ICKLJtBEyBQoECuYKq2gCiXc64lWVt9cznrlwABAgQIpBBw/51Csfw2BIDl17DIGdiAiiybQRMgUKBArmCqtoAol3OuJVlbfXM565cAAQIECKQQcP+dQrH8NgSA5dewyBnYgIosm0ETIFCgQK5gqraAKJdzriVZW31zOeuXAAECBAikEHD/nUKx/DYEgOXXsMgZ2ICKLJtBEyBQoECuYKq2gCiXc64lWVt9cznrlwABAgQIpBBw/51Csfw2BIDl17DIGdiAiiybQRMgUKBArmCqtoAol3OuJVlbfXM565cAAQIECKQQcP+dQrH8NgSA5dewyBnYgIosm0ETIFCgQK5gqraAKJdzriVZW31zOeuXAAECBAikEHD/nUKx/DYEgOXXsMgZ2ICKLJtBEyBQoECuYKq2gCiXc64lWVt9cznrlwABAgQIpBBw/51Csfw2BIDl17DIGdiAiiybQRMgUKBArmCqtoAol3OuJVlbfXM565cAAQIECKQQcP+dQrH8NgSA5dewyBnYgIosm0ETIFCgQK5gqraAKJdzriVZW31zOeuXAAECBAikEHD/nUKx/DYEgOXXsMgZ2ICKLJtBEyBQoECuYKq2gCiXc64lWVt9cznrlwABAgQIpBBw/51Csfw2BIDl17DIGdiAiiybQRMgUKBArmCqtoAol3OuJVlbfXM565cAAQIECKQQcP+dQrH8NgSA5dewyBnYgIosm0ETIFCgQK5gqraAKJdzriVZW31zOeuXAAECBAikEHD/nUKx/DYEgOXXsMgZ2ICKLJtBEyBQoECuYKq2gCiXc64lWVt9cznrlwABAgQIpBBw/51Csfw2BIDl17DIGdiAiiybQRMgUKBArmCqtoAol3OuJVlbfXM565cAAQIECKQQcP+dQrH8NgSA5dewyBnYgIosm0ETIFCgQK5gqraAKJdzriVZW31zOeuXAAECBAikEHD/nUKx/DYEgOXXsMgZ2ICKLJtBEyBQoECuYKq2gCiXc64lWVt9cznrlwABAgQIpBBw/51Csfw2BIDl17DIGdiAiiybQRMgUKBArmCqtoAol3OuJVlbfXM565cAAQIECKQQcP+dQrH8NgSA5dewyBnYgIosm0ETIFCgQK5gqraAKJdzriVZW31zOeuXAAECBAikEHD/nUKx/DYEgOXXsMgZ2ICKLJtBEyBQoECuYKq2gCiXc64lWVt9cznrlwABAgQIpBBw/51Csfw2BIDl17DIGdiAiiybQRMgUKBArmCqtoAol3OuJVlbfXM565cAAQIECKQQcP+dQrH8NgSA5dewyBnYgIosm0ETIFCgQK5gqraAKJdzriVZW31zOeuXAAECBAikEHD/nUKx/DYEgOXXsMgZ2ICKLJtBEyBQoECuYKq2gCiXc64lWVt9cznrlwABAgQIpBBw/51Csfw2BIDl17DIGdiAiiybQRMgUKBArmCqtoAol3OuJVlbfXM565cAAQIECKQQcP+dQrH8NgSA5dewyBnYgIosm0ETIFCgQK5gqraAKJdzriVZW31zOeuXAAECBAikEHD/nUKx/DYEgOXXsMgZ2ICKLJtBEyBQoECuYKq2gCiXc64lWVt9cznrlwABAgQIpBBw/51Csfw2BIDl17DIGdiAiiybQRMgUKBArmCqtoAol3OuJVlbfXM565cAAQIECKQQcP+dQrH8NgSA5dewyBnYgIosm0ETIFCgQK5gqraAKJdzriVZW31zOeuXAAECBAikEHD/nUKx/DYEgOXXsMgZ2ICKLJtBEyBQoECuYKq2gCiXc64lWVt9cznrlwABAgQIpBBw/51Csfw2BIDl17DIGdiAiiybQRMgUKBArmCqtoAol3OuJVlbfXM565cAAQIECKQQcP+dQrH8NgSA5dewyBnYgIosm0ETIFCgQK5gqraAKJdzriVZW31zOeuXAAECBAikEHD/nUKx/DYEgOXXsMgZ2ICKLJtBEyBQoECuYKq2gCiXc64lWVt9cznrlwABAgQIpBBw/51Csfw2BIDl17DIGdiAiiybQRMgUKBArmCqtoAol3OuJVlbfXM565cAAQIECKQQcP+dQrH8NgSA5dewyBnYgIosm0ETIFCgQK5gqraAKJdzriVZW31zOeuXAAECBAikEHD/nUKx/DYEgOXXsMgZ2ICKLJtBEyBQoECuYKq2gCiXc64lWVt9cznrlwABAgQIpBBw/51Csfw2BIDl17DIGdiAiiybQRMgUKBArmCqtoAol3OuJVlbfXM565cAAQIECKQQcP+dQrH8NgSA5dewyBnYgIosm0ETIFCgQK5gqraAKJdzriVZW31zOeuXAAECBAikEHD/nUKx/DZ6GgD+8Y9/DOedd1545plnwkorrRQ++9nPhmWXXbZ8RTPoWsAG1DWZCwgQIDBXArmCqdoColzOc7UoElxUW30TkGmCAAECBAhkE3D/nY2+rzpOFgDecsstYf/99w/zzTdfmDp1alhkkUVmmeiUKVOav8+cOXPw3y+88MLhggsuCFtssUVfoRjM+AvYgMbfWA8ECBCIArmCqdoColzOuVZ5bfXN5axfAgQIECCQQsD9dwrF8ttIFgAeccQR4Zhjjglbb711uPjii2eR+fOf/xzWWGON8MYbb8wmtuiii4b7778/LL744uVrmkHHAjagjqmcSIAAgTEJ5AqmaguIcjmPaXGM4eLa6jsGKpcSIECAAIHsAu6/s5egLwaQLADcdNNNw/XXXx++//3vhwMOOGCWyR188MHhP/7jP8ICCywQfvrTnza/+Lv00kvDbrvtFl577bVw1FFHhcMOO6wvQAyiNwI2oN4464UAAQK5gqnaAqJczrlWeG31zeWsXwIECBAgkELA/XcKxfLbSBYArrLKKuGRRx4JV155ZfjQhz40i8yqq64aHn744XDggQeG7373u4N/O+igg8L3vve9sPHGGzfhoaMeARtQPbU2UwIE8grkCqZqC4hyOedaXbXVN5ezfgkQIECAQAoB998pFMtvI1kAOHHixPDKK6+E22+/PayzzjqDMo899lhYYYUVwjzzzBOuu+66JuwbOOKvAOMjw+9617uaD4M46hGwAdVTazMlQCCvQK5gqraAKJdzrtVVW31zOeuXAAECBAikEHD/nUKx/DaSBYBvf/vbm3f8XXvttWGTTTYZlPnFL34Rdt5557DQQguF559/Psw777yDf/vDH/4Q3vOe94S3ve1t4W9/+1v5mmbQsYANqGMqJxIgQGBMArmCqdoColzOY1ocY7i4tvqOgcqlBAgQIEAgu4D77+wl6IsBJAsA46/8Hn/88XDmmWeGz33uc4OT22OPPcIZZ5zRvPfv8ssvn2XSN954YxMWxg+APPXUU30BYhC9EbAB9cZZLwQIEMgVTNUWEOVyzrXCa6tvLmf9EiBAgACBFALuv1Molt9GsgDwf//v/x1+/etfh/gxkKuuuipMmDAhPPvss+Gf//mfw4svvhiOPfbYcOihh84iFj8IEsPCtddeO9x5553la5pBxwI2oI6pnEiAAIExCeQKpmoLiHI5j2lxjOHi2uo7BiqXEiBAgACB7ALuv7OXoC8GkCwA/OUvfxk++clPNu/6e+9739v8su/CCy8Mf/rTn5pHfB988MHmXYBDj/333z+ceuqpIYaH559/fl+AGERvBGxAvXHWCwECBHIFU7UFRLmcc63w2uqby1m/BAgQIEAghYD77xSK5beRLACMFDvssEM477zzGpUYBM6cObP539/4xjfC0UcfPYvW3//+97D88ss3j/7+8Ic/DPvtt1/5mmbQsYANqGMqJxIgQGBMArmCqdoColzOY1ocY7i4tvqOgcqlBAgQIEAgu4D77+wl6IsBJA0AZ8yYEU455ZRw7rnnhieffDIss8wyYbfddgu77777bJMdePw3/uH+++8Pq666al+AGERvBGxAvXHWCwECBHIFU7UFRLmcc63w2uqby1m/BAgQIEAghYD77xSK5beRNAAsn8MMeiVgA+qVtH4IEKhdIFcwVVtAlMs51/qurb65nPVLgAABAgRSCLj/TqFYfhsCwPJrWOQMbEBFls2gCRAoUCBXMFVbQJTLOdeSrK2+uZz1S4AAAQIEUgi4/06hWH4bAsDya1jkDGxARZbNoAkQKFAgVzBVW0CUyznXkqytvrmc9UuAAAECBFIIuP9OoVh+G+MSAE6bNi2cccYZ4YYbbmjeBfjqq6+GO+64I6y11lqDYtdee2248847w8SJE8NnP/vZ8iXNoCsBG1BXXE4mQIDAXAvkCqZqC4hyOc/1whjjhbXVd4xcLidAgAABAlkF3H9n5e+bzpMGgNOnT28++nHBBRc0Exz4CnD8InAM+4YGgL/73e/CBz7wgeZrwffdd5+PgPTNkujNQGxAvXHWCwECBHIFU7UFRLmcc63w2uqby1m/BAgQIEAghYD77xSK5beRNADcfvvtw9SpU5vgb6ONNgqbbrpp+M53vtOEfG8NACPduuuuG+66665w7LHHhkMPPbR8TTPoWMAG1DGVEwkQIDAmgVzBVG0BUS7nMS2OMVxcW33HQOVSAgQIECCQXcD9d/YS9MUAkgWAv/zlL8MnP/nJJuybMmVK2HPPPZsJTpgwYcQA8Kijjgrx/7bccsvwm9/8pi9ADKI3Ajag3jjrhQABArmCqdoColzOuVZ4bfXN5axfAgQIECCQQsD9dwrF8ttIFgB+/OMfD//zP/8TPve5z4WzzjprUGa0APCiiy4KH/3oR8OKK64YHnnkkfI1zaBjARtQx1ROJECAwJgEcgVTtQVEuZzHtDjGcHFt9R0DlUsJECBAgEB2Afff2UvQFwNIFgAut9xyzQc/LrzwwrDNNtt0FAD+/ve/DxtuuGFYYIEFwiuvvNIXIAbRGwEbUG+c9UKAAIFcwVRtAVEu51wrvLb65nLWLwECBAgQSCHg/juFYvltJAsA3/72t4c33ngj3Hbbbc27/QaO0X4BOBAAzj///M2Xgh31CNiA6qm1mRIgkFcgVzBVW0CUyznX6qqtvrmc9UuAAAECBFIIuP9OoVh+G8kCwCWWWCI899xz4be//W344Ac/2FEAeM4554SddtopLLvssiEuSEc9AjagemptpgQI5BXIFUzVFhDlcs61umqrby5n/RIgQIAAgRQC7r9TKJbfRrIAcJNNNgk33XRTOOmkk8JBBx3UUQC44447hnPPPTdsvfXW4eKLLy5f0ww6FrABdUzlRAIECIxJIFcwVVtAlMt5TItjDBfXVt8xULmUAAECBAhkF3D/nb0EfTGAZAHgMcccE4444oiw0korhbvvvjvER4LjMdIjwJdccknYbrvtwsyZM8PJJ58c9t13374AMYjeCNiAeuOsFwIECOQKpmoLiHI551rhtdU3l7N+CRAgQIBACgH33ykUy28jWQD4/PPPh5VXXjm88MILYcsttwxnn312WGyxxWYLAF977bUwefLkcPjhh4f4v5dZZpnw0EMPDQaG5ZOaQScCNqBOlJxDgACBsQvkCqZqC4hyOY99hcxdC7XVd+6UXEWAAAECBPpDwP13f9Qh9yiSBYBxIlOnTg0f+9jHwowZM5pAb7PNNgvxl37zzDNP2GGHHUIMCa+//vrmi7/xl39ve9vbwqWXXho+9KEP5XbQf48FbEA9BtcdAQLVCuQKpmoLiHI551rYtdU3l7N+CRAgQIBACgH33ykUy28jaQAYOS6//PLwuc99Ljz11FONTgz/hh4x+IvH4osvHn7+85+HLbbYonxFM+hawAbUNZkLCBAgMFcCuYKp2gKiXM5ztSgSXFRbfROQaYIAAQIECGQTcP+djb6vOk4eAMbZTZ8+PZxxxhnh17/+dbj11lubX/7FY8EFFwyTJk0KH/3oR8M+++wT3vGOd/QVhsH0TsAG1DtrPREgULdArmCqtoAol3Ou1V1bfXM565cAAQIECKQQcP+dQrH8NsYlAHwry5tvvhn+/ve/h/nnn798MTNIImADSsKoEQIECMxRIFcwVVtAlMt5jgtgnE6orb7jxKhZAgQIECDQEwH33z1h7vtOehIA9r2CAfZcwAbUc3IdEiBQqUCuYKq2gCiXc65lXVt9cznrlwABAgQIpBBw/51Csfw2BIDl17DIGdiAiiybQRMgUKBArmCqtoAol3OuJVlbfXM565cAAQIECKQQcP+dQrH8NpIFgM8880w45JBDGpFjjjkmLLvssqPqPPbYY+Hwww9vPhLy3e9+N7zzne8sX9MMOhawAXVM5UQCBAiMSSBXMFVbQJTLeUyLYwwX11bfMVC5lAABAgQIZBdw/529BH0xgGQB4I9+9KOw3377hfXWWy/cdtttHU1u/fXXD3/4wx/Cf/3Xf4Xdd9+9o2uc1A4BG1A76mgWBAj0v0CuYKq2gCiXc64VWFt9cznrlwABAgQIpBBw/51Csfw2kgWAW2+9dbjsssvC0UcfHb7+9a93JHPiiSeGr33ta2HbbbcNF154YUfXOKkdAjagdtTRLAgQ6H+BXMFUbQFRLudcK7C2+uZy1i8BAgQIEEgh4P47hWL5bSQLAFddddXw8MMPh0svvTT8y7/8S0cyV155ZfjXf/3XsNpqq4X77ruvo2uc1A4BG1A76mgWBAj0v0CuYKq2gCiXc64VWFt9cznrlwABAgQIpBBw/51Csfw2kgWACy20UHjttdeax3/XXXfdjmT++Mc/hkmTJoV47UsvvdTRNU5qh4ANqB11NAsCBPpfIFcwVVtAlMs51wqsrb65nPVLgAABAgRSCLj/TqFYfhvJAsB3vetd4YUXXgjTpk0Lm266aUcy1157bdhss83CwgsvHF588cWOrnFSOwRsQO2oo1kQIND/ArmCqdoColzOuVZgbfXN5axfAgQIECCQQsD9dwrF8ttIFgCus8464e677w7HHXdc+OpXv9qRzAknnNC8L3D11VcP9957b0fXOKkdAjagdtTRLAgQ6H+BXMFUbQFRLudcK7C2+uZy1i8BAgQIEEgh4P47hWL5bSQLAL/0pS+Fk08+OSy77LLhnnvuCRMnThxVJ/7ib6211gpPPPFE2HvvvcOpp55avqYZdCxgA+qYyokECBAYk0CuYKq2gCiX85gWxxgurq2+Y6ByKQECBAgQyC7g/jt7CfpiAMkCwPjrv/juv5kzZ4ZNNtkknHvuuWHppZcedpJPPvlk+PSnPx2uv/76MGHChHDrrbeG9dZbry9ADKI3Ajag3jjrhQABArmCqdoColzOuVZ4bfXN5axfAgQIECCQQsD9dwrF8ttIFgBGiq985SvhP//zP8M888wTFlxwwbDDDjs07wNcZpllmn/3+OOPh2uuuSacc845Yfr06Y3eAQccEL7//e+XL2kGXQnYgLricjIBAgTmWiBXMFVbQJTLea4XxhgvrK2+Y+RyOQECBAgQyCrg/jsrf990njQAnDFjRthrr73CGWec0Uwwhn7DHfFXgvHYc889w5QpU0Y8r2+UDCS5gA0oOakGCRAgMKxArmCqtoAol3OuZV9bfXM565cAAQIECKQQcP+dQrH8NpIGgAMcv/71r8OJJ54YbrrppuaR4KFHDAXjI8LxQyHbbbdd+YJmMFcCNqC5YnMRAQIEuhbIFUzVFhDlcu56QSS6oLb6JmLTDAECBAgQyCLg/jsLe991Oi4B4MAsn3vuufCHP/whPPPMM82/WnzxxcOkSZPCoosu2ncQBtRbARtQb731RoBAvQK5gqnaAqJczrlWdm31zeWsXwIECBAgkELA/XcKxfLbSBYA/tu//VujsfXWWzcf+HAQGE3ABmR9ECBAoDcCuYKp2gKiXM69WUX900tt66p/5I2EAAECBEoWcP9dcvXSjT1ZADjvvPM2o5o6dWrYcsst041QS60UsAG1sqwmRYBAHwrkCqZqC2pyOffhkhvXIdW2rsYVU+MECBAgUI2A++9qSj3qRJMFgEsvvXR4+umnw+9///uw3nrr0SUwqoANyAIhQIBAbwRyBVO1BTW5nHuzivqnl9rWVf/IGwkBAgQIlCzg/rvk6qUbe7IAcPPNNw9XX311uOCCC8LHPvaxdCPUUisFbECtLKtJESDQhwK5gqnagppczn245MZ1SLWtq3HF1DgBAgQIVCPg/ruaUo860WQB4E9+8pOw5557ho9//ONNCOggMJqADcj6IECAQG8EcgVTtQU1uZx7s4r6p5fa1lX/yBsJAQIECJQs4P675OqlG3uyAHDmzJnhIx/5SLjqqqvCEUcc0fzfPPPMk26kfdJS/KJxDDt//etfh4ceeij89a9/DYsttlhYYYUVwqabbho+8YlPhI033njU0V5yySXhtNNOCzfffHPz2PQSSywRNtpoo7D33nuHrbbaqqOZTp8+PUyePDmce+654cEHHwyvv/56M4Ztt902fOlLXworrrhiR+3cfffd4Yc//GG44oorwmOPPRYWXnjhsOaaa4Zddtkl7LHHHmG++ebrqJ1uT7IBdSvmfAIECMydQK5gqragJpfz3K2Kcq+qbV2VWykjJ0CAAIF+EnD/3U/VyDeWZAHgNddcE1599dXw1a9+Ndx5551htdVWCzvuuGNYZ511wqKLLhoGPhIy0lRjeNbvRwzb9t133/Dss8+OONT4+POvfvWrYf8eQ9J99tmnCf9GOmII+KMf/WjU8DQGjzHou//++4dt5p3vfGf42c9+FrbZZptRSX/84x+H/fffP/ztb38b9rz3ve994aKLLmoCztSHDSi1qPYIECAwvECuYKq2oCaXc23rvrZ1VVt9zZcAAQIExkfA/ff4uJbWarIAcMKECXP9i7/4S8E333yzr+3++7//O+y+++5hxowZYckll2yCwA984APhXe96V3jyySebXwNeeOGFIYZvMSgc7vjGN74RjjvuuOZPkyZNCoccckhYZZVVmmtPOumkcPvttzd/i+cdc8wxw7bx8ssvhw033DDcd999zd/32muvsNNOO4UFFlggTJs2LRx//PEhnrPggguGG264oQlghzsuvfTSJiCM81lqqaWaPt/73veG5557Lpx++umDj3HHYDa2G+ub8rABpdTUFgECBEYWyBVM1RbU5HKube3Xtq5qq6/5EiBAgMD4CLj/Hh/X0lpNGgDO7eRjAPj3v/99bi8f9+vuvffeJrCLv5T74Ac/OBj0DddxfBT3H/7hH2b7U3xMNz5aG4PODTbYIMRfTMbQbuCIj/Ruttlm4dZbb20eu40BXwwH33oceeSR4aijjmr+dQwNDz744FlOiaFfDO1iPx/+8IebR7LfesS/xbHEMU2cODHcdttts/UVfxl4yimnNJeeddZZYdddd03qbANKyqkxAgQIjCiQK5iqLajJ5Vzb0q9tXdVWX/MlQIAAgfERcP89Pq6ltZosAIxfAB7LYu/C/wAAIABJREFUEcOvfj3+5V/+JVx55ZVh8cUXDzEMjP+/22NooBZDuvh47VuPG2+8cfD9gQcccEDzbr6hxxtvvNH8+vD5559vAry77rpr2F/mxceMp0yZ0lwaA8X1119/lnbiLxR32GGH5t/FXwweeuihs40lBpLLL798847Dd7/73c1j3SkPG1BKTW0RIEBgZIFcwVRtQU0u59rWfm3rqrb6mi8BAgQIjI+A++/xcS2t1WQBYGkT73S88Zd4MWyLR/z13Te/+c1OLx08L777L36gI35kY4011mhCxJGO+Pf4br8Yvj366KOzPFZ9+eWXNx9aiccJJ5zQvG9xuGNokPj1r389HHvssbOcFj/wEd8RGI8nnngiLL300sO2MzRIfOCBB8Kqq67a9dxHusAGlIxSQwQIEBhVIFcwVVtQk8u5tuVf27qqrb7mS4AAAQLjI+D+e3xcS2tVADiHih199NHNF43jEb+Yu9ZaazX/O/4yLn4ROL4DcE4fyXj44YcHH7H9whe+0HzkY6Qj/n3gIyHxupVWWmnw1DiOOJ54jPQrwvi3+IjvIossEl555ZXmceC3/jozfiH4L3/5S1h99dUH3yU43Hh+/vOfh5133rn5U/zycXwHYqrDBpRKUjsECBAYXSBXMFVbUJPLubb1X9u6qq2+5kuAAAEC4yPg/nt8XEtrVQA4h4rFr+1OnTq1+bhHDP3iL+fiu/fuuOOOwStjSLfbbruFgw46KCy88MKztXjxxReH7bbbrvn33/ve98KXv/zlEXuNf//KV77S/D1eN/RLvp/+9KfDeeed1/wtjiWGfCMd6667bjPGJZZYIjz11FODp8UPhMT3/sVfJY72xeJ4QfwoyXve857m2viuwTjvVIcNKJWkdggQIDC6QK5gqragJpdzbeu/tnVVW33NlwABAgTGR8D99/i4ltaqAHAOFYvh3iOPPBJioBa/+jt58uQRr4jvyotf11122WVnOSf+4i9+NTge8f17n/rUp0ZsIwZ8MeiLR7wu/iJw4IjvDbzpppvCQgst1Hzpd7QjBo4xQIzHa6+9Fuaff/7mfw99pDm+l/Dkk08esZn4C8cYIMYjfmk4/iKw0yNuMKMd8dHjjTbaqDkl/hoxPvLsIECAAIH0ArmCqdqCmlzO6VdMf7dY27rq72oYHQECBAiUIiAALKVS4zvOZAHg5ptvPtcjjV8Bjh/Z6Mcj/vLvxRdfbAK0+BXg+Ku7+P69T3ziE80v6eLHMeKjub/5zW+a4W+yySbh2muvneXjHN/+9rfDIYcc0vw9nrfVVluNONX494Ff/X3nO99pflU4cKy99trhnnvuCUsttVR48sknR+XacccdwznnnNOcE4O8gceUb7nllsHgLb5DMM5lpOPVV18NCy64YPPnGCheeOGFHZco1rTTQwDYqZTzCBAg0L1ArmCqtqAml3P3K6LsK2pbV2VXy+gJECBAoF8EBID9Uom840gWAE6YMKH5YEV8tHSk462h0MC58d///e9/zysxQu/zzTff4NjmnXfecN111832Bd8ZM2Y0AdlACPjWX/kNfY9gDDpHC0uvuuqqsMUWWzSjidcddthhgyNbZZVVQnwvYPygSPxAyGjHrrvuGs4+++zmlKEBWwwn43sB43H44YeHb33rWyM2E+cV5xyPOKYrrrii4xoJADumciIBAgTGVSBXMFVbUJPLeVwXTx82Xtu66sMSGBIBAgQIFCggACywaOMw5GQB4Ic+9KFZvlg73FjjRyn+9Kc/hRdeeKE5N35VdplllmlOnTZt2jhMb+xNxnf6xXHHY7THYOMHQuIjwPGIvw48//zzBzuv8ReAHgEe+9rTAgECBFII5AqmagtqcjmnWCMltVHbuiqpNsZKgAABAv0rIADs39r0cmTJAsBOBx1/9RffTXfggQeGl156KVxwwQXNu/X69YgB5cDjtmeddVaIv6wb6YjvsXvsscdm+4Veje8AnFM9bUBzEvJ3AgQIpBHIFUzVFtTkck6zSspppbZ1VU5ljJQAAQIE+lnA/Xc/V6d3Y+t5ADgwtfgRiPiF2TfffDP84Q9/CMstt1zvZt1FT/FDFfG9efGY0+O7G2+8cbjxxhub9wXGD28MHBdddFHYfvvtm38cy1eA48dDBn5ZOJavAL/jHe9oxuIrwF0sBKcSIECgUIFcwVRtQU0u50KX5VwPu7Z1NddQLiRAgAABAkMEBICWQxTIFgDGzuOjsfFDFF/84hfD97///b6syO677x7OPPPMZmyXXXZZ+Nd//dcRxzkQFr71K73xvX3x/X3xiF/1jb8IHOmIfz/ttNOaP8fr4leIB474sZH4XsB43HDDDbO9i3DgvBiqxo+VxEeX4/v+rr766lm6W3HFFZv3Aq6++urNV4FHOuJXf3feeefmzz/5yU9CtEh12IBSSWqHAAECowvkCqZqC2pyOde2/mtbV7XV13wJECBAYHwE3H+Pj2tprWYNAGOI9f73vz+svPLK4cEHH+xLuzPOOCP827/9WzO2U089Neyzzz4jjnPxxRcPzz77bFhttdXC/fffP3hefOw5Ph78+OOPhzXWWCPce++9I7ax5pprNqFc/EVkDOmGfkwjBpBbbrllc238em8MT4c74q8Q468R4/G1r30tHHfccbOcFkO9GO7FI/4Sc+mllx62nTjXKVOmNH+L84nzSnXYgFJJaocAAQKjC+QKpmoLanI517b+a1tXtdXXfAkQIEBgfATcf4+Pa2mtZg0Af//734cNN9wwvP3tbw/Tp0/vS7sY6MX3AL7xxhvNr/9iCDfcEX9lFz+EEo899tgj/Nd//dcsp+23335NgBiPkX69NzS4i+dPnjx5ljZef/31sOSSSzYfUYlBYfzwyHBf2x0a3N18882N8dDjnHPOCTvuuGPzr44//vhw6KGHzjalWI8YWsZHjddaa62mr5SHDSilprYIECAwskCuYKq2oCaXc21rv7Z1VVt9zZcAAQIExkfA/ff4uJbWatYAMD72++///u/hXe96V3jmmWf61m5oeBd/ORe/Bjz0iB8ziY/axncZxmO40O2BBx4Ia6+9dvPOww022CBcc801YYEFFhhs5tVXX23auPXWW8N8880X7rnnnuYryW89hj4GfNJJJ4WDDz54llNiuBjbif1sttlm4be//e1sbcQwMwaIDz30UJg4cWK47bbbBh9RHjh5//33D6ecckrzj/FXkJ///OeT1scGlJRTYwQIEBhRIFcwVVtQk8u5tqVf27qqrb7mS4AAAQLjI+D+e3xcS2s1WwAYg6rtttsuPP/8881jrVOnTu1bu6effroJ7R599NEmnIu/sPvEJz7RhGd33nlnOPHEEwffpbfvvvsOBmdvnVB8HDc+uhuPSZMmNY/wxncDxiAutnH77bc3fxvusd2BtmLYGMcSA8V47L333k0gGcPEadOmNY/7vvzyy80//+53vwvrrbfesK7RO36YZMaMGWGppZYKhx12WIjvMIy/+Dv99NMHPzYSv9AcQ8R55503aX1sQEk5NUaAAAEBYOY1IADsTQEEgL1x1gsBAgQItEvA/Xe76jm3s0kWAP5/9u4F3Mox///4d+8olcqECh3kTKFIDj80DmPUOIzTMDKZqIR+xIjGMRoxmDEMUchhfpihwZgyJpGEqNSMSkSm4XI2zpXDrv2/vs/vt/e/wz6stZ5nPd/78F7XNdeFvZ7nvr+v7/27r//9+a+1niuuuKLROWjYpAGTfsrtxRdfTMIn/Qrr448/3uDDNRq9cQ5v0N/tO+KIIxr8rUL9rUB9wMf6669f54y03sGDBycP1KjvpV8f1oeAVFZW1vse/b3Efv36yeuvv17nezSYvPfee5OAtaGXBn3Dhg0T/WpxXS8NBCdPniz624ZZv9iAshblfggggEDdAlbBVGxBjZVzbOs+tnUVW3+pFwEEEECgPAKcv8vj6ttdMwsANbCq6/fo6gPRB2Pop+n0a6zDhw/3wk2fqqu/4zdx4sQkfNNP2ulv8umDTPTpvQcccEBBdein7zTkmz17dvLVZw3Y9Hf69B59+/Yt6B46F/2NwAcffDAJJTXE69SpUxIMnn322dKlS5eC7rNgwQK58cYb5cknn0weUqJPMNavB/fv318GDRqU9KgcLzagcqhyTwQQQGBdAatgKragxso5tjUf27qKrb/UiwACCCBQHgHO3+Vx9e2umQaAjRWvAWGrVq2ka9euye/T6ddX9QETvOITYAOKr+dUjAACNgJWwVRsQY2Vs82qshs1tnVlJ83ICCCAAAIhCXD+DqmbpdeSWQBY+hS4MkYBNqAYu07NCCBgIWAVTMUW1Fg5W6wpyzFjW1eW1oyNAAIIIBCOAOfvcHqZphICwDR6XFuyABtQyXRciAACCBQlYBVMxRbUWDkXtRgCeHNs6yqAllECAggggIADApy/HWiCA1MgAHSgCTFOgQ0oxq5TMwIIWAhYBVOxBTVWzhZrynLM2NaVpTVjI4AAAgiEI8D5O5xepqmk7AFgVVVV8uRffX3ve98r20Ml0iBwbf4CbED5mzMiAgjEKWAVTMUW1Fg5x7aqY1tXsfWXehFAAAEEyiPA+bs8rr7dtSwB4KJFi2Ts2LEyderU5Gm5+sRffelDQLbddlv5wQ9+IEOHDuUBIL6tlgznywaUISa3QgABBBoQsAqmYgtqrJxjW/yxravY+ku9CCCAAALlEeD8XR5X3+6aeQD4y1/+Uq677jpZtWpVbfC3NooGgZWVlTJixAgZM2aMb2bMNwMBNqAMELkFAgggUICAVTAVW1Bj5VzAEgjqLbGtq6CaRzEIIIAAAmYCnL/N6J0aONMA8L//+7+TT/7VfOJvxx13lD333FM6dOiQ/LcPPvhAZs2aJa+88kqCoEHgsGHD5IYbbnAKhcmUX4ANqPzGjIAAAgiogFUwFVtQY+Uc2yqPbV3F1l/qRQABBBAojwDn7/K4+nbXzALA5557Tvbbb78k1NPgb/z48bLPPvvU6TFz5szkK8Dz589P3j9jxox63+sbKPMtTIANqDAn3oUAAgikFbAKpmILaqyc064P366PbV351h/miwACCCDgpgDnbzf7kvesMgsABwwYIP/zP/8jW221lbz00kvSpk2bBmv5/PPPZffdd5d//etf0r9/f7nnnnvyrp3xDAXYgAzxGRoBBKISsAqmYgtqrJyjWswiEtu6iq2/1IsAAgggUB4Bzt/lcfXtrpkFgF27dpW33npLxo0bJ4MGDSrI4bbbbpPTTjtNunTpkgSBvOIRYAOKp9dUigACtgJWwVRsQY2Vs+3qyn/02NZV/sKMiAACCCAQogDn7xC7WnxNmQWAzZs3l2+//Tb5jT/9ZF8hL/2k4B577CEbbLCBLF++vJBLeE8gAmxAgTSSMhBAwHkBq2AqtqDGytn5BZjxBGNbVxnzcTsEEEAAgUgFOH9H2vi1ys4sAPze974nX3zxhUybNk3233//gnSnT58uBxxwQPJ14U8//bSga3hTGAJsQGH0kSoQQMB9AatgKragxsrZ/RWY7QxjW1fZ6nE3BBBAAIFYBTh/x9r5NevOLADcbbfd5J///Kecc845ct111xWke95558lvf/tb6dmzZ/K7gbziEWADiqfXVIoAArYCVsFUbEGNlbPt6sp/9NjWVf7CjIgAAgggEKIA5+8Qu1p8TZkFgBdffLGMGTNGmjZtKpMnT5aDDjqowdk8+eST0q9fP6mqqpILL7xQRo8eXfzsucJbATYgb1vHxBFAwDMBq2AqtqDGytmz5Zh6urGtq9Rg3AABBBBAAAER4fzNMlCBzALAjz/+WLbZZhv58ssvpUmTJjJ48GA55ZRTkk/3VVZWJtqrVq2SefPmyR133CG33357Ev7p13/feOMN2XjjjelIRAJsQBE1m1IRQMBUwCqYii2osXI2XVwGg8e2rgyIGRIBBBBAIEABzt8BNrWEkjILAHXsKVOmyBFHHJE8DKSioiKZjn4isG3btsm//+c//0n+pq/q6urkb5MmTZKDDz64hKlzic8CbEA+d4+5I4CATwJWwVRsQY2Vs09rMYu5xrausjDjHggggAACCHD+Zg2oQKYBoN7wH//4hwwZMkTmzJnToLA+/Xf8+PGy66670okIBdiAImw6JSOAgImAVTAVW1Bj5WyyqAwHjW1dGVIzNAIIIIBAQAKcvwNqZopSMg8Aa+Yye/ZsmTp1qixYsEA++eST5D/rJwG7d++efOJPA0Be8QqwAcXbeypHAIF8BayCqdiCGivnfFeT/WixrSt7cWaAAAIIIBCCAOfvELqYvoayBYDpp8YdQhZgAwq5u9SGAAIuCVgFU7EFNVbOLq21POYS27rKw5QxEEAAAQTCF+D8HX6PC6mQALAQJd6TuQAbUOak3BABBBCoU8AqmIotqLFyjm3Zx7auYusv9SKAAAIIlEeA83d5XH27a24B4Keffipvvvlm8kTgLl26JF8H5hWvABtQvL2ncgQQyFfAKpiKLaixcs53NdmPFtu6shdnBggggAACIQhw/g6hi+lrKDkArHmab5MmTUT/V9/rlVdekeHDh8tTTz2VPPlXX/pE4H333Veuu+466dWrV/oquIN3AmxA3rWMCSOAgKcCVsFUbEGNlbOny7Lkace2rkqG4kIEEEAAAQRWE+D8zXJIsrjqmlSuCI+lS5fK1ltvnQR5v/vd72TYsGF1Xv3SSy/JAQccIMuWLasN/1Z/Y7NmzeSvf/1r8lAQXnEJsAHF1W+qRQABOwGrYCq2oMbK2W5l2Ywc27qyUWZUBBBAAIHQBDh/h9bR0uopKQC8++67ZeDAgdKiRQv54IMPpGXLluuMXlVVJd26dZPXX389+VvTpk1lzz33lM0331zmzp1b+9+32GILefXVV+u8R2klcZUPAmxAPnSJOSKAQAgCVsFUbEGNlXMIa7SYGmJbV8XY8F4EEEAAAQTqE+D8zdpQgZICQA3/NAQ8+uijZeLEiXVK3n///dK/f//kU4KdOnWSSZMmSffu3WvfO2rUKLniiiuSv992221yyimn0JGIBNiAImo2pSKAgKmAVTAVW1Bj5Wy6uAwGj21dGRAzJAIIIIBAgAKcvwNsagkllRQA6if55syZIzfeeKOceeaZdQ774x//WB599NEk4Hv44YfliCOOWOd9++23nzz//POi7/3zn/9cwvS5xFcBNiBfO8e8EUDANwGrYCq2oMbK2bf1mHa+sa2rtF5cjwACCCCAgApw/mYdqEBJAeCWW24pb7/9dvJgjz59+tQpqU/5/eyzz6Rdu3by3nvvJUHg2q9x48bJ6aefLttss40sXryYjkQkwAYUUbMpFQEETAWsgqnYghorZ9PFZTB4bOvKgJghEUAAAQQCFOD8HWBTSyippABQf/Pv66+/lnnz5skuu+yyzrCLFi1Kfv9PQ79jjz1W/vSnP9U5Nf30nz4NuFWrVvL555+XMH0u8VWADcjXzjFvBBDwTcAqmIotqLFy9m09pp1vbOsqrRfXI4AAAgggoAKcv1kHKpAqAHzuuedkr732WkfyrrvuSn7TTwPAK6+8UkaOHFmn9ssvvyw9evSQJk2ayHfffUdHIhJgA4qo2ZSKAAKmAlbBVGxBjZWz6eIyGDy2dWVAzJAIIIAAAgEKcP4OsKkllFRSANi1a1d566236n14x5AhQ+T2229PAsApU6bIQQcdVOfUZsyYkXyFuHXr1snXhXnFI8AGFE+vqRQBBGwFrIKp2IIaK2fb1ZX/6LGtq/yFGREBBBBAIEQBzt8hdrX4mkoKAI855pjkwR4HHHCAPPnkk2uMqp/k69y5s3zwwQfSrFkz+eSTT6R58+Z1zqzmk4Lbb7+96NeGecUjwAYUT6+pFAEEbAWsgqnYghorZ9vVlf/osa2r/IUZEQEEEEAgRAHO3yF2tfiaSgoA//jHP8qJJ56YfMJv1KhRcskllyQjr1q1SoYPHy433XRT8rejjjpKJk6cWO+sBg0aJBMmTEieAvzQQw8VP3uu8FaADcjb1jFxBBDwTMAqmIotqLFy9mw5pp5ubOsqNRg3QAABBBBAgN8AZA38n0BJAWBVVZXsvvvuMn/+/CToa9++vejXgt944w35+OOPpbq6WiorK0Uf8tG7d+86sfWTgptttpl8+umn8utf/1rOO+88mhKRAAFgRM2mVAQQMBWwCqZiC2qsnE0Xl8Hgsa0rA2KGRAABBBAIUIDzd4BNLaGkkgJAHef111+XAw88UN55551kWA0CNfireeknAy+99NJ6p3TffffJSSedlFw3d+5c2XXXXUuYPpf4KsAG5GvnmDcCCPgmYBVMxRbUWDn7th7Tzje2dZXWi+sRQAABBBBQAc7frIMkt6tePbUr0kQ/vXf11VfLX/7yF/n3v/8tTZs2lZ49e8pZZ50lRx99dIN323///ZPf/evYsaPMmzevyJF5u+8CbEC+d5D5I4CALwJWwVRsQY2Vsy/rMKt5xrausnLjPggggAACcQtw/o67/zXVpwoAIUSgVAE2oFLluA4BBBAoTsAqmIotqLFyLm41+P/u2NaV/x2jAgQQQAABFwQ4f7vQBfs5EADa9yDKGbABRdl2ikYAAQMBq2AqtqDGytlgSZkOGdu6MsVmcAQQQACBYAQ4fwfTylSFEACm4uPiUgXYgEqV4zoEEECgOAGrYCq2oMbKubjV4P+7Y1tX/neMChBAAAEEXBDg/O1CF+znQABo34MoZ8AGFGXbKRoBBAwErIKp2IIaK2eDJWU6ZGzryhSbwRFAAAEEghHg/B1MK1MVQgCYio+LSxVgAypVjusQQACB4gSsgqnYghor5+JWg//vjm1d+d8xKkAAAQQQcEGA87cLXbCfAwGgfQ+inAEbUJRtp2gEEDAQsAqmYgtqrJwNlpTpkLGtK1NsBkcAAQQQCEaA83cwrUxVCAFgKj4uLlWADahUOa5DAAEEihOwCqZiC2qsnItbDf6/O7Z15X/HqAABBBBAwAUBzt8udMF+DgSA9j2IcgZsQFG2naIRQMBAwCqYii2osXI2WFKmQ8a2rkyxGRwBBBBAIBgBzt/BtDJVIQSAqfi4uFQBNqBS5bgOAQQQKE7AKpiKLaixci5uNfj/7tjWlf8dowIEEEAAARcEOH+70AX7ORAA2vcgyhmwAUXZdopGAAEDAatgKragxsrZYEmZDhnbujLFZnAEEEAAgWAEOH8H08pUhRQdAO62225SUVEhEydOlK5du9YO/tZbbyX/vMUWW0iTJk1STYqLwxdgAwq/x1SIAAJuCFgFU7EFNVbObqyy/GYR27rKT5aREEAAAQRCFuD8HXJ3C6+t6ACwsrIyCQDnz58vO+20U+1I+t/1fy+//PIa/73wqfDOmATYgGLqNrUigIClgFUwFVtQY+VsubYsxo5tXVkYMyYCCCCAQHgCnL/D62kpFRUdANZ8uu+f//yndO/efY0AsK5gsJRJcU34AmxA4feYChFAwA0Bq2AqtqDGytmNVZbfLGJbV/nJMhICCCCAQMgCnL9D7m7htRUdALZt21Y+//xzmTRpkvTt25cAsHBr3rmaABsQywEBBBDIR8AqmIotqLFyzmcVuTNKbOvKHXlmggACCCDgswDnb5+7l93ciw4A+/TpI88++6zstddecscdd8i2226b/OZfzVeDFyxYIDvuuGN2M+ROQQqwAQXZVopCAAEHBayCqdiCGitnB5dcWacU27oqKyY3RwABBBCIRoDzdzStbrDQogPAP/zhD3LyyScnvwO4+qu6ujr517X/eyHMek1VVVUhb+U9gQiwAQXSSMpAAAHnBayCqdiCGitn5xdgxhOMbV1lzMftEEAAAQQiFeD8HWnj1yq76ABQrz///PPl+uuvl5UrV2aiqAFgVvfKZELcpOwCbEBlJ2YABBBAIBGwCqZiC2qsnGNb5rGtq9j6S70IIIAAAuUR4PxdHlff7lpSAKhF6gKaNm2avPPOO/LNN9/I5Zdfnnz6b+jQodKuXbuiHS677LKir+ECfwXYgPztHTNHAAG/BKyCqdiCGitnv1Zj+tnGtq7Si3EHBBBAAAEE/je/6dSpU0Lx9ttvS8eOHWGJUKDkAHBtq5rfAJw/f77stNNOEVJScjECbEDFaPFeBBBAoHQBq2AqtqDGyrn0leHnlbGtKz+7xKwRQAABBFwT4PztWkds5pNZALjlllsmnwB84oknZJtttrGphlG9EWAD8qZVTBQBBDwXsAqmYgtqrJw9X55FTz+2dVU0EBcggAACCCBQhwDnb5aFCmQWAMKJQDECbEDFaPFeBBBAoHQBq2AqtqDGyrn0leHnlbGtKz+7xKwRQAABBFwT4PztWkds5kMAaOMe/ahsQNEvAQAQQCAnAatgKragxso5p2XkzDCxrStn4JkIAggggIDXApy/vW5fZpMvSwD4ySefyJ133ilTp06VBQsWiP67vtq2bSvdu3eXgw8+WAYOHJj8O684BdiA4uw7VSOAQP4CVsFUbEGNlXP+K8p2xNjWla02oyOAAAIIhCLA+TuUTqarI/MAcNy4cXLeeefJ8uXLk5lVV1evMUP9nUB9tWjRQn7zm9/IkCFD0lXA1V4KsAF52TYmjQACHgpYBVOxBTVWzh4uyVRTjm1dpcLiYgQQQAABBP5PgPM3S0EFMg0Ar776arnoootqQ782bdpIz549pUOHDsl/++CDD2TevHny+eefJ/oaBl511VVy/vnn043IBNiAIms45SKAgJmAVTAVW1Bj5Wy2sIwGjm1dGTEzLAIIIIBAYAKcvwNraInlZBYA6ld9NexbuXKlbLbZZnLttdfKcccdJ+uvv/4aU6uqqpIHH3xQRowYIe+++66st956SSjYrVu3EkvgMh8F2IB87BpzRgABHwWsgqnYghorZx/XZJo5x7au0lhxLQIIIIAAAjUCnL9ZCyqQWQA4dOhQGT9+vGy66aYye/Zs6dzEv+9LAAAgAElEQVS5c4PCb7/9tuyxxx7y0UcfJV8DvuWWW+hIRAJsQBE1m1IRQMBUwCqYii2osXI2XVwGg8e2rgyIGRIBBBBAIEABzt8BNrWEkjILALfbbjtZsmRJ8rt+w4cPL2gq119/vfziF7+QbbbZRhYvXlzQNbwpDAE2oDD6SBUIIOC+gFUwFVtQY+Xs/grMdoaxrats9bgbAggggECsApy/Y+38mnVnFgC2bNlSvv76a5k5c6b07t27IN1Zs2bJXnvtlTwQ5KuvviroGt4UhgAbUBh9pAoEEHBfwCqYii2osXJ2fwVmO8PY1lW2etwNAQQQQCBWAc7fsXa+TAFg69atZdmyZTJjxgzZZ599CtJ9/vnnZd9995UNN9xQvvjii4Ku4U1hCLABhdFHqkAAAfcFrIKp2IIaK2f3V2C2M4xtXWWrx90QQAABBGIV4Pwda+fLFAB2795dFi1aJKNGjZJLLrmkIN3Ro0fLZZddJjvttJPoQ0R4xSPABhRPr6kUAQRsBayCqdiCGitn29WV/+ixrav8hRkRAQQQQCBEAc7fIXa1+Joy+wrwOeecIzfccIO0atVKnn32Wdl5550bnM3LL7+cfPpPPzV49tlny29/+9viZ88V3gqwAXnbOiaOAAKeCVgFU7EFNVbOni3H1NONbV2lBuMGCCCAAAIIiAjnb5aBCmQWAP773/+WHXbYQb799tvkK70XX3yxDBw4UDbZZJM1pD/++GOZMGGCjBkzJvna7wYbbCCvvvpqo08Npl1hCbABhdVPqkEAAXcFrIKp2IIaK2d3V155ZhbbuiqPIndFAAEEEIhNgPN3bB2vu97MAkC9/T333JOEfjWviooK2XLLLaV9+/ai//z+++/L0qVLpbq6Ovmf/re77rpLfvazn9GNyATYgCJrOOUigICZgFUwFVtQY+VstrCMBo5tXRkxMywCCCCAQGACnL8Da2iJ5WQaAOocJk+eLEOHDpV33nlnjSBQ/0VDv5rX5ptvLuPHj5d+/fqVOHUu81mADcjn7jF3BBDwScAqmLIKaqzq9WlN+DxXq3XlsxlzRwABBBBAgPM3a0AFMg8A9aZVVVXy8MMPy9SpU5OHe3zyySeJdtu2bUUfFnLwwQfLUUcdJeuttx5diFSADSjSxlM2AgjkLmAViFkFNVb15t7YSAe0WleRclM2AggggEAgApy/A2lkyjLKEgCmnBOXRyDABhRBkykRAQScELAKxKyCGqt6nWh2BJOwWlcR0FIiAggggEDAApy/A25uEaURABaBxVuzE2ADys6SOyGAAAINCVgFYlZBjVW9rMJ8BKzWVT7VMQoCCCCAAALlEeD8XR5X3+5KAOhbxwKZLxtQII2kDAQQcF7AKhCzCmqs6nV+IQQyQat1FQgfZSCAAAIIRCrA+TvSxq9VNgEg68BEgA3IhJ1BEUAgQgGrQMwqqLGqN8KlZVKy1boyKZZBEUAAAQQQyEiA83dGkJ7fhgDQ8wb6On02IF87x7wRQMA3AatAzCqosarXt3Xh63yt1pWvXswbAQQQQAABFeD8zTpQAQJA1oGJABuQCTuDIoBAhAJWgZhVUGNVb4RLy6Rkq3VlUiyDIoAAAgggkJEA5++MID2/DQGg5w30dfpsQL52jnkjgIBvAlaBmFVQY1Wvb+vC1/larStfvZg3AggggAACKsD5m3WgAgSArAMTATYgE3YGRQCBCAWsAjGroMaq3giXlknJVuvKpFgGRQABBBBAICMBzt8ZQXp+GwJAzxvo6/TZgHztHPNGAAHfBKwCMaugxqpe39aFr/O1Wle+ejFvBBBAAAEEVIDzN+tABQgAWQcmAmxAJuwMigACEQpYBWJWQY1VvREuLZOSrdaVSbEMigACCCCAQEYCnL8zgvT8NpkFgKecckpC0bdvXznuuOM8Z2H65RZgAyq3MPdHAAEE/lfAKhCzCmqs6mW95SNgta7yqY5REEAAAQQQKI8A5+/yuPp218wCwCZNmiS1P/bYY/LDH/7QNwfmm7MAG1DO4AyHAALRClgFYlZBjVW90S6wnAu3Wlc5l8lwCCCAAAIIZCrA+TtTTm9vllkA2KFDB/noo4/kpZdekh49engLwsTzEWADyseZURBAAAGrQMwqqLGql5WWj4DVusqnOkZBAAEEEECgPAKcv8vj6ttdMwsADzzwQJk+fbo89NBDcuSRR/rmwHxzFmADyhmc4RBAIFoBq0DMKqixqjfaBZZz4VbrKucyGQ4BBBBAAIFMBTh/Z8rp7c0yCwAnTJgggwYNkh//+MdJCMgLgYYE2IBYHwgggEA+AlaBmFVQY1VvPt1kFKt1hTwCCCCAAAI+C3D+9rl72c09swCwurpaDjnkEHnqqafk0ksvTf5XUVGR3Uy5U1ACbEBBtZNiEEDAYQGrQMwqqLGq1+ElENTUrNZVUIgUgwACCCAQnQDn7+haXmfBmQWAzzzzjKxYsUIuuOACmT9/vmy33XZy/PHHyy677CLf+973pOYhIfWx77///nQkIgE2oIiaTakIIGAqYBWIWQU1VvWaNjmiwa3WVUTElIoAAgggEKAA5+8Am1pCSZkFgJWVlSV/4k8/KVhVVVXC9LnEVwE2IF87x7wRQMA3AatAzCqosarXt3Xh63yt1pWvXswbAQQQQAABFeD8zTpQgUwDwFJJNQBcuXJlqZdznYcCbEAeNo0pI4CAlwJWgZhVUGNVr5eLw8NJW60rD6mYMgIIIIAAArUCnL9ZDJkGgPoE4DSvPn36pLmcaz0TYAPyrGFMFwEEvBWwCsSsghqrer1dIJ5N3GpdecbEdBFAAAEEEFhDgPM3CyLTABBOBIoRYAMqRov3IoAAAqULWAViVkGNVb2ld4grixGwWlfFzJH3IoAAAggg4JoA52/XOmIzn8y+AmwzfUb1VYANyNfOMW8EEPBNwCoQswpqrOr1bV34Ol+rdeWrF/NGAAEEEEBABTh/sw5UgACQdWAiwAZkws6gCCAQoYBVIGYV1FjVG+HSMinZal2ZFMugCCCAAAIIZCTA+TsjSM9vU5YA8IsvvpCJEyfKzJkz5f3335fly5fLhAkTpEuXLrVc7777rnz22WeywQYbyFZbbeU5I9MvVoANqFgx3o8AAgiUJmAViFkFNVb1ltYdripWwGpdFTtP3o8AAggggIBLApy/XeqG3VwyDwBvvvlmueiii+TLL79MqqqurhZ9yu/8+fNlp512qq30/vvvl/79+ycBoC7Gtm3b2ikwcu4CbEC5kzMgAghEKmAViFkFNVb1Rrq8ci/bal3lXigDIoAAAgggkKEA5+8MMT2+VaYB4KhRo2T06NFJ6NesWTPZeeedZc6cOXUGgKtWrZJOnTolnxC89dZbZfDgwR4zMvViBdiAihXj/QgggEBpAlaBmFVQY1Vvad3hqmIFrNZVsfPk/QgggAACCLgkwPnbpW7YzSWzAHDevHnSq1evpBL9ZN/vf/97adOmjVRWVtYZAOr7hg8fLjfeeKMce+yx8sADD9gpMHLuAmxAuZMzIAIIRCpgFYhZBTVW9Ua6vHIv22pd5V4oAyKAAAIIIJChAOfvDDE9vlVmAeApp5wid911l+yzzz7y7LPP1pI0FAD+6U9/kp/+9Key/fbby6JFizxmZOrFCrABFSvG+xFAAIHSBKwCMaugxqre0rrDVcUKWK2rYufJ+xFAAAEEEHBJgPO3S92wm0tmAeDWW28tS5culXvvvVdOOOGEggLAF198Ufbee2/ZcMMNRR8cwiseATageHpNpQggYCtgFYhZBTVW9dp2OZ7RrdZVPMJUigACCCAQogDn7xC7WnxNmQWALVq0kG+++Sb5zb+ePXsWFAD+4x//kN12203WX3/95Fpe8QiwAcXTaypFAAFbAatAzCqosarXtsvxjG61ruIRplIEEEAAgRAFOH+H2NXia8osANxoo42SJ//OnDlTevfuXVAA+Le//U1+9KMfyaabbioffPBB8bPnCm8F2IC8bR0TRwABzwSsAjGroMaqXs+WhbfTtVpX3oIxcQQQQAABBESE8zfLQAUyCwC7d++e/I7f7bffLgMHDiwoADznnHPkhhtuSL4G/Nxzz9GRiATYgCJqNqUigICpgFUgZhXUWNVr2uSIBrdaVxERUyoCCCCAQIACnL8DbGoJJWUWAJ511lly0003yb777ivPPPNMowHgm2++KT169JBly5bJJZdcIqNGjSph+lziqwAbkK+dY94IIOCbgFUgZhXUWNXr27rwdb5W68pXL+aNAAIIIICACnD+Zh2oQGYB4OLFi0U/Bbhy5co1Ar26ngKsvxOoDwrREHCDDTaQJUuWyGabbUZHIhJgA4qo2ZSKAAKmAlaBmFVQY1WvaZMjGtxqXUVETKkIIIAAAgEKcP4OsKkllJRZAKhjjx49Wi677DKpqKiQXr16yTHHHCMjR45M/v3aa6+V7777TqZMmSJPP/107VSvv/560U8P8opLgA0orn5TLQII2AlYBWJWQY1VvXYdjmtkq3UVlzLVIoAAAgiEJsD5O7SOllZPpgGgTuHSSy+VMWPGyKpVq5Lgr65XdXV18jd9rwaGvOITYAOKr+dUjAACNgJWgZhVUGNVr0134xvVal3FJ03FCCCAAAIhCXD+DqmbpdeSeQCoU9Gv+F599dXy+OOPy/Lly9eYXdOmTeWggw6Siy66SPbZZ5/SZ86VXguwAXndPiaPAAIeCVgFYlZBjVW9Hi0Jr6dqta68RmPyCCCAAALRC3D+jn4JJABlCQBraKuqquSVV16RDz/8MPltwI033li6desmzZs3Rz9yATagyBcA5SOAQG4CVoGYVVBjVW9uDY18IKt1FTk75SOAAAIIeC7A+dvzBmY0/bIGgBnNkdsEKMAGFGBTKQkBBJwUsArErIIaq3qdbH6Ak7JaVwFSUhICCCCAQEQCnL8janYDpRIAsg5MBNiATNgZFAEEIhSwCsSsghqreiNcWiYlW60rk2IZFAEEEEAAgYwEOH9nBOn5bcoWAH7wwQfJ034XLFggn3zyScLUtm1b6d69u3z/+9+X9u3be07H9NMIsAGl0eNaBBBAoHABq0DMKqixqrfwjvBOHwWs1rOPVswZAQQQQMA9Ac7f7vXEYkaZB4Bvv/22nHfeefLII4+I/gZgXa8mTZrIUUcdJddee6107tzZom7GNBZgAzJuAMMjgEA0AlaBmFVgYlVvNAsq0kKt1nOk3JSNAAIIIJCxAOfvjEE9vV2mAeCMGTPk8MMPly+//FKqq6sbJKmoqJBWrVrJpEmTZN999/WUj2mXKsAGVKoc1yGAAALFCVgFYlaBiVW9xXWFd/smYLWefXNivggggAACbgpw/nazL3nPKrMA8J133kme8PvFF18kNfTt21dOOeUU6d27d+3XffVrwbNnz5YJEybIY489lryvTZs2snDhQtl8883zrp3xDAXYgAzxGRoBBKISsArErAITq3qjWlQRFmu1niOkpmQEEEAAgTIIcP4uA6qHt8wsAPzv//5vufnmm0W/3nvnnXfKSSed1CDHfffdJwMGDEg+KXjmmWfKjTfe6CEfUy5VgA2oVDmuQwABBIoTsArErAITq3qL6wrv9k3Aaj375sR8EUAAAQTcFOD87WZf8p5VZgHg1ltvLUuXLpXTTjtNxo4dW1AdZ5xxhtx6663StWtXWbJkSUHX8KYwBNiAwugjVSCAgPsCVoGYVWBiVa/7K4EZphGwWs9p5sy1CCCAAAII1Ahw/mYtqEBmAWDz5s3l22+/lalTp8oBBxxQkO60adPkoIMOkmbNmsmKFSsKuoY3hSHABhRGH6kCAQTcF7AKxKwCE6t63V8JzDCNgNV6TjNnrkUAAQQQQIAAkDWwukBmAaD+hl/Nb/zttttuBSnPnTtXevXqJR06dJB33323oGt4UxgCBIBh9JEqEEDAfQGrQMwqMLGq1/2VwAzTCFit5zRz5loEEEAAAQQIAFkDZQkAjzjiCJk8eXLygI+TTz65IOW7775bBg4cKIcddpg8+uijBV3Dm8IQIAAMo49UgQAC7gtYBWJWgYlVve6vBGaYRsBqPaeZM9cigAACCCBAAMgaKEsAqF/9PeSQQ2THHXdMnvTbokWLBqWXL1+efPrvtddek8cff1x+8IMf0JmIBAgAI2o2pSKAgKmAVSBmFZhY1WvaZAYvu4DVei57YQyAAAIIIBCFAOfvKNrcaJGZfQVYR7r88suT/2mwN378eOnRo0edE/jnP/8pQ4YMkTlz5shll10ml156aaMT5Q1hCbABhdVPqkEAAXcFrAIxq8DEql53VwAzy0LAaj1nMXfugQACCCCAAOdv1oAKFB0AXnHFFQ3KTZo0KQn2KioqZOedd5Y99thD2rVrl/x7zW8Ezp8/P7mHBoU/+tGPkn8mBIxrQbIBxdVvqkUAATsBq0DMKjCxqteuw4ych4DVes6jNsZAAAEEEAhfgPN3+D0upMKiA8DKysokzGvsVV1dXe/76vrbypUrG7slfw9IgA0ooGZSCgIIOC1gFYhZBSZW9Tq9CJhcagGr9Zx64twAAQQQQAABEeH8zTJQgZICwHLQrVq1qhy35Z6OCrABOdoYpoUAAsEJWAViVoGJVb3BLRwKWkPAaj3TBgQQQAABBLIQ4PydhaL/9yg6APS/5OwqOP/88+Xaa6+tveG0adPk+9//foMD6ANP9PcRZ82aJR999JFsuumm0rt37+Q3EQ899NCCJqcPULn55pvlwQcflDfeeEO+/fZb6dSpU/J16rPOOks6d+5c0H0WLlwov//970Uf4PLOO+/IhhtumDzEpX///nLqqafKeuutV9B9SnkTG1ApalyDAAIIFC9gFYhZBSZW9RbfGa7wScBqPftkxFwRQAABBNwV4Pztbm/ynBkBYIna+iAT/Q3DqqqqggJA/drz0KFDk/CvvpeGgLfeemuDX7FesmRJEvTp05PrerVp00buu+8+6devX4OV3XHHHXLmmWfKN998U+f79tprL9Hfc9x4441LFGr4MjagsrByUwQQQGAdAatAzCowsaqXpRe2gNV6DluV6hBAAAEE8hLg/J2XtNvjEACW0B/9urIGZLNnz04ecPLhhx8md2noE4AXXXSRjBkzJnlfz549RT89uPXWW4sGetdcc43Mmzcv+Zu+71e/+lWds/rqq6+Sh6q8+uqryd8HDx4sJ5xwgjRv3jwZ+6qrrhJ9T4sWLWTmzJmyyy671Hmfv//970lAqHW0b98+GXPPPfeUTz75RG677TZ56KGHkuv233//5L76u49Zv9iAshblfggggEDdAlaBmFVgYlUv6y9sAav1HLYq1SGAAAII5CXA+TsvabfHIQAsoT+/+93v5JxzzpEddthBjjrqqCR4aygA1K/p6ldr9dOC+qnBZ555Jgntal76ld4+ffokT0/Wr91qwKfh4NqvUaNGyeWXX578Zw0NR4wYscZbNPTT0E7HOeCAA+Spp55a5x76N52Lzql169Yyd+7cdcbSTwaOHTs2ufbuu++WAQMGlKDU8CVsQJmTckMEEECgTgGrQMwqMLGql+UXtoDVeg5bleoQQAABBPIS4Pydl7Tb45Q1APziiy/kyy+/lEKe8Fvo79ZZc7799tuy0047JZ+000/HPf3007WhXH2fAFw9UNOQTj89uPbrhRdekL333jv5z8OGDUt+m2/113fffZd82vCzzz5LArwFCxbU+ck8/ZrxuHHjkks1UNx9993XuI/+buBPfvKT5L9pcDly5Mh15qKBZMeOHeXTTz+V7t27y/z58zNnZwPKnJQbIoAAAgSAIkIAyP8hlEOAALAcqtwTAQQQQCAvAc7feUm7PU7mAeCUKVPklltukRkzZiQBUiGvioqKNX5Lr5BrrN5z+OGHJ7+Nd/LJJ8tdd90lq38qr64AUH/7Tx/QoQ/Z0E8MLlq0qN6p69/1t/00fHvrrbfW+C3AJ554Qg455JDk2quvvlouuOCCOu+zepB44YUXypVXXrnG+/QBH/obgfp67733pEOHDnXeZ/UgcfHixbLttttmSs4GlCknN0MAAQTqFbAKxKwCE6t6WYJhC1it57BVqQ4BBBBAIC8Bzt95Sbs9TqYBoIZG+hty+tLgq9CXBoCFfEqw0PuV630PPPCAHH/88dK2bdvka7r6BN/GAsA333yz9iu2p512WvKQj/pe+veah4TodV27dq1966WXXiqjR49O/r2+TxHq3/QrvhtttJEsW7Ys+Trw9OnT1xhOP2mpn2Lcfvvta39LsK753H///XLiiScmf5owYYIMHDgwU1Y2oEw5uRkCCCBQr4BVIGYVmFjVyxIMW8BqPYetSnUIIIAAAnkJcP7OS9rtcTILAPVrp6effnpSbatWrZLfxtt1112TMKqQh0joJ+pcftV89fb9999PQs5BgwYl020sAJw8ebIcdthhyXuvv/56GT58eL1l6t/PPffc5O963epP8j3uuONk4sSJyd/0k5XqWt9L3V9++eUkoKx5QIm+V7+2rL/7p+HskUceKY888ki999CHkuy2227J3/W3BvU3B7N8sQFlqcm9EEAAgfoFrAIxq8DEql7WYNgCVus5bFWqQwABBBDIS4Dzd17Sbo+TWQCovzWnoZH+Pp0+fEKfLhvSa8iQIUnwt88++8izzz5b+/XcxgJA/cRfTTCqv7937LHH1suiAZ8GffrS6/QTgTUv/d3AF198UVq2bJkEeQ29NHDUAFFfX3/9tTRr1iz5Z/3UovZHX/q7hDfddFO9t/n444+TAFFf+qRh/URgMS/dYBp66dePe/funbxFP5GoX3vmhQACCCCQvYBVIGYVmFjVm33nuKNLAlbr2SUD5oIAAggg4K8AAaC/vcty5pkFgBpMadj0xz/+sTbEynKilvfSwE+/TtukSZPkqbk777xz7XQaCwCvvfZaOf/885P3/+1vf5NDDz203lL07zWf+rvuuuvkF7/4Re17u3XrJq+88koSrOqnEBt66deU9evK+tIgb+ONN07+efbs2bWhm/6GoP6WYH2vFStWSIsWLZI/a6D417/+tagW6Ne6C30RABYqxfsQQACB4gWsAjGrwMSq3uI7wxU+CVitZ5+MmCsCCCCAgLsCBIDu9ibPmWUWAGowpWHTSy+9JD169MizhrKO9e233yb16MM76voqbGMBoP5un/5+n76efPJJOfDAA+udr35y8qCDDkr+rtddfPHFte/deuutRX8XUB8oog8Iaeg1YMAA+cMf/pC8ZfVwTR/MokGmvi655BK54oor6r3NqlWrksBTXzqnqVOnFuVMAFgUF29GAAEEyiZgFYhZBSZW9ZatgdzYCQGr9exE8UwCAQQQQMB7AQJA71uYSQGZBYDf//73kyf/6hNy+/btm8nkXLhJTcCnD8/QT+DpJx1XfzUWAMb6CUC+AuzC6mUOCCCAgIhVIGYVmFjVy1oLW8BqPYetSnUIIIAAAnkJEADmJe32OJkFgPfdd5+cdNJJyf/uuecet6sucHb6m3n6QA39FOBf/vIXOeKII9a5srEAMNbfAGyMmA2oMSH+jgACCGQjYBWIWQUmVvVm0y3u4qqA1Xp21YN5IYAAAgj4JcD5269+lWu2mQWAOkF9gMVDDz0kN9xwgwwbNqxcc87tvvoQjvHjx8tWW20lV155ZZ3j6oM7/vznPyd/06/V7rTTTsk/H3744cmnBfUTkfrP+krzFGB9eEjNOGmeAqxPaNYXTwHObRkxEAIIIGAqYBWIWQUmVvWaNpnByy5gtZ7LXhgDIIAAAghEIUAAGEWbGy0y0wBQPyl33nnnydixY0WfWvuTn/xEtttuu9qHSTQ0m5rfpmt0xjm+4ec//7ncfffdJY34r3/9S7bccsvkd/v09/v0pYGifiKwvldN4Kh/1+u6du1a+1b9HUH9XUB9zZw5M/Gt61VVVSUbbbSRLFu2LPm9v+nTp6/xNv0qs/4u4Pbbb588Fbi+lz7198QTT0z+PGHCBBk4cGBJDvVdxAaUKSc3QwABBOoVsArErAITq3pZgmELWK3nsFWpDgEEEEAgLwHO33lJuz1OpgFgdXV1Ehb98pe/lP/85z8FV64PjNDgyrVXFgGgmnTs2FHeffdd2WGHHZKHidT32nHHHZNQbosttkhCutUfpDFlyhT54Q9/mFyqT+/Vp/jW9XrhhRdk7733Tv6kfRgzZswab9NQT8M9fb333nvSoUOHOu8zdOhQGTduXPK31157LQlys3yxAWWpyb0QQACB+gWsAjGrwMSqXtZg2AJW6zlsVapDAAEEEMhLgPN3XtJuj5NZAKgB3k9/+tPkK8D60uCr0JcGXStXriz07U69r7HfANTJnnHGGXLLLbck867v03urB3f6/ptvvnmNOvXTle3atZPPP/9cNChcuHDhGgFhzZtXD+5mzZole+yxxxr3eeCBB+T4449P/ttVV10lI0eOXMdz+fLlSWipXzXWrzTrWFm/2ICyFuV+CCCAQN0CVoGYVWBiVS/rL2wBq/UctirVIYAAAgjkJcD5Oy9pt8fJLAC86aab5Kyzzkqq1a++nnzyybLLLrskX0etrKxsVKFPnz6NvsfFNxQSAC5evFi6deuWfMqxV69e8swzz0jz5s1ry1mxYkXydd05c+bIeuutlzxteNttt12n3NW/BnzNNdfIiBEj1niPhot6Hx1HPZ9++ul17vHdd98lAeKSJUukdevWMnfu3NqvKNe8+cwzz0y+xq2vO++8U/STkFm/2ICyFuV+CCCAAAFg8v8GGTmZpYBA5gIEgJmTckMEEEAAgRwFOH/niO3wUJkFgD169JCXX345+W26J598co2Ay+H6U0+tkABQB9Gv4+pXd/XVs2fP5Cu8+tuAGsT9+te/lnnz5iV/q+truzWT/PLLL5MAUQNFfQ0ZMkROOOGExHratGnJ132/+uqr5N+ff/550Z7U9XrssceSB/ZxeXgAACAASURBVJOsWrVK2rdvLxdffLH07t07+cTfbbfdVvuwkX333TcJEZs0aZLaae0bsAFlTsoNEUAAgToFrAIxq8DEql6WX9gCVus5bFWqQwABBBDIS4Dzd17Sbo+TWQC44YYbin6S7ZFHHql96q3bpWczu0IDQA3bBg8enPxGYn2vU089NXnqcEOfmHzjjTekX79+8vrrr9d5G/1U37333iuHHXZYgwVq0KdPatavFtf10kBw8uTJsskmm2QDtdZd2IDKwspNEUAAgXUErAIxq8DEql6WXtgCVus5bFWqQwABBBDIS4Dzd17Sbo+TWQConyT7+OOP5aWXXqr3k2duU5Q2u0IDwJq766fvNOSbPXt24qUBm/5Onz4BuG/fvgVNQp/wq78R+OCDD4oGghriderUKQkGzz77bOnSpUtB91mwYIHceOONySc29SElLVu2TL4e3L9/fxk0aFDydeRyvdiAyiXLfRFAAIE1BawCMavAxKpe1l3YAlbrOWxVqkMAAQQQyEuA83de0m6Pk1kAeMghhyRBkj4E5Mgjj3S7amZnLsAGZN4CJoAAApEIWAViVoGJVb2RLKdoy7Raz9GCUzgCCCCAQKYCnL8z5fT2ZpkFgBr8HXvssclXTx999FFvQZh4PgJsQPk4MwoCCCBgFYhZBSZW9bLSwhawWs9hq1IdAggggEBeApy/85J2e5zMAkAt84wzzpBbb71Vzj333OTBFuV4eITbnMyuUAE2oEKleB8CCCCQTsAqELMKTKzqTdclrnZdwGo9u+7C/BBAAAEE/BDg/O1Hn8o9y8wCwHvuuSeZ6y233CKzZs1KfpPu6KOPlu22205atGjRaB0DBgxo9D28IRwBNqBwekklCCDgtoBVIGYVmFjV6/YqYHZpBazWc9p5cz0CCCCAAAIqwPmbdaACmQWA+uTaioqKklT1uqqqqpKu5SI/BdiA/Owbs0YAAf8ErAIxq8DEql7/VgYzLkbAaj0XM0feiwACCCCAQH0CnL9ZG5kHgKWSagC4cuXKUi/nOg8F2IA8bBpTRgABLwWsAjGrwMSqXi8XB5MuWMBqPRc8Qd6IAAIIIIBAAwKcv1kemQaA//73v1OJdunSJdX1XOyXABuQX/1itggg4K+AVSBmFZhY1evvCmHmhQhYredC5sZ7EEAAAQQQaEyA83djQnH8PbOvAMfBRZVZCbABZSXJfRBAAIGGBawCMavAxKpe1mHYAlbrOWxVqkMAAQQQyEuA83de0m6PQwDodn+CnR0bULCtpTAEEHBMwCoQswpMrOp1rO1MJ2MBq/WccRncDgEEEEAgUgHO35E2fq2yCQBZByYCbEAm7AyKAAIRClgFYlaBiVW9ES6tqEq2Ws9RIVMsAggggEDZBDh/l43WqxsTAHrVrnAmywYUTi+pBAEE3BawCsSsAhOret1eBcwurYDVek47b65HAAEEEEBABTh/sw5UILMAcKuttipZVJ8CvGTJkpKv50L/BNiA/OsZM0YAAT8FrAIxq8DEql4/VwezLlTAaj0XOj/ehwACCCCAQEMCnL9ZH5kGgJWVlQWLauBXXV1d+37995UrVxZ8PW/0X4ANyP8eUgECCPghYBWIWQUmVvX6sRqYZakCVuu51PlyHQIIIIAAAqsLcP5mPWQaAA4cOLBR0WXLlslrr70m8+fPFw39evbsKTvvvHNy3Z133tno9bwhHAE2oHB6SSUIIOC2gFUgZhWYWNXr9ipgdmkFrNZz2nlzPQIIIIAAAirA+Zt1kGkAWAznggUL5JRTTpGFCxfKPffcI8ccc0wxl/PeAATYgAJoIiUggIAXAlaBmFVgYlWvF4uBSZYsYLWeS54wFyKAAAIIILCaAOdvloNZAKgDf/XVV9KjRw9577335KWXXpIddtiBjkQkwAYUUbMpFQEETAWsAjGrwMSqXtMmM3jZBazWc9kLYwAEEEAAgSgEOH9H0eZGi8zsISCNjlTHG8aOHSvDhg0T/frwHXfcUcotuMZTATYgTxvHtBFAwDsBq0DMKjCxqte7hcGEixKwWs9FTZI3I4AAAgggUI8A52+WhgqYBoCzZ8+WPffcUzp37ixLly6lIxEJsAFF1GxKRQABUwGrQMwqMLGq17TJDF52Aav1XPbCGAABBBBAIAoBzt9RtLnRIk0DwFmzZslee+0lzZo1kxUrVjQ6Wd4QjgAbUDi9pBIEEHBbwCoQswpMrOp1exUwu7QCVus57by5HgEEEEAAARXg/M06UAHTAHD06NFy2WWXSbt27eT999+nIxEJsAFF1GxKRQABUwGrQMwqMLGq17TJDF52Aav1XPbCGAABBBBAIAoBzt9RtLnRIs0CwD/+8Y/Jk4C/+eYbOeqoo2TixImNTpY3hCPABhROL6kEAQTcFrAKxKwCE6t63V4FzC6tgNV6TjtvrkcAAQQQQEAFOH+zDlQgswBQw7zGXqtWrZJPP/1U5s6dK++++65UV1fLeuutJ88//7z06tWrscv5e0ACbEABNZNSEEDAaQGrQMwqMLGq1+lFwORSC1it59QT5wYIIIAAAggQALIG/k8gswCwsrJSKioqCoLV4E9frVu3lttvv12OPfbYgq7jTeEIEACG00sqQQABtwWsAjGrwMSqXrdXAbNLK2C1ntPOm+sRQAABBBBQAc7frAMVyCwA3HLLLRsNADUkbNWqlXTt2lX69OkjJ510kmyyySZ0IkIBNqAIm07JCCBgImAViFkFJlb1mjSXQXMTsFrPuRXIQAgggAACQQtw/g66vQUXl1kAWPCIvBEB/n8gWAMIIIBAbgJWgZhVYGJVb24NZSATAav1bFIsgyKAAAIIBCdAABhcS0sqiACwJDYuSivABpRWkOsRQACBwgSsAjGrwMSq3sK6wbt8FbBaz756MW8EEEAAAbcEOH+71Q+r2RAAWslHPi4bUOQLgPIRQCA3AatAzCowsao3t4YykImA1Xo2KZZBEUAAAQSCE+D8HVxLSyqIALAkNi5KK8AGlFaQ6xFAAIHCBKwCMavAxKrewrrBu3wVsFrPvnoxbwQQQAABtwQ4f7vVD6vZEABayUc+LhtQ5AuA8hFAIDcBq0DMKjCxqje3hjKQiYDVejYplkERQAABBIIT4PwdXEtLKqikALBJkyYlDVbfRRUVFVJVVZXpPbmZ2wJsQG73h9khgEA4AlaBmFVgYlVvOCuGSuoSsFrPdAMBBBBAAIEsBDh/Z6Ho/z1KCgArKyszrVwDwJUrV2Z6T27mtgAbkNv9YXYIIBCOgFUgZhWYWNUbzoqhEgJA1gACCCCAQGgCnL9D62hp9ZQUAA4cOLC00f7vqurqannsscfkP//5j+g/EwCm4vTyYjYgL9vGpBFAwEMBq0CMANDDxcKU6xWwWs+0BAEEEEAAgSwEOH9noej/PUoKANOU/cgjj8hll10mCxYsSG6jAWDnzp1l6dKlaW7LtZ4JsAF51jCmiwAC3goQAHrbOibukAABoEPNYCoIIIAAAkULcP4umizIC3ILAPUTf5deeqnMmzevNvjbbLPN5MILL5TBgwdL06ZNgwSmqLoF2IBYGQgggEA+AgSA+TgzStgCBIBh95fqEEAAgdAFOH+H3uHC6it7APjEE08kwd+sWbNqg7927drJBRdcIKeffrpssMEGhc2UdwUlwAYUVDspBgEEHBYgAHS4OUzNGwECQG9axUQRQAABBOoQ4PzNslCBsgWA06dPl0suuUSee+652uBv4403lhEjRsiwYcOkRYsWdCBiATagiJtP6QggkKsAAWCu3AwWqAABYKCNpSwEEEAgEgHO35E0upEyMw8An3/++eQTf9OmTasN/jbaaCM599xzZfjw4bLhhhsij4CwAbEIEEAAgXwECADzcWaUsAUIAMPuL9UhgAACoQtw/g69w4XVl1kAOHv27CT4mzJlSm3w16pVqyT00/CvTZs2hc2Id0UhwAYURZspEgEEHBAgAHSgCUzBewECQO9bSAEIIIBA1AKcv6Nuf23xqQPAf/zjH8lTfSdNmlQb/LVs2TL5mq9+3bdt27ZII7COABsQiwIBBBDIR4AAMB9nRglbgAAw7P5SHQIIIBC6AOfv0DtcWH0lB4ALFy5Mgr+HH364Nvhr3rx58mCPkSNHyiabbFLYDHhXlAJsQFG2naIRQMBAgADQAJ0hgxMgAAyupRSEAAIIRCXA+TuqdtdbbEkB4IknnigPPPCAVFdXJ/9r1qyZnHbaaUnw16FDB2QRaFSADahRIt6AAAIIZCJAAJgJIzeJXIAAMPIFQPkIIICA5wKcvz1vYEbTLykArKysrB1+0003lbPPPls6duyYakoDBgxIdT0X+yXABuRXv5gtAgj4K0AA6G/vmLk7AgSA7vSCmSCAAAIIFC/A+bt4sxCvKDkArKioyMxD71VVVZXZ/biR+wJsQO73iBkigEAYAgSAYfSRKmwFCABt/RkdAQQQQCCdAOfvdH6hXF1yAJglgAaAK1euzPKW3MtxATYgxxvE9BBAIBgBAsBgWkkhhgIEgIb4DI0AAgggkFqA83dqwiBuUFIAOH369MyL79OnT+b35IbuCrABudsbZoYAAmEJEACG1U+qsREgALRxZ1QEEEAAgWwEOH9n4+j7XUoKAH0vmvnbC7AB2feAGSCAQBwCBIBx9JkqyytAAFheX+6OAAIIIFBeAc7f5fX15e4EgL50KrB5sgEF1lDKQQABZwUIAJ1tDRPzSIAA0KNmMVUEEEAAgXUEOH+zKFSAAJB1YCLABmTCzqAIIBChAAFghE2n5MwFCAAzJ+WGCCCAAAI5CnD+zhHb4aEIAB1uTshTYwMKubvUhgACLgkQALrUDebiqwABoK+dY94IIIAAAirA+Zt1oAIEgKwDEwE2IBN2BkUAgQgFCAAjbDolZy5AAJg5KTdEAAEEEMhRgPN3jtgOD0UA6HBzQp4aG1DI3aU2BBBwSYAA0KVuMBdfBQgAfe0c80YAAQQQUAHO36wDFSAAZB2YCLABmbAzKAIIRChAABhh0yk5cwECwMxJuSECCCCAQI4CnL9zxHZ4KAJAh5sT8tTYgELuLrUhgIBLAgSALnWDufgqQADoa+eYNwIIIICACnD+Zh2oAAEg68BEgA3IhJ1BEUAgQgECwAibTsmZCxAAZk7KDRFAAAEEchTg/J0jtsNDEQA63JyQp8YGFHJ3qQ0BBFwSIAB0qRvMxVcBAkBfO8e8EUAAAQRUgPM360AFCABZByYCbEAm7AyKAAIRChAARth0Ss5cgAAwc1JuiAACCCCQowDn7xyxHR6KANDh5oQ8NTagkLtLbQgg4JIAAaBL3WAuvgoQAPraOeaNAAIIIKACnL9ZBypAAMg6MBFgAzJhZ1AEEIhQgAAwwqZTcuYCBICZk3JDBBBAAIEcBTh/54jt8FAEgA43J+SpsQGF3F1qQwABlwQIAF3qBnPxVYAA0NfOMW8EEEAAARXg/M06UAECQNaBiQAbkAk7gyKAQIQCBIARNp2SMxcgAMyclBsigAACCOQowPk7R2yHhyIAdLg5IU+NDSjk7lIbAgi4JEAA6FI3mIuvAgSAvnaOeSOAAAIIqADnb9aBChAAsg5MBNiATNgZFAEEIhQgAIyw6ZScuQABYOak3BABBBBAIEcBzt85Yjs8FAGgw80JeWpsQCF3l9oQQMAlAQJAl7rBXHwVIAD0tXPMGwEEEEBABTh/sw5UgACQdWAiwAZkws6gCCAQoQABYIRNp+TMBQgAMyflhggggAACOQpw/s4R2+GhCAAdbk7IU2MDCrm71IYAAi4JEAC61A3m4qsAAaCvnWPeCCCAAAIqwPmbdaACBICsAxMBNiATdgZFAIEIBQgAI2w6JWcuQACYOSk3RAABBBDIUYDzd47YDg9FAOhwc0KeGhtQyN2lNgQQcEmAANClbjAXXwUIAH3tHPNGAAEEEFABzt+sAxUgAGQdmAiwAZmwMygCCEQoQAAYYdMpOXMBAsDMSbkhAggggECOApy/c8R2eCgCQIebE/LU2IBC7i61IYCASwIEgC51g7n4KkAA6GvnmDcCCCCAgApw/mYdqAABIOvARIANyISdQRFAIEIBAsAIm07JmQsQAGZOyg0RQAABBHIU4PydI7bDQxEAOtyckKfGBhRyd6kNAQRcEiAAdKkbzMVXAQJAXzvHvBFAAAEEVIDzN+tABQgAWQcmAmxAJuwMigACEQoQAEbYdErOXIAAMHNSbogAAgggkKMA5+8csR0eigDQ4eaEPDU2oJC7S20IIOCSAAGgS91gLr4KEAD62jnmjQACCCCgApy/WQcqQADIOjARYAMyYWdQBBCIUIAAMMKmU3LmAgSAmZNyQwQQQACBHAU4f+eI7fBQBIAONyfkqbEBhdxdakMAAZcECABd6gZz8VWAANDXzjFvBBBAAAEV4PzNOlABAkDWgYkAG5AJO4MigECEAgSAETadkjMXIADMnJQbIoAAAgjkKMD5O0dsh4ciAHS4OSFPjQ0o5O5SGwIIuCRAAOhSN5iLrwIEgL52jnkjgAACCKgA52/WgQoQALIOTATYgEzYGRQBBCIUIACMsOmUnLkAAWDmpNwQAQQQQCBHAc7fOWI7PBQBoMPNCXlqbEAhd5faEEDAJQECQJe6wVx8FSAA9LVzzBsBBBBAQAU4f7MOVIAAkHVgIsAGZMLOoAggEKEAAWCETafkzAUIADMn5YYIIIAAAjkKcP7OEdvhoQgAHW5OyFNjAwq5u9SGAAIuCRAAutQN5uKrAAGgr51j3ggggAACKsD5m3WgAgSArAMTATYgE3YGRQCBCAUIACNsOiVnLkAAmDkpN0QAAQQQyFGA83eO2A4PRQDocHNCnhobUMjdpTYEEHBJgADQpW4wF18FCAB97RzzRgABBBBQAc7frAMVIABkHZgIsAGZsDMoAghEKEAAGGHTKTlzAQLAzEm5IQIIIIBAjgKcv3PEdngoAkCHmxPy1NiAQu4utSGAgEsCBIAudYO5IFCcAMFjcV68GwEEEECgbgHO36wMFSAAZB2YCLABmbAzKAIIRChAABhh0yk5GAECwGBaSSEIIICAqQDnb1N+ZwYnAHSmFXFNhA0orn5TLQII2AkQANrZMzICaQUIANMKcj0CCCCAgApw/mYdqAABIOvARIANyISdQRFAIEIBAsAIm07JwQgQAAbTSgpBAAEETAU4f5vyOzM4AaAzrYhrImxAcfWbahFAwE6AANDOnpERSCtAAJhWkOsRQAABBFSA8zfrQAUIAFkHJgJsQCbsDIoAAhEKEABG2HRKDkaAADCYVlIIAgggYCrA+duU35nBCQCdaUVcE2EDiqvfVIsAAnYCBIB29oyMQFoBAsC0glyPAAIIIKACnL9ZBypAAMg6MBFgAzJhZ1AEEIhQgAAwwqZTcjACBIDBtJJCEEAAAVMBzt+m/M4MTgDoTCvimggbUFz9ploEELATIAC0s2dkBNIKEACmFeR6BBBAAAEV4PzNOlABAkDWgYkAG5AJO4MigECEAgSAETadkoMRIAAMppUUggACCJgKcP425XdmcAJAZ1oR10TYgOLqN9UigICdAAGgnT0jI5BWgAAwrSDXI4AAAgioAOdv1oEKEACyDkwE2IBM2BkUAQQiFCAAjLDplByMAAFgMK2kEAQQQMBUgPO3Kb8zgxMAOtOKuCbCBhRXv6kWAQTsBAgA7ewZGYG0AgSAaQW5HgEEEEBABTh/sw5UgACQdWAiwAZkws6gCCAQoQABYIRNp+RgBAgAg2klhSCAAAKmApy/TfmdGZwA0JlWxDURNqC4+k21CCBgJ0AAaGfPyAikFSAATCvI9QgggAACKsD5m3WgAgSArAMTATYgE3YGRQCBCAUIACNsOiUHI0AAGEwrKQQBBBAwFeD8bcrvzOAEgM60Iq6JsAHF1W+qRQABOwECQDt7RkYgrQABYFpBrkcAAQQQUAHO36wDFSAAZB2YCLABmbAzKAIIRChAABhh0yk5GAECwGBaSSEIIICAqQDnb1N+ZwYnAHSmFXFNhA0orn5TLQII2AkQANrZMzICaQUIANMKcj0CCCCAgApw/mYdqAABIOvARIANyISdQRFAIEIBAsAIm07JwQgQAAbTSgpBAAEETAU4f5vyOzM4AaAzrYhrImxAcfWbahFAwE6AANDOnpERSCtAAJhWkOsRQAABBFSA8zfrQAUIAFkHJgJsQCbsDIoAAhEKEABG2HRKDkaAADCYVlIIAgggYCrA+duU35nBCQCdaUVcE2EDiqvfVIsAAnYCBIB29oyMQFoBAsC0glyPAAIIIKACnL9ZBypAAMg6MBFgAzJhZ1AEEIhQgAAwwqZTcjACBIDBtJJCEEAAAVMBzt+m/M4MTgDoTCvimggbUFz9ploEELATIAC0s2dkBNIKEACmFeR6BBBAAAEV4PzNOlABAkDWgYkAG5AJO4MigECEAgSAETadkoMRIAAMppUUggACCJgKcP425XdmcAJAZ1oR10TYgOLqN9UigICdAAGgnT0jI5BWgAAwrSDXI4AAAgioAOdv1oEKEACyDkwE2IBM2BkUAQQiFCAAjLDplByMAAFgMK2kEAQQQMBUgPO3Kb8zgxMAOtOKuCbCBhRXv6kWAQTsBAgA7ewZGYG0AgSAaQW5HgEEEEBABTh/sw5UgACQdWAiwAZkws6gCCAQoQABYIRNp+RgBAgAg2klhSCAAAKmApy/TfmdGZwA0JlWxDURNqC4+k21CCBgJ0AAaGfPyAikFSAATCvI9QgggAACKsD5m3WgAgSArAMTATYgE3YGRQCBCAUIACNsOiUHI0AAGEwrKQQBBBAwFeD8bcrvzOAEgM60Iq6JsAHF1W+qRQABOwECQDt7RkYgrQABYFpBrkcAAQQQUAHO36wDFSAAZB2YCLABmbAzKAIIRChAABhh0yk5GAECwGBaSSEIIICAqQDnb1N+ZwYnAHSmFXFNhA0orn5TLQII2AkQANrZMzICaQUIANMKcj0CCCCAgApw/mYdqAABIOvARIANyISdQRFAIEIBAsAIm07JwQgQAAbTSgpBAAEETAU4f5vyOzM4AaAzrYhrImxAcfWbahFAwE6AANDOnpERSCtAAJhWkOsRQAABBFSA8zfrQAUIAFkHJgJsQCbsDIoAAhEKEABG2HRKDkaAADCYVlIIAgggYCrA+duU35nBCQCdaUVcE2EDiqvfVIsAAnYCBIB29oyMQFoBAsC0glyPAAIIIKACnL9ZBypAAMg6MBFgAzJhZ1AEEIhQgAAwwqZTcjACBIDBtJJCEEAAAVMBzt+m/M4MTgDoTCvimggbUFz9ploEELATIAC0s2dkBNIKEACmFeR6BBBAAAEV4PzNOlABAkDWgYkAG5AJO4MigECEAgSAETadkoMRIAAMppUUggACCJgKcP425XdmcALAAloxd+5cefzxx2XGjBmyYMEC+fDDD2X99deXzTffXPbZZx859dRTZb/99ivgTv/7Fr3X+PHjZdasWfLRRx/JpptuKr1795YhQ4bIoYceWtB9li9fLjfffLM8+OCD8sYbb8i3334rnTp1kh/96Edy1llnSefOnQu6z8KFC+X3v/+9TJ06Vd555x3ZcMMNZccdd5T+/fsnda233noF3afYN7EBFSvG+xFAAIHSBAgAS3PjKgRcECAAdKELzAEBBBDwX4Dzt/89zKICAsBGFPv06SPPPPNMo9Y/+9nP5Pbbb5emTZvW+97q6moZOnRoEv7V99IQ8NZbb5WKiop637NkyZIk6HvttdfqfE+bNm3kvvvuk379+jU47zvuuEPOPPNM+eabb+p831577SWTJk2SjTfeuNH6i30DG1CxYrwfAQQQKE2AALA0N65CwAUBAkAXusAcEEAAAf8FOH/738MsKiAAbERxm222EQ3c9NN+xx13XPJJP/103cqVK2XmzJnym9/8JvnknL5++tOfJsFbfa+LLrpIxowZk/y5Z8+ecv7558vWW2+d3P+aa66RefPmJX/T9/3qV7+q8zZfffWV7LHHHvLqq68mfx88eLCccMIJ0rx5c5k2bZpcddVVou9p0aJFMr9ddtmlzvv8/e9/TwLCVatWSfv27ZMx99xzT/nkk0/ktttuk4ceeii5bv/990/uW1lZmcV6q70HG1CmnNwMAQQQqFeAAJDFgYC/AgSA/vaOmSOAAAIuCXD+dqkbdnMhAGzE/rDDDpMBAwbIMcccI02aNFnn3R9//LH813/9lyxevDj5m35asK6vA+vXdPWrtVVVVdKrV6/kfRra1bz0K736acM5c+YkX7vVgE/DwbVfo0aNkssvvzz5zxoajhgxYo23aOinoZ2Oc8ABB8hTTz21zj30bzoXnVPr1q1Fv+K89lj6ycCxY8cm1959992JQZYvNqAsNbkXAgggUL8AASCrAwF/BQgA/e0dM0cAAQRcEuD87VI37OZCAJiBvX5N9vDDD0/upL+/d8MNN6xz19UDNQ3p9Ou1a79eeOEF2XvvvZP/PGzYsOS3+VZ/fffdd9KuXTv57LPPkgBPf4+wrk/m6deMx40bl1yqgeLuu+++xn30dwN/8pOfJP9NPzE4cuTIdeaigWTHjh3l008/le7du8v8+fMzkPr/t2ADypSTmyGAAAL1ChAAsjgQ8FeAANDf3jFzBBBAwCUBzt8udcNuLgSAGdjrV25btWqV3El/m08DwdVf+tt/+oAO/arwDjvsIIsWLap3VP27/rafhm9vvfXWGr8F+MQTT8ghhxySXHv11VfLBRdcUOd9Vg8SL7zwQrnyyivXeJ8+4KPmq8rvvfeedOjQoc77rB4k6icct9122wy0/vcWbECZUXIjBBBAoEEBAkAWCAL+ChAA+ts7Zo4AAgi4JMD526Vu2M2FADADe/3dvJoHZegnAR999NE17vrmm2/WfsX2tNNOSx7yUd9L/17zkBC9rmvXrrVvvfTSS2X06NHJ1rMyKAAAIABJREFUv9f3KUL9m37Fd6ONNpJly5YlXweePn36GsPpbxi+/fbbsv3229f+lmBd87n//vvlxBNPTP40YcIEGThwYAZa/3sLNqDMKLkRAggg0KAAASALBAF/BQgA/e0dM0cAAQRcEuD87VI37OZCAJiB/cMPPyxHH310cif9TT79bb7VX5MnTxb9LUF9XX/99TJ8+PB6R9W/n3vuucnf9brVn+SrDyGZOHFi8jf9aq6GfPW9dt11V3n55Zdl0003lQ8//LD2bfppRf3dP/1U4pFHHimPPPJIvffQh5Lstttu9daVho4NKI0e1yKAAAKFCxAAFm7FOxFwTYAA0LWOMB8EEEDATwHO3372LetZEwCmFNWn6Orv9s2aNSu50+zZs5OHfKz+0k/8nX766cl/0t/fO/bYY+sdVQM+Dfr0pdfpJwJrXvq7gS+++KK0bNkyedJvQy8NHDVA1NfXX38tzZo1S/5ZHy6ivx+oL/1dwptuuqne2+gDTjRA1Jc+aVg/EVjoSzeYhl761ePevXsnb9FPI+pXnnkhgAACCGQvQACYvSl3RCAvAQLAvKQZBwEEEAhbgAAw7P4WWh0BYKFS9bzvN7/5jZx33nnJX4866ih56KGH1nnntddeK+eff37y3//2t7/JoYceWu+o+veaT/1dd9118otf/KL2vd26dZNXXnlF2rdvL++//36DMz/++OPlgQceSN6jQV7NV5Q1oKwJ3vQ3BPW3BOt7rVixQlq0aJH8WQPFv/71rwVrVVRUFPxeAsCCqXgjAgggULQAAWDRZFyAgDMCBIDOtIKJIIAAAl4LEAB63b7MJk8AmIJSf1vv4IMPTn5zT5/Oq1+51XBu7Zf+bp/+fp++nnzySTnwwAPrHfWpp56Sgw46KPm7XnfxxRfXvnfrrbcW/V1AfaCIPiCkodeAAQPkD3/4Q/KW1QO2GTNmJL8LqK9LLrlErrjiinpvo59ubNKkSfJ3ndPUqVML1iIALJiKNyKAAAJlFSAALCsvN0egrAIEgGXl5eYIIIBANAIEgNG0usFCCQBLXAcLFy6U/fbbL/ktPv167d///nfp06dPnXeL8ROAfAW4xIXFZQgggEDGAgSAGYNyOwRyFCAAzBGboRBAAIGABQgAA25uEaURABaBVfPWf/3rX7LvvvvKu+++m3xCTn/XT7/+W98rxt8AbIyVDagxIf6OAAIIZCNAAJiNI3dBwEKAANBCnTERQACB8AQ4f4fX01IqIgAsUk1DP/3kn34VV7/metddd4l+3bah16RJk+Twww9P3pLmKcD68JA///nPyX3SPAW4VatWyT14CnCRzeftCCCAgIcCBIAeNo0pI/B/AgSALAUEEEAAgSwECACzUPT/HgSARfRQH6ahX/PVB3HoS5+gq0/SbeylYaH+fp++9Km++onA+l769/Hjxyd/1uu6du1a+1b9HUH9XUB9zZw5U/SpwHW99DcJN9poI1m2bFnye3/6W4Wrvzp37pz8LuD222+fPBW4vpc+9ffEE09M/jxhwgQZOHBgY6UW/Hc2oIKpeCMCCCCQSoAAMBUfFyNgKkAAaMrP4AgggEAwApy/g2llqkIIAAvk+/zzz5OHd8ydOze5Qp+eq0/RLeRVXV0tHTt2TL4yvMMOO8iiRYvqvWzHHXdMQrktttgiCelWf5jGlClT5Ic//GGj47/wwguy9957J+/75S9/KWPGjFljPA31NNzT13vvvScdOnSocz5Dhw6VcePGJX977bXXZLvttiuk3ILewwZUEBNvQgABBFILEACmJuQGCJgJEACa0TMwAgggEJQA5++g2llyMQSABdAtX75cDjnkEHnuueeSd1900UXyq1/9qoAr//9bzjjjDLnllluS/1Dfp/dWD+70/TfffPMaY3z77bfJ04Y1jNSgUB9EUtfTdlcP7mbNmiV77LHHGvd54IEH5Pjjj0/+21VXXSUjR45cpxatWUNL/arxTjvtlIyV5YsNKEtN7oUAAgjUL0AAyOpAwF8BAkB/e8fMEUAAAZcEOH+71A27uRAANmKvoZv+fp9++k5fZ599tvzud78rumOLFy+Wbt26iX49t1evXvLMM89I8+bNa++zYsWK5Ou6c+bMkfXWWy/5mvG22267zjirfw34mmuukREjRqzxHg0X9T46jn5d+emnn17nHt99910SIC5ZskRat26dfKqx5ivKNW/WrzaPHTs2+dc777xTfv7znxddc0MXsAFlysnNEEAAgXoFCABZHAj4K0AA6G/vmDkCCCDgkgDnb5e6YTcXAsBG7I855hh56KGHknfpV4A1/KvrU3c1t2natGm9X5XVr+PqV4f11bNnz+QrxBq8aRD361//WubNm5f8ra6v7dbc/8svv0wCRA0U9TVkyBA54YQTkjBx2rRpydd9v/rqq+Tfn3/+eenRo0edFT722GNJsLlq1Spp3769XHzxxdK7d+/kE3+33XZb7cNG9GnHGiLq046zfLEBZanJvRBAAIH6BQgAWR0I+CtAAOhv75g5Aggg4JIA52+XumE3FwLARuwbCvvqurRLly6ydOnSOu+qYdvgwYOTB2rU9zr11FOTh4BUVlbW+5433nhD+vXrJ6+//nqd79FP9d17771y2GGHNVidBn3Dhg0T/ZRjXS8NBCdPniybbLJJ5iuUDShzUm6IAAII1ClAAMjCQMBfAQJAf3vHzBFAAAGXBDh/u9QNu7kQAOYYANYMpZ++05Bv9uzZok8W1oBNf6dPnwDct2/fglaDPuFXfyPwwQcfFA0ENcTr1KlTEgzq15Q1iCzktWDBArnxxhvlySefTB5S0rJly+Trwf3795dBgwYlX0cux4sNqByq3BMBBBBYV4AAkFWBgL8CBID+9o6ZI4AAAi4JcP52qRt2cyEAtLOPemQ2oKjbT/EIIJCjAAFgjtgMhUDGAgSAGYNyOwQQQCBSAc7fkTZ+rbIJAFkHJgJsQCbsDIoAAhEKEABG2HRKDkaAADCYVlIIAgggYCrA+duU35nBCQCdaUVcE2EDiqvfVIsAAnYCBIB29oyMQFoBAsC0glyPAAIIIKACnL9ZBypAAMg6MBFgAzJhZ1AEEIhQgAAwwqZTcjACBIDBtJJCEEAAAVMBzt+m/M4MTgDoTCvimggbUFz9ploEELATIAC0s2dkBNIKEACmFeR6BBBAAAEV4PzNOlABAkDWgYkAG5AJO4MigECEAgSAETadkoMRIAAMppUUggACCJgKcP425XdmcAJAZ1oR10TYgOLqN9UigICdAAGgnT0jI5BWgAAwrSDXI4AAAgioAOdv1oEKEACyDkwE2IBM2BkUAQQiFCAAjLDplByMAAFgMK2kEAQQQMBUgPO3Kb8zgxMAOtOKuCbCBhRXv6kWAQTsBAgA7ewZGYG0AgSAaQW5HgEEEEBABTh/sw5UgACQdWAiwAZkws6gCCAQoQABYIRNp+RgBAgAg2klhSCAAAKmApy/TfmdGZwA0JlWxDURNqC4+k21CCBgJ0AAaGfPyAikFSAATCvI9QgggAACKsD5m3WgAgSArAMTATYgE3YGRQCBCAUIACNsOiUHI0AAGEwrKQQBBBAwFeD8bcrvzOAEgM60Iq6JsAHF1W+qRQABOwECQDt7RkYgrQABYFpBrkcAAQQQUAHO36wDFSAAZB2YCLABmbAzKAIIRChAABhh0yk5GAECwGBaSSEIIICAqQDnb1N+ZwYnAHSmFXFNhA0orn5TLQII2AkQANrZMzICaQUIANMKcj0CCCCAgApw/mYdqAABIOvARIANyISdQRFAIEIBAsAIm07JwQgQAAbTSgpBAAEETAU4f5vyOzM4AaAzrYhrImxAcfWbahFAwE6AANDOnpERSCtAAJhWkOsRQAABBFSA8zfrQAUIAFkHJgJsQCbsDIoAAhEKEABG2HRKDkaAADCYVlIIAgggYCrA+duU35nBCQCdaUVcE2EDiqvfVIsAAnYCBIB29oyMQFoBAsC0glyPAAIIIKACnL9ZBypAAMg6MBFgAzJhZ1AEEIhQgAAwwqZTcjACBIDBtJJCEEAAAVMBzt+m/M4MTgDoTCvimggbUFz9ploEELATIAC0s2dkBNIKEACmFeR6BBBAAAEV4PzNOlABAkDWgYkAG5AJO4MigECEAgSAETadkoMRIAAMppUUggACCJgKcP425XdmcAJAZ1oR10TYgOLqN9UigICdAAGgnT0jI5BWgAAwrSDXI4AAAgioAOdv1oEKEACyDkwE2IBM2BkUAQQiFCAAjLDplByMAAFgMK2kEAQQQMBUgPO3Kb8zgxMAOtOKuCbCBhRXv6kWAQTsBAgA7ewZGYG0AgSAaQW5HgEEEEBABTh/sw5UgACQdWAiwAZkws6gCCAQoQABYIRNp+RgBAgAg2klhSCAAAKmApy/TfmdGZwA0JlWxDURNqC4+k21CCBgJ0AAaGfPyAikFSAATCvI9QgggAACKsD5m3WgAgSArAMTATYgE3YGRQCBCAUIACNsOiUHI0AAGEwrKQQBBBAwFeD8bcrvzOAEgM60Iq6JsAHF1W+qRQABOwECQDt7RkYgrQABYFpBrkcAAQQQUAHO36wDFSAAZB2YCLABmbAzKAIIRChAABhh0yk5GAECwGBaSSEIIICAqQDnb1N+ZwYnAHSmFXFNhA0orn5TLQII2AkQANrZMzICvgoQPPraOeaNAAII1C3A+ZuVoQIEgKwDEwE2IBN2BkUAgQgFCAAjbDolI5BSgAAwJSCXI4AAAo4JcP52rCFG0yEANIKPfVg2oNhXAPUjgEBeAgSAeUkzDgLhCBAAhtNLKkEAAQRUgPM360AFCABZByYCbEAm7AyKAAIRChAARth0SkYgpQABYEpALkcAAQQcE+D87VhDjKZDAGgEH/uwbECxrwDqRwCBvAQIAPOSZhwEwhEgAAynl1SCAAIIqADnb9aBChAAsg5MBNiATNgZFAEEIhQgAIyw6ZSMQEoBAsCUgFyOAAIIOCbA+duxhhhNhwDQCD72YdmAYl8B1I8AAnkJEADmJc04CIQjQAAYTi+pBAEEEFABzt+sAxUgAGQdmAiwAZmwMygCCEQoQAAYYdMpGYGUAgSAKQG5HAEEEHBMgPO3Yw0xmg4BoBF87MOyAcW+AqgfAQTyEiAAzEuacRAIR4AAMJxeUgkCCCCgApy/WQcqQADIOjARYAMyYWdQBBCIUIAAMMKmUzICKQUIAFMCcjkCCCDgmADnb8caYjQdAkAj+NiHZQOKfQVQPwII5CVAAJiXNOMgEI4AAWA4vaQSBBBAQAU4f7MOVIAAkHVgIsAGZMLOoAggEKEAAWCETadkBFIKEACmBORyBBBAwDEBzt+ONcRoOgSARvCxD8sGFPsKoH4EEMhLgAAwL2nGQSAcAQLAcHpJJQgggIAKcP5mHagAASDrwESADciEnUERQCBCAQLACJtOyQikFCAATAnI5QgggIBjApy/HWuI0XQIAI3gYx+WDSj2FUD9CCCQlwABYF7SjINAOAIEgOH0kkoQQAABFeD8zTpQAQJA1oGJABuQCTuDIoBAhAIEgBE2nZIRSClAAJgSkMsRQAABxwQ4fzvWEKPpEAAawcc+LBtQ7CuA+hFAIC8BAsC8pBkHgXAECADD6SWVIIAAAirA+Zt1oAIEgKwDEwE2IBN2BkUAgQgFCAAjbDolI5BSgAAwJSCXI4AAAo4JcP52rCFG0yEANIKPfVg2oNhXAPUjgEBeAgSAeUkzDgLhCBAAhtNLKkEAAQRUgPM360AFCABZByYCbEAm7AyKAAIRChAARth0SkYgpQABYEpALkcAAQQcE+D87VhDjKZDAGgEH/uwbECxrwDqRwCBvAQIAPOSZhwEwhEgAAynl1SCAAIIqADnb9aBChAAsg5MBNiATNgZFAEEIhQgAIyw6ZSMQEoBAsCUgFyOAAIIOCbA+duxhhhNhwDQCD72YdmAYl8B1I8AAnkJWAWAedXHOAggkL0AAWD2ptwRAQQQsBTg/G2p787YBIDu9CKqmbABRdVuikUAAUMBAkBDfIZGwFMBAkBPG8e0EUAAgXoEOH+zNFSAAJB1YCLABmTCzqAIIBChAAFghE2nZARSChAApgTkcgQQQMAxAc7fjjXEaDoEgEbwsQ/LBhT7CqB+BBDIS4AAMC9pxkEgHAECwHB6SSUIIICACnD+Zh2oAAEg68BEgA3IhJ1BEUAgQgECwAibTskIpBQgAEwJyOUIIICAYwKcvx1riNF0CACN4GMflg0o9hVA/QggkJcAAWBe0oyDQDgCBIDh9JJKEEAAARXg/M06UAECQNaBiQAbkAk7gyKAQIQCBIARNp2SEUgpQACYEpDLEUAAAccEOH871hCj6RAAGsHHPiwbUOwrgPoRQCAvAQLAvKQZB4FwBAgAw+kllSCAAAIqwPmbdaACBICsAxMBNiATdgZFAIEIBQgAI2w6JSOQUoAAMCUglyOAAAKOCXD+dqwhRtMhADSCj31YNqDYVwD1I4BAXgIEgHlJMw4C4QgQAIbTSypBAAEEVIDzN+tABQgAWQcmAmxAJuwMigACEQoQAEbYdEpGIKUAAWBKQC5HAAEEHBPg/O1YQ4ymQwBoBB/7sGxAsa8A6kcAgbwECADzkmYcBMIRIAAMp5dUggACCKgA52/WgQoQALIOTATYgEzYGRQBBCIUIACMsOmUjEBKAQLAlIBcjgACCDgmwPnbsYYYTYcA0Ag+9mHZgGJfAdSPAAJ5CRAA5iXNOAiEI0AAGE4vqQQBBBBQAc7frAMVIABkHZgIsAGZsDMoAghEKEAAGGHTKRmBlAIEgCkBuRwBBBBwTIDzt2MNMZoOAaARfOzDsgHFvgKoHwEE8hIgAMxLmnEQCEeAADCcXlIJAgggoAKcv1kHKkAAyDowEWADMmFnUAQQiFCAADDCplMyAikFCABTAnI5Aggg4JgA52/HGmI0HQJAI/jYh2UDin0FUD8CCOQlQACYlzTjIBCOAAFgOL2kEgQQQEAFOH+zDlSAAJB1YCLABmTCzqAIIBChAAFghE2nZARSChAApgTkcgQQQMAxAc7fjjXEaDoEgEbwsQ/LBhT7CqB+BBDIS4AAMC9pxkEgHAECwHB6SSUIIICACnD+Zh2oAAEg68BEgA3IhJ1BEUAgQgECwAibTskIpBQgAEwJyOUIIICAYwKcvx1riNF0CACN4GMflg0o9hVA/QggkJcAAWBe0oyDQDgCBIDh9JJKEEAAARXg/M06UAECQNaBiQAbkAk7gyKAQIQCBIARNp2SEUgpQACYEpDLEUAAAccEOH871hCj6RAAGsHHPiwbUOwrgPoRQCAvAQLAvKQZB4FwBAgAw+kllSCAAAIqwPmbdaACBICsAxMBNiATdgZFAIEIBQgAI2w6JSOQUoAAMCUglyOAAAKOCXD+dqwhRtMhADSCj31YNqDYVwD1I4BAXgIEgHlJMw4C4QgQAIbTSypBAAEEVIDzN+tABQgAWQcmAmxAJuwMigACEQoQAEbYdEpGIKUAAWBKQC5HAAEEHBPg/O1YQ4ymQwBoBB/7sGxAsa8A6kcAgbwECADzkmYcBMIRIAAMp5dUggACCKgA52/WgQoQALIOTATYgEzYGRQBBCIUIACMsOmUjEBKAQLAlIBcjgACCDgmwPnbsYYYTYcA0Ag+9mHZgGJfAdSPAAJ5CRAA5iXNOAiEI0AAGE4vqQQBBBBQAc7frAMVIABkHZgIsAGZsDMoAghEKEAAGGHTKRkBTwUIHj1tHNNGAAHnBTh/O9+iXCZIAJgLM4OsLcAGxJpAAAEE8hEgAMzHmVEQQCC9AAFgekPugAACCNQlwPmbdaECBICsAxMBNiATdgZFAIEIBQgAI2w6JSPgqQABoKeNY9oIIOC8AOdv51uUywQJAHNhZpC1BdiAWBMIIIBAPgIEgPk4MwoCCKQXIABMb8gdEEAAgboEOH+zLlSAAJB1YCLABmTCzqAIIBChAAFghE2nZAQ8FSAA9LRxTBsBBJwX4PztfItymSABYC7MDLK2ABsQawIBBBDIR4AAMB9nRkEAgfQCBIDpDbkDAgggUJcA52/WhQoQALIOTATYgEzYGRQBBCIUIACMsOmUjICnAgSAnjaOaSOAgPMCnL+db1EuEyQAzIWZQdYWYANiTSCAAAL5CBAA5uPMKAggkF6AADC9IXdAAAEE6hLg/M26UAECQNaBiQAbkAk7gyKAQIQCBIARNp2SEfBUgADQ08YxbQQQcF6A87fzLcplggSAuTAzyNoCbECsCQQQQCAfAQLAfJwZBQEE0gsQAKY35A4IIIBAXQKcv1kXKkAAyDowEWADMmFnUAQQiFCAADDCplMyAp4KEAB62jimjQACzgtw/na+RblMkAAwF2YGWVuADYg1gQACCOQjQACYjzOjIIBAegECwPSG3AEBBBCoS4DzN+tCBf5fe/ceb/WU/3H8gy6cigohRJcpIjG6RzlSBuWe3MqlIRLGZUr8KrkVFXJtyiAzwxkVkqJGI8VIURFyCV0ZXXTTBZXf470es89jd87e5+xzzvd89/fyWv9Mzv7u71rrudbsx9nvs9Z3EQAyD7IiwAdQVtipFAEEYihAABjDQafLCIRUgAAwpANHsxFAIPACfP8O/BD50kACQF+YqaSgAB9AzAkEEEDAHwECQH+cqQUBBMouQABYdkPugAACCKQS4Ps380ICBIDMg6wI8AGUFXYqRQCBGAoQAMZw0OkyAiEVIAAM6cDRbAQQCLwA378DP0S+NJAA0BdmKikowAcQcwIBBBDwR4AA0B9nakEAgbILEACW3ZA7IIAAAqkE+P7NvJAAASDzICsCfABlhZ1KEUAghgIEgDEcdLqMQEgFCABDOnA0GwEEAi/A9+/AD5EvDSQA9IWZSgoK8AHEnEAAAQT8ESAA9MeZWhBAoOwCBIBlN+QOCCCAQCoBvn8zLyRAAMg8yIoAH0BZYadSBBCIoQABYAwHnS4jEFIBAsCQDhzNRgCBwAvw/TvwQ+RLAwkAfWGmkoICfAAxJxBAAAF/BAgA/XGmFgQQKLsAAWDZDbkDAgggkEqA79/MCwkQADIPsiLAB1BW2KkUAQRiKEAAGMNBp8sIhFSAADCkA0ezEUAg8AJ8/w78EPnSQAJAX5ippKAAH0DMCQQQQMAfAQJAf5ypBQEEyi5AAFh2Q+6AAAIIpBLg+zfzQgIEgMyDrAjwAZQVdipFAIEYChAAxnDQ6TICIRUgAAzpwNFsBBAIvADfvwM/RL40kADQF2YqKSjABxBzAgEEEPBHgADQH2dqQQCBsgsQAJbdkDsggAACqQT4/s28kAABIPMgKwJ8AGWFnUoRQCCGAgSAMRx0uoxASAUIAEM6cDQbAQQCL8D378APkS8NJAD0hZlKCgrwAcScQAABBPwRIAD0x5laEECg7AIEgGU35A4IIIBAKgG+fzMvJEAAyDzIigAfQFlhp1IEEIihAAFgDAedLiMQUgECwJAOHM1GAIHAC/D9O/BD5EsDCQB9YaaSggJ8ADEnEEAAAX8ECAD9caYWBBAouwABYNkNuQMCCCCQSoDv38wLCRAAMg+yIsAHUFbYqRQBBGIoQAAYw0GnywiEVIAAMKQDR7MRQCDwAnz/DvwQ+dJAAkBfmKmkoAAfQMwJBBBAwB8BAkB/nKkFAQTKLkAAWHZD7oAAAgikEuD7N/NCAgSAzIOsCPABlBV2KkUAgRgKEADGcNDpMgIhFSAADOnA0WwEEAi8AN+/Az9EvjSQANAXZiopKMAHEHMCAQQQ8EeAANAfZ2pBAIGyCxAAlt2QOyCAAAKpBPj+zbyQAAEg8yArAnwAZYWdShFAIIYCBIAxHHS6jAACJRIgeCwRFxcjgEAIBfj+HcJBK4cmEwCWAyq3LF6AD6DijbgCAQQQ8EKAANALRe6BAAJRFiAAjPLo0jcEEJAA37+ZBxIgAGQeZEWAD6CssFMpAghkUYAgLov4VI0AAggUIUAAyPRAAIGoC/D9O+ojnFn/CAAzc+IqjwX4APIYlNshgEDgBQgAAz9ENBABBGIqQAAY04Gn2wjESIDv3zEa7CK6SgDIPMiKAB9AWWGnUgQQyKIAAWAW8akaAQQQKEKAAJDpgQACURfg+3fURziz/hEAZubEVR4L8AHkMSi3QwCBwAsQAAZ+iGggAgjEVIAAMKYDT7cRiJEA379jNNhFdJUAkHmQFQE+gLLCTqUIIJBFAQLALOJTNQIIIFCEAAEg0wMBBKIuwPfvqI9wZv0jAMzMias8FuADyGNQbocAAoEXIAAM/BDRQAQQiKkAAWBMB55uIxAjAb5/x2iwi+gqASDzICsCfABlhZ1KEUAgiwIEgFnEp2oEEECgCAECQKYHAghEXYDv31Ef4cz6RwCYmRNXeSzAB5DHoNwOAQQCL0AAGPghooEIIBBTAQLAmA483UYgRgJ8/47RYBfRVQJA5kFWBPgAygo7lSKAQBYFCACziE/VCCCAQBECBIBMDwQQiLoA37+jPsKZ9Y8AMDOnSF+1bNkye+SRR2zy5Mmmf1euXNkaNGhgF1xwgfXu3dtycnI87z8fQJ6TckMEEAi4AAFgwAeI5iGAAAI+CxA8+gxOdQjEWIDv3zEe/KSuEwDGfB4o9Lvkkktsw4YNKSUaNWpkU6ZMsXr16nkqxQeQp5zcDAEEQiBAABiCQaKJCCCAgI8CBIA+YlMVAjEX4Pt3zCfA/7pPABjjefDRRx9ZmzZtbMuWLVa1alXr37+/5ebm2tatWy0vL8/GjBnjdI444gibO3euu8arwgeQV5LcBwEEwiJAABiWkaKdCCCAgD8CBID+OFMLAgiY8f2bWSABAsAYzwOFfTNmzLAKFSrYzJkzrXXr1rtoDBs2zPr27et+NnjwYBs4cKBnWnwAeUbJjRBAICQCBIAhGSiaiQACCPgkQADoEzTVIIAAASBzwAkQAMZ0ImhFX4sWLVx1EDK9AAAgAElEQVTve/XqZaNGjSoksXPnTjv66KNt0aJFVqNGDfvhhx+sYsWKnogRAHrCyE0QQCBEAgSAIRosmooAAgj4IEAA6AMyVSCAgBPg+zcTgQAwxnPgjjvusPvuu88JzJ4921q2bJlSY+jQoW5rsMq0adOsY8eOnqjxAeQJIzdBAIEQCRAAhmiwaCoCCCAQYQGCxwgPLl1DII0A37+ZGgSAMZ4D7dq1s1mzZlmVKlVs/fr1bhtwqvLee++55wSqaAuwtgJ7UfgA8kKReyCAQJgECADDNFq0FQEEEIiuAAFgdMeWniGQToDv38wNAsAYz4H999/f1qxZY02bNrUFCxaklVi3bp3VrFnTvd61a1d78cUXPVHjA8gTRm6CAAIhEiAADNFg0VQEEEAgwgIEgBEeXLqGQBoBvn8zNQgAYzoHtm3bZnvttZfr/RlnnGGvvfZakRI6/Xfz5s3WqlUr04rATIo+YIoqy5cvz19ZOGfOHDvooIMyuS3XIIAAAqEVaHXf9NC2nYYjgAACCERHYPbtHaLTGXqCAAIZCXz//ff5ZwB8++23dvjhh2f0Pi6KlgCHgERrPDPqzerVq61WrVru2m7dulleXl6R7zvggANs1apV7kCQhQsXZlTHbrvtltF1XIQAAggggAACCCCAAAIIIIAAAv4IaAFO8+bN/amMWgIlQAAYqOHwpzFafVenTh1XWffu3e25554rsmJdq/fUr1/fFi9enFEjCQAzYuIiBBBAAAEEEEAAAQQQQAABBHwTIAD0jTpwFREABm5Iyr9BfqwALG4LsLYhf/7556bVhXoeYbpDSMpfgxoQMEteEs+WdGZE1ASY31EbUfpTUIA5zpyIugBzPOojHO/+Mb/9Gf/t27ebcgCVJk2a2J577ulPxdQSKAECwEANhz+N8eMZgP70hFoQ8EaAh+J648hdginA/A7muNAq7wSY495ZcqdgCjDHgzkutMobAea3N47cBYFMBAgAM1GK4DXZPgU4gqR0KcQC/OIR4sGj6cUKML+LJeKCkAswx0M+gDS/WAHmeLFEXBBiAeZ3iAePpodOgAAwdEPmTYPbtWtns2bNsipVqtj69evTbsHVqb9t2rRxlQ4cONAGDx7sTQO4CwIBEuAXjwANBk3xXID57TkpNwyYAHM8YANCczwXYI57TsoNAyTA/A7QYNCUyAsQAEZ+iFN38Pbbb7chQ4a4F2fPnm0tW7ZMeeHQoUOtf//+7rWpU6dap06dYipGt6MswC8eUR5d+sb8Zg5EXYA5HvURpn/MceZAlAWY31EeXfoWNAECwKCNiE/t0UEHidCvV69eNmrUqEI179y5044++mhbtGiRVa9e3VatWmUVK1b0qYVUg4B/Avzi4Z81NfkvwPz235wa/RVgjvvrTW3+CzDH/TenRv8EmN/+WVMTAgSAMZ4DiW3AOoF35syZ1rp16100hg0bZn379nU/GzRokN15550x1qLrURbgF48ojy59Y34zB6IuwByP+gjTP+Y4cyDKAszvKI8ufQuaAAFg0EbEx/bMnz/f2rZta1u3brWqVauatgXn5ua6/87Ly7PRo0e71jRs2NA++OADq1atmo+toyoE/BPgFw//rKnJfwHmt//m1OivAHPcX29q81+AOe6/OTX6J8D89s+amhAgAIz5HJg0aZJdeumltnHjxpQSCv8mT55sDRo0iLkU3Y+yAL94RHl06RvzmzkQdQHmeNRHmP4xx5kDURZgfkd5dOlb0AQIAIM2Illoz9KlS23kyJEu6NMHcKVKlVzg17VrV+vTp4/l5ORkoVVUiQACCCCAAAIIIIAAAggggAACCCDghQABoBeK3AMBBBBAAAEEEEAAAQQQQAABBBBAAIGAChAABnRgaBYCCCCAAAIIIIAAAggggAACCCCAAAJeCBAAeqHIPRBAAAEEEEAAAQQQQAABBBBAAAEEEAioAAFgQAeGZiGAAAIIIIAAAggggAACCCCAAAIIIOCFAAGgF4rcAwEEEEAAAQQQQAABBBBAAAEEEEAAgYAKEAAGdGBoFgIIIIAAAggggAACCCCAAAIIIIAAAl4IEAB6ocg9EEAAAQQQQAABBBBAAAEEEEAAAQQQCKgAAWBAB4ZmIYAAAggggAACCCCAAAIIIIAAAggg4IUAAaAXitwDAQQQQAABBBBAAAEEEEAAAQQQQACBgAoQAAZ0YGgWAggggAACCCCAAAIIIIAAAggggAACXggQAHqhyD0QQCCyAsuWLbPJkyfbjBkzbMGCBbZixQrbsWOH7bfffnb88cfbhRdeaF27drUKFSpE1oCOhVdA8/eRRx5xc1j/rly5sjVo0MAuuOAC6927t+Xk5IS3c7Q8tgLz5s2zN954w2bNmmWffPKJrVq1yipWrGi1a9e2Nm3aWM+ePe3EE0+MrQ8dj65A3759bdiwYfkdfOutt+ykk06KbofpWeQF1qxZY08//bRNnDjRvv76a1u3bp3tu+++duihh1q7du3s3HPPtdatW0fegQ4i4JcAAaBf0tSDAAKhExg4cKDdc8899ttvvxXZ9mbNmtmECROsTp06oesjDY6ugEK/Sy65xDZs2JCyk40aNbIpU6ZYvXr1ootAzyIn0L59e5s5c2ax/erevbs99dRTVqlSpWKv5QIEwiDw0UcfmX7f2L59OwFgGAaMNhYrMG7cOLv22mtt7dq1aa8966yz7JVXXin2XlyAAAKZCRAAZubEVQggEEOBP/7xj/bXv/7VqlSpYuecc4516NDBfve739mee+5pixYtciur5s6d62T0c61KqVq1agyl6HLQBPRFUSuhtmzZ4uZk//79LTc317Zu3Wp5eXk2ZswY1+QjjjjCzWHmbdBGkPakE9AKVq0S0Wo/rb7WSj/98UUrs9977z0bMWKErVy50r39oosusueffx5MBEIvsHPnTmvVqpX7vK5Vq5Zb9arCCsDQD21sO/Dcc8/ZFVdcYZrbmtMKAk844QSrWbOm/fe//3Wf85MmTbJ99tnHFBRSEEDAGwECQG8cuQsCCERQoF+/fm4bgn4pqVatWqEe6gvnxRdfbC+++KJ77a677rIBAwZEUIIuhU1AYZ+2rWtrulZLFdw+oy1k2kqmMnjwYNNqVwoCYRDo3Lmz9ejRw8477zzbY489CjVZ28natm1rX375pXtN85/twGEYWdpYlMDDDz9sN910k/ujjf4gOWTIEAJApkxoBfRH9OOOO85+/vln9/mcCPpSdeiXX35hJXdoR5qGB1GAADCIo0KbEEAgNALatqCVKPoF5ZhjjjGtvKIgkE0BrRBp0aKFa0KvXr1s1KhRhZqjv7gfffTRbiVrjRo17IcffnDPUKMgEAWB1157zbp06eK6csMNN9jIkSOj0C36EFOB5cuXW+PGje2nn35yK/70xx394UaFFYAxnRQh7/Ypp5xi06dPd8/T1u8h+l8KAgj4I0AA6I8ztSCAQIQFmjdvbh988IHbKqxf0CkIZFPgjjvusPvuu881Yfbs2dayZcuUzRk6dKjbGqwybdo069ixYzabTd0IeCagz+HEqu0zzjjDFAhSEAirgMJszeHLLrvMnn32WbvzzjsJAMM6mLTbPv/8czvyyCOdhObyoEGDUEEAAR8FCAB9xKYqBBCIpoBW/i1cuNB94dy4cWM0O0mvQiOgU/N0OqoC6fXr16c9oVrPS9NzAlW0BTixoiQ0HaWhCKQR+PHHH93jG1QUnrz66qtYIRBKAT1ipFu3bu65aApO9t9/fwLAUI4kjU4I3H333fmPHfn000/d6lYVnf6rRzhoric+v1FDAAHvBQgAvTfljgggECMBPYj74IMPdqfyaSXgnDlzYtR7uhpEAX1B1C/RTZs2tQULFqRton7Z1i/aKjpMIfEsyyD2iTYhUBKBl19+2c4991z3lj//+c/2wAMPlOTtXItAIAT0BxytlNKBCDq4SQeTqbACMBDDQyNKKaBV2VOmTHGHe+j3EB3UpM/ojz/+OP+OdevWdSteb7nlFg4pK6Uzb0MgnQABIHMDAQQQKIOAvlwOHz7c3UEHK9x6661luBtvRaBsAtu2bbO99trL3SSTrY86/Xfz5s3udEmtCKQgEHYBPd9Sh94k/hijZ2I2a9Ys7N2i/TEUuPrqq13wp5Xa77zzju22224EgDGcB1HrssK9JUuWuD9S6tTfxx9/PG0X9aziqVOnumdtUxBAwBsBAkBvHLkLAgjEUOD99993v7xo9d8hhxxiX3zxheXk5MRQgi4HRWD16tVWq1Yt1xxtG8vLyyuyaQcccIBpFat+ydY2dgoCYRcYMWJE/h9idFrqSy+9FPYu0f4YCijw0+McdNL1vHnzrEmTJvkKrACM4YSIUJe18k+Py6lcubI7Bbh69eqmZxJr1fbee+/tfhfRY0lef/1112sF4Hqsye677x4hBbqCQPYECACzZ0/NCCAQYgGdmqpVJStWrHB/lX/zzTft5JNPDnGPaHoUBHRaZJ06dVxXunfvbs8991yR3dK1ek/9+vVt8eLFUSCgDzEWePvtt02nS+qPMgrCtaVMITcFgTAJ/PLLL3bssce601FTbWEnAAzTaNLWggIVKlSwHTt2uB8r4FbYrV0IyUUruTt37pwfAo4bN87OP/98MBFAwAMBAkAPELkFAghkV0Bf9ipWrFjmRjzzzDN2+eWXF3ufTZs2WW5urn344Yfu2iFDhthtt91W7Pu4AIHyFmAFYHkLc/+gCuhh8ieeeKJ7ppRWlmjbWPv27YPaXNqFQFqBRMCnP9B89tln7kCn5EIAyOQJs0Di0SPqw4UXXmgvvPBCyu7oM127E1S0OnDChAlh7jZtRyAwAgSAgRkKGoIAAqUV8DMA1DPWTj/9dHvrrbdcc2+++WbTljMKAkEQ4BmAQRgF2uC3wLfffusex/Ddd9+5FSVaLaLtvxQEwiagk371bDStApw4caKdeeaZhbpAABi2UaW9yQIHHXSQO9hGZezYsdajR4+0QHq8zsqVK+3QQw+1ZcuWAYkAAh4IEAB6gMgtEEAg+wL6pbmsRb+U6Nkk6YqCRv0VctKkSe4SncinB3RTEAiSAKcAB2k0aEt5Cyj008q/b775xj2O4dlnny3yC2V5t4f7I1AWgV69etno0aOtXr16du+996a81fjx4/NXQw0YMMAaN27sruvSpUuh1YJlaQvvRaA8BFq0aGE6nEll+vTpRT4+Rwc6zZ49263q1h84KQggUHYBAsCyG3IHBBCIgYCeR3LJJZfkH6qgAxaef/55Hkocg7EPWxf14Hg9MFvbxtavX2963k6qolN/9XBtFT1we/DgwWHrKu2NucCaNWvcNl9tk1R57LHH7Lrrrou5Ct0Ps4AeQ6JVUaUpWgl7+OGHl+atvAcB3wSuuOIK94calWnTplnHjh3T1p0IC/X7zE8//eRbG6kIgSgLEABGeXTpGwIIeCZw1VVX2VNPPeXupwcT62RJL5476FkDuREC/xO4/fbb3XMpVfSX85YtW6a00al7/fv3d6/peWmdOnXCEIHQCGzYsMGtHNEJqSqaz/369QtN+2koAqkECACZF1EX0PO2r7zyStfNJ5980q655pq0Xd5vv/1s7dq11rBhQ/viiy+iTkP/EPBFgADQF2YqQQCBMAvoOX8PPfSQ60KHDh1s8uTJbjsCBYEgCsyZMyc/9NN2slGjRhVqpla06uHaOmWyevXqtmrVKgLtIA4mbUopsGXLFhdYv/vuu+71O+64w+655x60EIiFAM8AjMUwR7aTCvT0yJ1ff/3Vrf7TKsBURae6n3TSSe6lnj175v8RPrIwdAwBnwQIAH2CphoEEAinQPIv2touqV9UCp7IF86e0eooCyS2AWv778yZM03P0Ukuw4YNs759+7ofDRo0yDTPKQiEQUCHI+hZZ4kvjTfeeKM9/PDDYWg6bUTAEwECQE8YuUkWBXr37u1W/6noFGCdBpxcNm3aZPo9ZsGCBe7H+sNm8+bNs9hiqkYgOgIEgNEZS3qCAAIeCzz66KN2ww03uLsefPDB9s9//rPIQ0J0XaNGjVhJ5fE4cLuSC8yfP9/atm1rW7dutapVq5q2Befm5rr/zsvLcw+ZV9G2mg8++MCqVatW8kp4BwJZEDjvvPPcIxhUtAVY4Z8O/0hXKlWq5OY5BYGoCBAARmUk49uP1atXW7NmzdzJvvpDpbYB65C9vffe2xYuXGj333+/JQ73u/baa+2JJ56ILxY9R8BjAQJAj0G5HQIIREdAWw+0BaEkhYdwl0SLa8tTQKdVX3rppbZx48aU1SgU0Xb2Bg0alGczuDcCngoUFfalquiwww6zJUuWeNoGboZANgUIALOpT91eCegRJGeeeaYtXrw47S31rEA9xoRnbnulzn0QMCMAZBYggAACaQQIAJkaYRdYunSpjRw50gV9K1asMK2GUuDXtWtX69Onj+Xk5IS9i7Q/ZgIEgDEbcLpbSIAAkEkRFYHNmze7rcDjx4+3r776yp30W6tWLbeDQc8w1s4FCgIIeCtAAOitJ3dDAAEEEEAAAQQQQAABBBBAAAEEEEAgUAIEgIEaDhqDAAIIIIAAAggggAACCCCAAAIIIICAtwIEgN56cjcEEEAAAQQQQAABBBBAAAEEEEAAAQQCJUAAGKjhoDEIIIAAAggggAACCCCAAAIIIIAAAgh4K0AA6K0nd0MAAQQQQAABBBBAAAEEEEAAAQQQQCBQAgSAgRoOGoMAAggggAACCCCAAAIIIIAAAggggIC3AgSA3npyNwQQQAABBBBAAAEEEEAAAQQQQAABBAIlQAAYqOGgMQgggAACCCCAAAIIIIAAAggggAACCHgrQADorSd3QwABBBBAAAEEEEAAAQQQQAABBBBAIFACBICBGg4agwACCCCAAAIIIIAAAggggAACCCCAgLcCBIDeenI3BBBAAAEEEEAAAQQQQAABBBBAAAEEAiVAABio4aAxCCCAAAIIIIAAAggggAACCCCAAAIIeCtAAOitJ3dDAAEEEEAAAQQQQAABBBBAAAEEEEAgUAIEgIEaDhqDAAIIIIAAAggggAACCCCAAAIIIICAtwIEgN56cjcEEEAAAQQQQAABBBBAAAEEEEAAAQQCJUAAGKjhoDEIIIAAAggggAACCCCAAAIIIIAAAgh4K0AA6K0nd0MAAQQQQAABBBBAAAEEEEAAAQQQQCBQAgSAgRoOGoMAAggggAACCHgncNJJJ9nbb79t7du3txkzZuxy4yVLlljdunXdz5555hm7/PLLU1a8bNkyu/fee+3NN9+0lStX2s8//+yue/nll+3ss8/Of8+7775rw4cPt/fee8/WrFljO3bscK+tW7fOqlev7l2nuBMCCCCAAAIIIIBAiQUIAEtMxhsQQAABBBBAAIFwCJQ1AFT4d/zxx7tAr2BJDgAnTZpk55xzTn7ol3wtAWA45gqtRAABBBBAAIFoCxAARnt86R0CCCCAAAIIxFigrAHg1VdfbWPGjLEKFSq4VYDt2rWzqlWrOtHDDjvMqlWr5v7dsGFD++qrr6x27do2dOhQO+qoo6xSpUrutcaNG9vuu+8e41Gg6wgggAACCCCAQPYFCACzPwa0AAEEEEAAAQQQKBeBogLATCqsV6+effvtt3b++efbuHHjUr5FqwQVBqo89thjdt1112Vya65BAAEEEEAAAQQQ8FGAANBHbKpCAAEEEEAAAQT8FChrAFi5cmX75Zdf7Pbbb3crAFMVPfOvTZs27qVp06ZZx44d/ewidSGAAAIIIIAAAghkIEAAmAESlyCAAAIIIIAAAmEUKGsAuNtuu7luDxo0yO68886UBDpcJDc317321ltvmeqkIIAAAggggAACCARLgAAwWONBaxBAAAEEEEDgfwIKnAYPHuz+67fffrONGzfagw8+aBMmTHDbUqtUqeIOqPi///u//BVounbVqlX2yCOPuFNqddLtnnvuaSeccIILsI477ri0vt988417jwKthQsX2g8//OCurVWrlrVq1cquuOIK+8Mf/lDs+GzevNlGjBjhtszqnqr/yCOPtCuvvNLdQ6fyehWYafWd6nrnnXds/fr1dtBBB7kVeLfccos1atTIhXElPQX42Wefde0sqlx22WXu5bFjxxZ5XarThbds2WKjR4+2iRMn2meffZZ/SvCxxx5rF110kfXo0cP22GOPlPc9/PDDbenSpab61c4PP/zQHn30UdfH7777zq1W1FxJLl7W9/nnnzvvf/3rX/b999+70421+rFfv35ujhRXNB+ffPJJd6Ky/q25ojFTvzp37mxdu3a1OnXqpLxNWfpRXLt4HQEEEEAAAQSiL0AAGP0xpocIIIAAAgiEUiA5ANRz5k455RT78ssvC/VFYdELL7zgwpOPP/7YTj/9dFu5cmWh67SddcqUKXbyyScXek2Bop53V1y59NJLTaGWDsVIVZYvX+7uv3jx4pSvK+S54YYbrFOnTu71sqyYUxDVt29f27lzZ6G6FI4qgLz//vsDFQDOnTvXnRacanwSnWjRooW9+uqrdsABBxTqV3IAqMDt+uuvt+3bt+9yXXIA6GV9Z555pnXv3t0UxBUsmoP/+Mc/rFu3bmmn0PDhw91W6l9//TXtNe3bt3cBdMFS1n4UN695HQEEEEAAAQSiL0AAGP0xpocIIIAAAgiEUiA5AGzZsqVblXfjjTe6VXg5OTlu1Zu2pmploE6j/eijj0wBilZVaQWc/l2xYkV744033PPrtDpMq6t0Wm3ihNoEjAI7nVx76qmnuhV0Orm2Zs2a9uOPP7rQ8fHHH7dPP/3UXT5w4MD8lYnJsLq/ViR+8skn7sennXaa6RTdQw891FasWOFWvSmAVF/ef/99d01pA0CtgtTBHCr77LOPW4GW2Hr773//2x544AF38u7+++/v+psqWNIKtLp167p7JK/U00pCtVelSZMm7n+vvfZa6927d353a9So4f69bt06Uzil1Y0qTz/9tDVv3jz/ukMOOcStklPR+LVu3dqNj1ZV6p4nnnii7bvvvm7VpkK/v/zlLy7Qk9GsWbPc+CWXRACo8fniiy+c7a233urcd+zY4d5z2223eV6fVo4uWrTIrdbT3GrWrJlbaTh16lR36vG2bdts7733dsGvzAuWu+++280bFXnIUqtA1Xd5z5s3z60+VX81J5KLF26FGsQPEEAAAQQQQCB2AgSAsRtyOowAAggggEA4BJIDQK3e0zZPBUPJRYHaGWec4X6k4EWhzOzZs61+/fq7XPfEE0/kn0770ksvuVVoyUWhlIJEBTypiu6rkEvbTrW6TivYFLwll4ceeshuvvlm96M+ffq4rakFi1as6aTcRClNAKigUUGYtqCqDdoGrC3GyUUhZNu2bV2fVEoSACbfx6tnAMpPW3y1QrNp06ZuC+x+++1XyEdhrcZTqxqfeuop69mz5y7XJAJA/VDh5MyZM/MDxuQLy6M+hYzTp08vNO5a+aeVoSraon7TTTft0maFewpF1aeGDRu6eygYTVUUvCa/5lU/wvH/eFqJAAIIIIAAAuUpQABYnrrcGwEEEEAAAQRKLZAcAGqFm1ZapSrJodCoUaOsV69ehS7bunWrW9GnlVoKaBTUlLRoNaBWrmml2fjx4+28887b5RZHHHGEW5VWu3Zt+/rrr92z/woW1a9wUs+rUylNAPjiiy/mbzXVtlKtSEtVtApQbirZDgBfe+0169Kli2uLVmoec8wxafm1jVZ9VICpVZ7JJXmsFf5pBWGqUh71pWu3QjqFdhpTBcsKmJOLnmuYl5dnClP1zMKinkNZsC9e9aOkc53rEUAAAQQQQCB6AgSA0RtTeoQAAggggEAkBJIDwPnz57sVZKmKns02adIkF7CsXbvWEttTC16r0EnbKc866yx75ZVXijTSc9p0CMimTZtc4JcoHTp0cNtVBwwYYHfddVf+z7UiMLFy609/+pNpNWC6otdHjhzpXi5NAKhtxWPGjHH9VVtSraTTvVevXu2eo6eAKtsB4FVXXeVW9OlgEh2kUVTRdmutoNQ2bT1vL/lAkEQAqK2/ei5kuuJ1fVptqNWL6Yqe7Th58mS3unHBggX5l2nVX2Kbr7ZoF9zeW9z/Ub3qR3H18DoCCCCAAAIIRF+AADD6Y0wPEUAAAQQQCKVAcgCoLbp67l+qolNj//a3v7ktwArE0pV27dq5Z8TpkA5twyxYFPrpOX26lwJHbbVNV/T8Om0rThQ9Cy5xQrDen9gSmur9f//7391hEiqlCQD1HD1tc9ahJVppWFTRNTrgJNsBoFa9JQdjmU5IjWfyM/USAaC2CWt1XLridX06YEarEtOVxBwsOCYanwYNGri3pXt2ZFEWXvUjU2+uQwABBBBAAIHoChAARnds6RkCCCCAAAKhFkgOAJNPdi3Yqcsvv9zGjh1rhx12mOlgi3RFK7D0HMFUYZi29+pkXm3RzKSoTh2ckSja4qmtnioKAxOn/Ka6V3JYWJoAMLHVWKfg6vl/RZVEWJjtAPDggw/O3/aciW/iGo2nxjVREgGgAlYFremK1/Vddtll7vmP6Uq6OajDXjROKk8++aRdc801Jem+edWPElXKxQgggAACCCAQSQECwEgOK51CAAEEEEAg/AJ+BoBakaeVeSpnn322O/BDW4b1zD89yy9xGIZOEV6+fLkVDIT8DAC1jVYnEyvc+89//lPkQCt8UgiV7QDwwAMPdFuq9Vw/Pacx06K+Jp8EnAgAiwvk/K4vkwAw3fMpi7Lwqh+ZenMdAggggAACCERXgAAwumNLzxBAAAEEEAi1gF8BoE7K1XP0tAX44osvNp3qmq5Uq1bNfvrpp0IBIFuAcx1ZuhWNRx11lH322WfuFFwdlFLakmkA6Hd96QLAsm4B9qofpfXmfQgggAACCCAQHQECwOiMJT1BAAEEEEAgUgJ+BYDa9tusWTNn9+qrr+afVlsQU8GVtqT6AT0AAAehSURBVN+qFFyBtmLFCtPBFCo33nijPfzww2nHwstDQHTQhw6ZSFWCdAiItuwmgtWC23pLMmkzDQD9ri9dAKhDQBQur1u3zkpzCIhX/SiJMdcigAACCCCAQDQFCACjOa70CgEEEEAAgdAL+BUAJj+nTVt5u3XrltLupptuyg/2Um1BTWzNrV27tjucQ1uHC5Zt27ZZ/fr185+HV5pnAOowikQbH3zwQVO7UpVhw4ZZ37593UvZ3gKc3ObevXubTvotTck0APS7vqKeQ5kI8bSNXGGzDvbItHjVj0zr4zoEEEAAAQQQiK4AAWB0x5aeIYAAAgggEGoBvwLAtWvXupNmddDI6aefbpMnTy7kphNn9WzAHTt2uNdSBYAK42655Rb3ep8+fezRRx8tdJ/rr7/eHnvssfyflyYA1OnECsK+//57q1GjhjsIROFjctF22zZt2tiGDRsCEQDKrUmTJrZo0SL3PMUxY8ZYz549087PTz75xJ1e3KVLl12uyTQA9Lu+ogJAnX58/PHHm1YDagu0TqA+5JBDUvZdK0mTX/OqH6H+IKDxCCCAAAIIIOCJAAGgJ4zcBAEEEEAAAQS8FvArAFS7O3funB/8nXrqqdarVy/TgR+rVq2yCRMmuBNg69WrZ+vXrzdtrU0VACqYU9Cj8EpFYaLuo0BHwc7o0aNdHS1atLA5c+a4a2bMmOFW55W0qE3nn3++e1v16tWtX79+boupQkzd8/7773ev6RCTr776KusrANWWhQsXulBSz1BUkbOeuZg46EPW8+fPN4WtOtxEYerw4cN3ock0APS7vuJOor7nnntswIAB+eN13XXXWW5urtu+rTmlkPCll16yPfbYwz1HMbl44VbS+cX1CCCAAAIIIBA9AQLA6I0pPUIAAQQQQCASAn4GgDrZ94QTTrBly5altFMY+Prrr7tQb+nSpSkDQL1R7z/55JPdFuBUpVOnTm7L7mmnneZenj17trVs2bJU46VwTMGfVpYVLDk5OTZu3Dh74IEH7O233w5EAKg2fvzxxy64VChZXBk8eLANHDhwl8tKEgD6WV9xAaDaMmTIENef7du3p+16qq3aXvSjOGteRwABBBBAAIHoCxAARn+M6SECCCCAAAKhFPAzABSQtgJr5dzEiRNdyKdn+Clw0tZfHeyh7baZBFCbN2+2ESNGuABOQWDlypXd4SE9evRwKwJ10Mg555zjxkRbYhMHi5RmkLRSTnW98847brvvgQceaB06dLBbb73VjjzySLcqMEgBoPqoAOz555+3l19+2T0TTysqFWJqNZxWAyqIlc/vf//7QiSZ+Bd8kx/1ZRIAql0KPp944gl78803XVisVaN6ZmTdunXddmc921FjmKqUpR+lmVu8BwEEEEAAAQSiJUAAGK3xpDcIIIAAAgggEHCBxHbQChUq2KZNm1IeFhLwLtA8BBBAAAEEEEAAgZAJEACGbMBoLgIIIIAAAgiEV0DP6DvmmGPccwKbNWtmc+fODW9naDkCCCCAAAIIIIBAaAQIAEMzVDQUAQQQQAABBIIusGTJEnfoh1b3pSo6CEIrAFV0SrBOC6YggAACCCCAAAIIIFDeAgSA5S3M/RFAAAEEEEAgNgJ6buEzzzzjTrdt27ate77br7/+6p71N3bsWHdCr0rjxo1t3rx57vmAFAQQQAABBBBAAAEEyluAALC8hbk/AggggAACCMRGIPngknSd1qEfOlFYB1pQEEAAAQQQQAABBBDwQ4AA0A9l6kAAAQQQQACBWAgsX77cxo8fb1OnTrXFixe7E263bt1qNWvWtKZNm7rTba+88kqrVKlSLDzoJAIIIIAAAggggEAwBAgAgzEOtAIBBBBAAAEEEEAAAQQQQAABBBBAAIFyESAALBdWbooAAggggAACCCCAAAIIIIAAAggggEAwBAgAgzEOtAIBBBBAAAEEEEAAAQQQQAABBBBAAIFyESAALBdWbooAAggggAACCCCAAAIIIIAAAggggEAwBAgAgzEOtAIBBBBAAAEEEEAAAQQQQAABBBBAAIFyESAALBdWbooAAggggAACCCCAAAIIIIAAAggggEAwBAgAgzEOtAIBBBBAAAEEEEAAAQQQQAABBBBAAIFyESAALBdWbooAAggggAACCCCAAAIIIIAAAggggEAwBAgAgzEOtAIBBBBAAAEEEEAAAQQQQAABBBBAAIFyESAALBdWbooAAggggAACCCCAAAIIIIAAAggggEAwBAgAgzEOtAIBBBBAAAEEEEAAAQQQQAABBBBAAIFyESAALBdWbooAAggggAACCCCAAAIIIIAAAggggEAwBAgAgzEOtAIBBBBAAAEEEEAAAQQQQAABBBBAAIFyESAALBdWbooAAggggAACCCCAAAIIIIAAAggggEAwBAgAgzEOtAIBBBBAAAEEEEAAAQQQQAABBBBAAIFyESAALBdWbooAAggggAACCCCAAAIIIIAAAggggEAwBAgAgzEOtAIBBBBAAAEEEEAAAQQQQAABBBBAAIFyESAALBdWbooAAggggAACCCCAAAIIIIAAAggggEAwBAgAgzEOtAIBBBBAAAEEEEAAAQQQQAABBBBAAIFyEfh/yhNgUZV3ZRYAAAAASUVORK5CYII=\" width=\"640\">"
      ],
      "text/plain": [
       "<IPython.core.display.HTML object>"
      ]
     },
     "metadata": {},
     "output_type": "display_data"
    },
    {
     "data": {
      "text/plain": [
       "Text(0, 0.5, 'Number of Sources')"
      ]
     },
     "execution_count": 3,
     "metadata": {},
     "output_type": "execute_result"
    }
   ],
   "source": [
    "mag_diff = sdss_spec['psfMag_g'] - sdss_spec['modelMag_g']\n",
    "\n",
    "plt.hist(mag_diff, bins = 30)\n",
    "\n",
    "plt.xlabel('mag difference')\n",
    "plt.ylabel('Number of Sources')"
   ]
  },
  {
   "cell_type": "markdown",
   "metadata": {
    "slideshow": {
     "slide_type": "skip"
    }
   },
   "source": [
    "`pandas` can also be used to aggregate the results of a search.\n",
    "\n",
    "**Problem 0c**\n",
    "\n",
    "How many extended sources (`type` = `ext`) have `modelMag_i` between 19 and 20? Use as few lines as possible."
   ]
  },
  {
   "cell_type": "code",
   "execution_count": 4,
   "metadata": {
    "slideshow": {
     "slide_type": "skip"
    }
   },
   "outputs": [],
   "source": [
    "sources = (sdss_spec['type'] == 'ext') & (sdss_spec['modelMag_i'] >= 19) & (sdss_spec['modelMag_i'] <= 20)"
   ]
  },
  {
   "cell_type": "code",
   "execution_count": 5,
   "metadata": {},
   "outputs": [
    {
     "data": {
      "text/plain": [
       "369"
      ]
     },
     "execution_count": 5,
     "metadata": {},
     "output_type": "execute_result"
    }
   ],
   "source": [
    "len(sources[sources==True])"
   ]
  },
  {
   "cell_type": "markdown",
   "metadata": {
    "slideshow": {
     "slide_type": "skip"
    }
   },
   "source": [
    "`pandas` also enables [`GROUP BY`](http://pandas.pydata.org/pandas-docs/stable/user_guide/groupby.html) operations, where the data are split based on some criterion, a function is then applied to the groups, and the results are then combined back into a data structure."
   ]
  },
  {
   "cell_type": "markdown",
   "metadata": {
    "slideshow": {
     "slide_type": "skip"
    }
   },
   "source": [
    "**Problem 0d**\n",
    "\n",
    "Group the data by their `type` and then report the minimum, median, and maximum redshift of each group. Can you immediately tell anything about these sources based on these results?\n",
    "\n",
    "*Hint* - just execute the cell below."
   ]
  },
  {
   "cell_type": "code",
   "execution_count": 6,
   "metadata": {
    "slideshow": {
     "slide_type": "skip"
    }
   },
   "outputs": [
    {
     "name": "stdout",
     "output_type": "stream",
     "text": [
      "type\n",
      "ext   -0.005469\n",
      "ps    -0.010875\n",
      "Name: z, dtype: float64\n",
      "type\n",
      "ext    0.107352\n",
      "ps     0.000275\n",
      "Name: z, dtype: float64\n",
      "type\n",
      "ext    6.839257\n",
      "ps     6.687022\n",
      "Name: z, dtype: float64\n"
     ]
    }
   ],
   "source": [
    "grouped = sdss_spec.groupby([sdss_spec.type])\n",
    "print(grouped['z'].min())\n",
    "print(grouped['z'].median())\n",
    "print(grouped['z'].max())"
   ]
  },
  {
   "cell_type": "markdown",
   "metadata": {
    "slideshow": {
     "slide_type": "skip"
    }
   },
   "source": [
    "Finally, yesterday we only briefly discussed joining tables, but this is where relational databases really shine.\n",
    "\n",
    "For this example we only have a single table, so we will exclude any examples of a `pandas` join, but there is functionality to [join or merge](https://pandas.pydata.org/pandas-docs/stable/user_guide/merging.html) dataframes in a fashion that is fully analogous to databases."
   ]
  },
  {
   "cell_type": "markdown",
   "metadata": {
    "slideshow": {
     "slide_type": "slide"
    }
   },
   "source": [
    "## Problem 1) The Sins of Our Predecessors"
   ]
  },
  {
   "cell_type": "markdown",
   "metadata": {
    "slideshow": {
     "slide_type": "slide"
    }
   },
   "source": [
    "If at any point in your career you need to access archival infrared data, you will likely need to retrieve that information from the [NASA IPAC InfraRed Science Archive](https://irsa.ipac.caltech.edu). IRSA houses the data for every major NASA IR mission, and several ground-based missions as well (e.g., 2MASS, IRTF). Whether you are sudying brown dwarfs, explosive transients, solar system objects, star-formation, galaxy evolution, Milky Way dust and the resulting extinction of extragalactic observations, or quasars (and much more) the IR plays a critical role."
   ]
  },
  {
   "cell_type": "markdown",
   "metadata": {
    "slideshow": {
     "slide_type": "subslide"
    }
   },
   "source": [
    "Given the importance of IR observations, it stands to reason that IRSA would provide data in a simple to read format for modern machines, such as comma separated values or FITS binary tables...\n",
    "\n",
    "Right?..."
   ]
  },
  {
   "cell_type": "markdown",
   "metadata": {
    "slideshow": {
     "slide_type": "subslide"
    }
   },
   "source": [
    "**Right?...**"
   ]
  },
  {
   "cell_type": "markdown",
   "metadata": {
    "slideshow": {
     "slide_type": "subslide"
    }
   },
   "source": [
    "In fact, IRSA has created their own standard for storing data in a text file. The particulars of this format can be found in `irsa_catalog_WISE_iPTF14jg_search_results.tbl`, a file that is written in the standard IRSA format."
   ]
  },
  {
   "cell_type": "markdown",
   "metadata": {
    "slideshow": {
     "slide_type": "skip"
    }
   },
   "source": [
    "*shameless plug alert!* iPTF14jg is a [really strange star](https://arxiv.org/pdf/1901.10693.pdf) that exhibited a large outburst that we still don't totally understand. The associated data file includes [NEOWISE](https://neowise.ipac.caltech.edu/) observations of the mid-IR evolution of this outburst."
   ]
  },
  {
   "cell_type": "markdown",
   "metadata": {
    "slideshow": {
     "slide_type": "slide"
    }
   },
   "source": [
    "**Problem 1a**\n",
    "\n",
    "Using `pandas` read the data in the IRSA table file into a `DataFrame` object.\n",
    "\n",
    "*Hint 1* - you absolutely should look at the text file to develop a strategy to accomplish this goal.\n",
    "\n",
    "*Hint 2* - you may want to manipulate the text file so that it can more easily be read by `pandas`. **If you do this** be sure to copy the file to another name as you will want to leave the original intact. "
   ]
  },
  {
   "cell_type": "code",
   "execution_count": 7,
   "metadata": {
    "slideshow": {
     "slide_type": "subslide"
    }
   },
   "outputs": [],
   "source": [
    "header_df = pd.read_csv('./irsa_catalog_WISE_iPTF14jg_search_results.tbl', \n",
    "                   comment = '\\\\', delimiter = '|')\n",
    "\n",
    "header = header_df.columns[1:-1]\n",
    "\n",
    "data = pd.read_csv('./irsa_catalog_WISE_iPTF14jg_search_results.tbl', skiprows = 93, \n",
    "                   delim_whitespace = True, names = header)"
   ]
  },
  {
   "cell_type": "code",
   "execution_count": 8,
   "metadata": {},
   "outputs": [
    {
     "data": {
      "text/html": [
       "<div>\n",
       "<style scoped>\n",
       "    .dataframe tbody tr th:only-of-type {\n",
       "        vertical-align: middle;\n",
       "    }\n",
       "\n",
       "    .dataframe tbody tr th {\n",
       "        vertical-align: top;\n",
       "    }\n",
       "\n",
       "    .dataframe thead th {\n",
       "        text-align: right;\n",
       "    }\n",
       "</style>\n",
       "<table border=\"1\" class=\"dataframe\">\n",
       "  <thead>\n",
       "    <tr style=\"text-align: right;\">\n",
       "      <th></th>\n",
       "      <th>ra</th>\n",
       "      <th>dec</th>\n",
       "      <th>sigra</th>\n",
       "      <th>sigdec</th>\n",
       "      <th>sigradec</th>\n",
       "      <th>w1mpro</th>\n",
       "      <th>w1sigmpro</th>\n",
       "      <th>w1snr</th>\n",
       "      <th>w1rchi2</th>\n",
       "      <th>w2mpro</th>\n",
       "      <th>...</th>\n",
       "      <th>w4sigmpro_allwise</th>\n",
       "      <th>tmass_key</th>\n",
       "      <th>j_m_2mass</th>\n",
       "      <th>j_msig_2mass</th>\n",
       "      <th>h_m_2mass</th>\n",
       "      <th>h_msig_2mass</th>\n",
       "      <th>k_m_2mass</th>\n",
       "      <th>k_msig_2mass</th>\n",
       "      <th>dist</th>\n",
       "      <th>angle</th>\n",
       "    </tr>\n",
       "  </thead>\n",
       "  <tbody>\n",
       "    <tr>\n",
       "      <th>0</th>\n",
       "      <td>40.125566</td>\n",
       "      <td>60.879306</td>\n",
       "      <td>0.0947</td>\n",
       "      <td>0.0936</td>\n",
       "      <td>-0.0337</td>\n",
       "      <td>13.251</td>\n",
       "      <td>0.038</td>\n",
       "      <td>28.8</td>\n",
       "      <td>0.8767</td>\n",
       "      <td>12.735</td>\n",
       "      <td>...</td>\n",
       "      <td>NaN</td>\n",
       "      <td>NaN</td>\n",
       "      <td>NaN</td>\n",
       "      <td>NaN</td>\n",
       "      <td>NaN</td>\n",
       "      <td>NaN</td>\n",
       "      <td>NaN</td>\n",
       "      <td>NaN</td>\n",
       "      <td>0.028668</td>\n",
       "      <td>242.330013</td>\n",
       "    </tr>\n",
       "    <tr>\n",
       "      <th>1</th>\n",
       "      <td>40.125574</td>\n",
       "      <td>60.879297</td>\n",
       "      <td>0.0925</td>\n",
       "      <td>0.0874</td>\n",
       "      <td>-0.0397</td>\n",
       "      <td>13.241</td>\n",
       "      <td>0.036</td>\n",
       "      <td>30.0</td>\n",
       "      <td>1.2610</td>\n",
       "      <td>12.629</td>\n",
       "      <td>...</td>\n",
       "      <td>NaN</td>\n",
       "      <td>NaN</td>\n",
       "      <td>NaN</td>\n",
       "      <td>NaN</td>\n",
       "      <td>NaN</td>\n",
       "      <td>NaN</td>\n",
       "      <td>NaN</td>\n",
       "      <td>NaN</td>\n",
       "      <td>0.048011</td>\n",
       "      <td>192.659014</td>\n",
       "    </tr>\n",
       "    <tr>\n",
       "      <th>2</th>\n",
       "      <td>40.125623</td>\n",
       "      <td>60.879318</td>\n",
       "      <td>0.0808</td>\n",
       "      <td>0.0794</td>\n",
       "      <td>0.0098</td>\n",
       "      <td>12.753</td>\n",
       "      <td>0.039</td>\n",
       "      <td>27.8</td>\n",
       "      <td>0.7640</td>\n",
       "      <td>11.901</td>\n",
       "      <td>...</td>\n",
       "      <td>NaN</td>\n",
       "      <td>NaN</td>\n",
       "      <td>NaN</td>\n",
       "      <td>NaN</td>\n",
       "      <td>NaN</td>\n",
       "      <td>NaN</td>\n",
       "      <td>NaN</td>\n",
       "      <td>NaN</td>\n",
       "      <td>0.079498</td>\n",
       "      <td>69.867298</td>\n",
       "    </tr>\n",
       "    <tr>\n",
       "      <th>3</th>\n",
       "      <td>40.125553</td>\n",
       "      <td>60.879286</td>\n",
       "      <td>0.0663</td>\n",
       "      <td>0.0608</td>\n",
       "      <td>-0.0156</td>\n",
       "      <td>12.774</td>\n",
       "      <td>0.028</td>\n",
       "      <td>38.6</td>\n",
       "      <td>1.3610</td>\n",
       "      <td>11.935</td>\n",
       "      <td>...</td>\n",
       "      <td>NaN</td>\n",
       "      <td>NaN</td>\n",
       "      <td>NaN</td>\n",
       "      <td>NaN</td>\n",
       "      <td>NaN</td>\n",
       "      <td>NaN</td>\n",
       "      <td>NaN</td>\n",
       "      <td>NaN</td>\n",
       "      <td>0.097389</td>\n",
       "      <td>209.287467</td>\n",
       "    </tr>\n",
       "    <tr>\n",
       "      <th>4</th>\n",
       "      <td>40.125572</td>\n",
       "      <td>60.879280</td>\n",
       "      <td>0.0645</td>\n",
       "      <td>0.0599</td>\n",
       "      <td>-0.0223</td>\n",
       "      <td>12.840</td>\n",
       "      <td>0.028</td>\n",
       "      <td>38.7</td>\n",
       "      <td>1.5550</td>\n",
       "      <td>11.897</td>\n",
       "      <td>...</td>\n",
       "      <td>NaN</td>\n",
       "      <td>NaN</td>\n",
       "      <td>NaN</td>\n",
       "      <td>NaN</td>\n",
       "      <td>NaN</td>\n",
       "      <td>NaN</td>\n",
       "      <td>NaN</td>\n",
       "      <td>NaN</td>\n",
       "      <td>0.107707</td>\n",
       "      <td>187.006050</td>\n",
       "    </tr>\n",
       "    <tr>\n",
       "      <th>...</th>\n",
       "      <td>...</td>\n",
       "      <td>...</td>\n",
       "      <td>...</td>\n",
       "      <td>...</td>\n",
       "      <td>...</td>\n",
       "      <td>...</td>\n",
       "      <td>...</td>\n",
       "      <td>...</td>\n",
       "      <td>...</td>\n",
       "      <td>...</td>\n",
       "      <td>...</td>\n",
       "      <td>...</td>\n",
       "      <td>...</td>\n",
       "      <td>...</td>\n",
       "      <td>...</td>\n",
       "      <td>...</td>\n",
       "      <td>...</td>\n",
       "      <td>...</td>\n",
       "      <td>...</td>\n",
       "      <td>...</td>\n",
       "      <td>...</td>\n",
       "    </tr>\n",
       "    <tr>\n",
       "      <th>132</th>\n",
       "      <td>40.125277</td>\n",
       "      <td>60.879341</td>\n",
       "      <td>0.1150</td>\n",
       "      <td>0.1078</td>\n",
       "      <td>-0.0397</td>\n",
       "      <td>13.511</td>\n",
       "      <td>0.041</td>\n",
       "      <td>26.2</td>\n",
       "      <td>1.2990</td>\n",
       "      <td>12.668</td>\n",
       "      <td>...</td>\n",
       "      <td>NaN</td>\n",
       "      <td>NaN</td>\n",
       "      <td>NaN</td>\n",
       "      <td>NaN</td>\n",
       "      <td>NaN</td>\n",
       "      <td>NaN</td>\n",
       "      <td>NaN</td>\n",
       "      <td>NaN</td>\n",
       "      <td>0.542346</td>\n",
       "      <td>281.913746</td>\n",
       "    </tr>\n",
       "    <tr>\n",
       "      <th>133</th>\n",
       "      <td>40.125317</td>\n",
       "      <td>60.879219</td>\n",
       "      <td>0.1035</td>\n",
       "      <td>0.1091</td>\n",
       "      <td>-0.0272</td>\n",
       "      <td>13.328</td>\n",
       "      <td>0.038</td>\n",
       "      <td>28.6</td>\n",
       "      <td>1.8680</td>\n",
       "      <td>12.893</td>\n",
       "      <td>...</td>\n",
       "      <td>NaN</td>\n",
       "      <td>NaN</td>\n",
       "      <td>NaN</td>\n",
       "      <td>NaN</td>\n",
       "      <td>NaN</td>\n",
       "      <td>NaN</td>\n",
       "      <td>NaN</td>\n",
       "      <td>NaN</td>\n",
       "      <td>0.565899</td>\n",
       "      <td>234.448038</td>\n",
       "    </tr>\n",
       "    <tr>\n",
       "      <th>134</th>\n",
       "      <td>40.125625</td>\n",
       "      <td>60.879152</td>\n",
       "      <td>0.1463</td>\n",
       "      <td>0.1293</td>\n",
       "      <td>-0.0575</td>\n",
       "      <td>13.734</td>\n",
       "      <td>0.048</td>\n",
       "      <td>22.9</td>\n",
       "      <td>0.9954</td>\n",
       "      <td>13.257</td>\n",
       "      <td>...</td>\n",
       "      <td>NaN</td>\n",
       "      <td>NaN</td>\n",
       "      <td>NaN</td>\n",
       "      <td>NaN</td>\n",
       "      <td>NaN</td>\n",
       "      <td>NaN</td>\n",
       "      <td>NaN</td>\n",
       "      <td>NaN</td>\n",
       "      <td>0.574875</td>\n",
       "      <td>172.170603</td>\n",
       "    </tr>\n",
       "    <tr>\n",
       "      <th>135</th>\n",
       "      <td>40.125279</td>\n",
       "      <td>60.879235</td>\n",
       "      <td>0.1174</td>\n",
       "      <td>0.1057</td>\n",
       "      <td>-0.0497</td>\n",
       "      <td>13.360</td>\n",
       "      <td>0.049</td>\n",
       "      <td>22.3</td>\n",
       "      <td>0.7856</td>\n",
       "      <td>12.729</td>\n",
       "      <td>...</td>\n",
       "      <td>NaN</td>\n",
       "      <td>NaN</td>\n",
       "      <td>NaN</td>\n",
       "      <td>NaN</td>\n",
       "      <td>NaN</td>\n",
       "      <td>NaN</td>\n",
       "      <td>NaN</td>\n",
       "      <td>NaN</td>\n",
       "      <td>0.592270</td>\n",
       "      <td>242.957045</td>\n",
       "    </tr>\n",
       "    <tr>\n",
       "      <th>136</th>\n",
       "      <td>40.126044</td>\n",
       "      <td>60.879185</td>\n",
       "      <td>0.1911</td>\n",
       "      <td>0.1661</td>\n",
       "      <td>-0.0549</td>\n",
       "      <td>14.036</td>\n",
       "      <td>0.070</td>\n",
       "      <td>15.4</td>\n",
       "      <td>4.3690</td>\n",
       "      <td>13.472</td>\n",
       "      <td>...</td>\n",
       "      <td>NaN</td>\n",
       "      <td>NaN</td>\n",
       "      <td>NaN</td>\n",
       "      <td>NaN</td>\n",
       "      <td>NaN</td>\n",
       "      <td>NaN</td>\n",
       "      <td>NaN</td>\n",
       "      <td>NaN</td>\n",
       "      <td>0.929713</td>\n",
       "      <td>119.074968</td>\n",
       "    </tr>\n",
       "  </tbody>\n",
       "</table>\n",
       "<p>137 rows × 37 columns</p>\n",
       "</div>"
      ],
      "text/plain": [
       "     ra          dec         sigra   sigdec  sigradec  w1mpro  w1sigmpro  \\\n",
       "0     40.125566   60.879306  0.0947  0.0936   -0.0337  13.251      0.038   \n",
       "1     40.125574   60.879297  0.0925  0.0874   -0.0397  13.241      0.036   \n",
       "2     40.125623   60.879318  0.0808  0.0794    0.0098  12.753      0.039   \n",
       "3     40.125553   60.879286  0.0663  0.0608   -0.0156  12.774      0.028   \n",
       "4     40.125572   60.879280  0.0645  0.0599   -0.0223  12.840      0.028   \n",
       "..          ...         ...     ...     ...       ...     ...        ...   \n",
       "132   40.125277   60.879341  0.1150  0.1078   -0.0397  13.511      0.041   \n",
       "133   40.125317   60.879219  0.1035  0.1091   -0.0272  13.328      0.038   \n",
       "134   40.125625   60.879152  0.1463  0.1293   -0.0575  13.734      0.048   \n",
       "135   40.125279   60.879235  0.1174  0.1057   -0.0497  13.360      0.049   \n",
       "136   40.126044   60.879185  0.1911  0.1661   -0.0549  14.036      0.070   \n",
       "\n",
       "     w1snr   w1rchi2    w2mpro  ...  w4sigmpro_allwise  tmass_key  j_m_2mass  \\\n",
       "0      28.8     0.8767  12.735  ...                NaN        NaN        NaN   \n",
       "1      30.0     1.2610  12.629  ...                NaN        NaN        NaN   \n",
       "2      27.8     0.7640  11.901  ...                NaN        NaN        NaN   \n",
       "3      38.6     1.3610  11.935  ...                NaN        NaN        NaN   \n",
       "4      38.7     1.5550  11.897  ...                NaN        NaN        NaN   \n",
       "..      ...        ...     ...  ...                ...        ...        ...   \n",
       "132    26.2     1.2990  12.668  ...                NaN        NaN        NaN   \n",
       "133    28.6     1.8680  12.893  ...                NaN        NaN        NaN   \n",
       "134    22.9     0.9954  13.257  ...                NaN        NaN        NaN   \n",
       "135    22.3     0.7856  12.729  ...                NaN        NaN        NaN   \n",
       "136    15.4     4.3690  13.472  ...                NaN        NaN        NaN   \n",
       "\n",
       "     j_msig_2mass  h_m_2mass h_msig_2mass k_m_2mass  k_msig_2mass  dist      \\\n",
       "0             NaN        NaN          NaN       NaN           NaN  0.028668   \n",
       "1             NaN        NaN          NaN       NaN           NaN  0.048011   \n",
       "2             NaN        NaN          NaN       NaN           NaN  0.079498   \n",
       "3             NaN        NaN          NaN       NaN           NaN  0.097389   \n",
       "4             NaN        NaN          NaN       NaN           NaN  0.107707   \n",
       "..            ...        ...          ...       ...           ...       ...   \n",
       "132           NaN        NaN          NaN       NaN           NaN  0.542346   \n",
       "133           NaN        NaN          NaN       NaN           NaN  0.565899   \n",
       "134           NaN        NaN          NaN       NaN           NaN  0.574875   \n",
       "135           NaN        NaN          NaN       NaN           NaN  0.592270   \n",
       "136           NaN        NaN          NaN       NaN           NaN  0.929713   \n",
       "\n",
       "     angle       \n",
       "0    242.330013  \n",
       "1    192.659014  \n",
       "2     69.867298  \n",
       "3    209.287467  \n",
       "4    187.006050  \n",
       "..          ...  \n",
       "132  281.913746  \n",
       "133  234.448038  \n",
       "134  172.170603  \n",
       "135  242.957045  \n",
       "136  119.074968  \n",
       "\n",
       "[137 rows x 37 columns]"
      ]
     },
     "execution_count": 8,
     "metadata": {},
     "output_type": "execute_result"
    }
   ],
   "source": [
    "data"
   ]
  },
  {
   "cell_type": "markdown",
   "metadata": {
    "slideshow": {
     "slide_type": "subslide"
    }
   },
   "source": [
    "That pure python solution is a bit annoying as it requires a for loop with a break, and specific knowledge about how IRSA tables handler data headers (hence the use of `linenum + 4` for `skiprows`). Alternatively, one could  manipulate the data file to read in the data."
   ]
  },
  {
   "cell_type": "code",
   "execution_count": 9,
   "metadata": {
    "slideshow": {
     "slide_type": "subslide"
    }
   },
   "outputs": [],
   "source": [
    "# 2nd solution - YOU DON'T NEED TO DO THIS"
   ]
  },
  {
   "cell_type": "markdown",
   "metadata": {
    "slideshow": {
     "slide_type": "subslide"
    }
   },
   "source": [
    "That truly wasn't all that better - as it required a bunch of clicks/text editor edits. (There are programs such as `sed` and `awk` that could be used to execute all the necessary edits from the command line, but that too is cumbersome and somewhat like the initial all `python` solution). \n",
    "\n",
    "If astronomers are creating data in a \"standard\" format, then it ought to be easy for other astronomers to access that data."
   ]
  },
  {
   "cell_type": "markdown",
   "metadata": {
    "slideshow": {
     "slide_type": "subslide"
    }
   },
   "source": [
    "Fortunately, in this particular case, there is an easy solution - [`astropy Tables`](http://docs.astropy.org/en/stable/table/). \n",
    "\n",
    "IRSA tables are so commonly used throughout the community, that the folks at `astropy` have created a convenience method for all of us to read in tables created in that particular (unusual?) format."
   ]
  },
  {
   "cell_type": "markdown",
   "metadata": {
    "slideshow": {
     "slide_type": "slide"
    }
   },
   "source": [
    "**Problem 1b**\n",
    "\n",
    "Use [`Table.read()`](http://docs.astropy.org/en/stable/api/astropy.table.Table.html#astropy.table.Table.read) to read in `irsa_catalog_WISE_iPTF14jg_search_results.tbl` to an `astropy Table` object."
   ]
  },
  {
   "cell_type": "code",
   "execution_count": 10,
   "metadata": {
    "slideshow": {
     "slide_type": "subslide"
    }
   },
   "outputs": [
    {
     "data": {
      "text/html": [
       "<div><i>Table length=137</i>\n",
       "<table id=\"table140215505836736\" class=\"table-striped table-bordered table-condensed\">\n",
       "<thead><tr><th>ra</th><th>dec</th><th>sigra</th><th>sigdec</th><th>sigradec</th><th>w1mpro</th><th>w1sigmpro</th><th>w1snr</th><th>w1rchi2</th><th>w2mpro</th><th>w2sigmpro</th><th>w2snr</th><th>w2rchi2</th><th>nb</th><th>na</th><th>cc_flags</th><th>ph_qual</th><th>qual_frame</th><th>mjd</th><th>allwise_cntr</th><th>w1mpro_allwise</th><th>w1sigmpro_allwise</th><th>w2mpro_allwise</th><th>w2sigmpro_allwise</th><th>w3mpro_allwise</th><th>w3sigmpro_allwise</th><th>w4mpro_allwise</th><th>w4sigmpro_allwise</th><th>tmass_key</th><th>j_m_2mass</th><th>j_msig_2mass</th><th>h_m_2mass</th><th>h_msig_2mass</th><th>k_m_2mass</th><th>k_msig_2mass</th><th>dist</th><th>angle</th></tr></thead>\n",
       "<thead><tr><th>deg</th><th>deg</th><th>arcsec</th><th>arcsec</th><th>arcsec</th><th>mag</th><th>mag</th><th></th><th></th><th>mag</th><th>mag</th><th></th><th></th><th></th><th></th><th></th><th></th><th></th><th>mjdate</th><th></th><th>mag</th><th>mag</th><th>mag</th><th>mag</th><th>mag</th><th>mag</th><th>mag</th><th>mag</th><th></th><th>mag</th><th>mag</th><th>mag</th><th>mag</th><th>mag</th><th>mag</th><th>arcsec</th><th>deg</th></tr></thead>\n",
       "<thead><tr><th>float64</th><th>float64</th><th>float64</th><th>float64</th><th>float64</th><th>float64</th><th>float64</th><th>float64</th><th>float64</th><th>float64</th><th>float64</th><th>float64</th><th>float64</th><th>int64</th><th>int64</th><th>str4</th><th>str2</th><th>int64</th><th>float64</th><th>int64</th><th>float64</th><th>float64</th><th>float64</th><th>float64</th><th>float64</th><th>float64</th><th>float64</th><th>float64</th><th>int64</th><th>float64</th><th>float64</th><th>float64</th><th>float64</th><th>float64</th><th>float64</th><th>float64</th><th>float64</th></tr></thead>\n",
       "<tr><td>40.1255655</td><td>60.8793063</td><td>0.0947</td><td>0.0936</td><td>-0.0337</td><td>13.251</td><td>0.038</td><td>28.8</td><td>0.8767</td><td>12.735</td><td>0.058</td><td>18.6</td><td>0.7135</td><td>1</td><td>0</td><td>0000</td><td>AA</td><td>10</td><td>57621.23501414</td><td>--</td><td>--</td><td>--</td><td>--</td><td>--</td><td>--</td><td>--</td><td>--</td><td>--</td><td>--</td><td>--</td><td>--</td><td>--</td><td>--</td><td>--</td><td>--</td><td>0.028668</td><td>242.330013</td></tr>\n",
       "<tr><td>40.125574</td><td>60.879297</td><td>0.0925</td><td>0.0874</td><td>-0.0397</td><td>13.241</td><td>0.036</td><td>30.0</td><td>1.261</td><td>12.629</td><td>0.051</td><td>21.2</td><td>1.121</td><td>1</td><td>0</td><td>0000</td><td>AA</td><td>5</td><td>57621.62810604</td><td>--</td><td>--</td><td>--</td><td>--</td><td>--</td><td>--</td><td>--</td><td>--</td><td>--</td><td>--</td><td>--</td><td>--</td><td>--</td><td>--</td><td>--</td><td>--</td><td>0.048011</td><td>192.659014</td></tr>\n",
       "<tr><td>40.1256226</td><td>60.8793176</td><td>0.0808</td><td>0.0794</td><td>0.0098</td><td>12.753</td><td>0.039</td><td>27.8</td><td>0.764</td><td>11.901</td><td>0.034</td><td>32.0</td><td>1.059</td><td>1</td><td>0</td><td>0000</td><td>AA</td><td>10</td><td>57063.79830186</td><td>--</td><td>--</td><td>--</td><td>--</td><td>--</td><td>--</td><td>--</td><td>--</td><td>--</td><td>--</td><td>--</td><td>--</td><td>--</td><td>--</td><td>--</td><td>--</td><td>0.079498</td><td>69.867298</td></tr>\n",
       "<tr><td>40.1255528</td><td>60.8792864</td><td>0.0663</td><td>0.0608</td><td>-0.0156</td><td>12.774</td><td>0.028</td><td>38.6</td><td>1.361</td><td>11.935</td><td>0.037</td><td>29.3</td><td>0.7133</td><td>1</td><td>0</td><td>0000</td><td>AA</td><td>10</td><td>57256.77485551</td><td>--</td><td>--</td><td>--</td><td>--</td><td>--</td><td>--</td><td>--</td><td>--</td><td>--</td><td>--</td><td>--</td><td>--</td><td>--</td><td>--</td><td>--</td><td>--</td><td>0.097389</td><td>209.287467</td></tr>\n",
       "<tr><td>40.1255725</td><td>60.8792803</td><td>0.0645</td><td>0.0599</td><td>-0.0223</td><td>12.84</td><td>0.028</td><td>38.7</td><td>1.555</td><td>11.897</td><td>0.031</td><td>35.1</td><td>1.045</td><td>1</td><td>0</td><td>0000</td><td>AA</td><td>5</td><td>57257.10275142</td><td>--</td><td>--</td><td>--</td><td>--</td><td>--</td><td>--</td><td>--</td><td>--</td><td>--</td><td>--</td><td>--</td><td>--</td><td>--</td><td>--</td><td>--</td><td>--</td><td>0.107707</td><td>187.00605</td></tr>\n",
       "<tr><td>40.1255736</td><td>60.8792799</td><td>0.1164</td><td>0.1059</td><td>-0.039</td><td>13.587</td><td>0.041</td><td>26.4</td><td>1.647</td><td>13.145</td><td>0.076</td><td>14.3</td><td>1.03</td><td>1</td><td>0</td><td>0000</td><td>AA</td><td>5</td><td>57987.97028435</td><td>--</td><td>--</td><td>--</td><td>--</td><td>--</td><td>--</td><td>--</td><td>--</td><td>--</td><td>--</td><td>--</td><td>--</td><td>--</td><td>--</td><td>--</td><td>--</td><td>0.108928</td><td>185.907602</td></tr>\n",
       "<tr><td>...</td><td>...</td><td>...</td><td>...</td><td>...</td><td>...</td><td>...</td><td>...</td><td>...</td><td>...</td><td>...</td><td>...</td><td>...</td><td>...</td><td>...</td><td>...</td><td>...</td><td>...</td><td>...</td><td>...</td><td>...</td><td>...</td><td>...</td><td>...</td><td>...</td><td>...</td><td>...</td><td>...</td><td>...</td><td>...</td><td>...</td><td>...</td><td>...</td><td>...</td><td>...</td><td>...</td><td>...</td></tr>\n",
       "<tr><td>40.1254195</td><td>60.879191</td><td>0.0736</td><td>0.0604</td><td>-0.0255</td><td>12.777</td><td>0.027</td><td>39.9</td><td>0.8821</td><td>11.964</td><td>0.033</td><td>33.1</td><td>0.8097</td><td>1</td><td>0</td><td>0000</td><td>AA</td><td>10</td><td>57063.99542123</td><td>--</td><td>--</td><td>--</td><td>--</td><td>--</td><td>--</td><td>--</td><td>--</td><td>--</td><td>--</td><td>--</td><td>--</td><td>--</td><td>--</td><td>--</td><td>--</td><td>0.512441</td><td>213.279623</td></tr>\n",
       "<tr><td>40.1253594</td><td>60.8792163</td><td>0.0631</td><td>0.0675</td><td>-0.0093</td><td>12.791</td><td>0.03</td><td>36.6</td><td>1.13</td><td>11.972</td><td>0.039</td><td>27.5</td><td>0.6409</td><td>1</td><td>0</td><td>0000</td><td>AA</td><td>10</td><td>57422.73853115</td><td>--</td><td>--</td><td>--</td><td>--</td><td>--</td><td>--</td><td>--</td><td>--</td><td>--</td><td>--</td><td>--</td><td>--</td><td>--</td><td>--</td><td>--</td><td>--</td><td>0.512985</td><td>228.885562</td></tr>\n",
       "<tr><td>40.1252771</td><td>60.8793411</td><td>0.115</td><td>0.1078</td><td>-0.0397</td><td>13.511</td><td>0.041</td><td>26.2</td><td>1.299</td><td>12.668</td><td>0.061</td><td>17.8</td><td>0.6642</td><td>1</td><td>0</td><td>0000</td><td>AA</td><td>5</td><td>57790.01894558</td><td>--</td><td>--</td><td>--</td><td>--</td><td>--</td><td>--</td><td>--</td><td>--</td><td>--</td><td>--</td><td>--</td><td>--</td><td>--</td><td>--</td><td>--</td><td>--</td><td>0.542346</td><td>281.913746</td></tr>\n",
       "<tr><td>40.1253172</td><td>60.8792186</td><td>0.1035</td><td>0.1091</td><td>-0.0272</td><td>13.328</td><td>0.038</td><td>28.6</td><td>1.868</td><td>12.893</td><td>0.091</td><td>11.9</td><td>1.075</td><td>1</td><td>0</td><td>0000</td><td>AA</td><td>5</td><td>57790.21542903</td><td>--</td><td>--</td><td>--</td><td>--</td><td>--</td><td>--</td><td>--</td><td>--</td><td>--</td><td>--</td><td>--</td><td>--</td><td>--</td><td>--</td><td>--</td><td>--</td><td>0.565899</td><td>234.448038</td></tr>\n",
       "<tr><td>40.1256247</td><td>60.8791518</td><td>0.1463</td><td>0.1293</td><td>-0.0575</td><td>13.734</td><td>0.048</td><td>22.9</td><td>0.9954</td><td>13.257</td><td>0.122</td><td>8.9</td><td>0.5377</td><td>1</td><td>0</td><td>0000</td><td>AB</td><td>5</td><td>57988.36312131</td><td>--</td><td>--</td><td>--</td><td>--</td><td>--</td><td>--</td><td>--</td><td>--</td><td>--</td><td>--</td><td>--</td><td>--</td><td>--</td><td>--</td><td>--</td><td>--</td><td>0.574875</td><td>172.170603</td></tr>\n",
       "<tr><td>40.1252789</td><td>60.8792352</td><td>0.1174</td><td>0.1057</td><td>-0.0497</td><td>13.36</td><td>0.049</td><td>22.3</td><td>0.7856</td><td>12.729</td><td>0.06</td><td>18.1</td><td>0.7291</td><td>1</td><td>0</td><td>0000</td><td>AA</td><td>5</td><td>57787.33375567</td><td>--</td><td>--</td><td>--</td><td>--</td><td>--</td><td>--</td><td>--</td><td>--</td><td>--</td><td>--</td><td>--</td><td>--</td><td>--</td><td>--</td><td>--</td><td>--</td><td>0.59227</td><td>242.957045</td></tr>\n",
       "<tr><td>40.1260438</td><td>60.8791845</td><td>0.1911</td><td>0.1661</td><td>-0.0549</td><td>14.036</td><td>0.07</td><td>15.4</td><td>4.369</td><td>13.472</td><td>0.094</td><td>11.6</td><td>1.701</td><td>1</td><td>0</td><td>0000</td><td>AA</td><td>0</td><td>57988.49402461</td><td>--</td><td>--</td><td>--</td><td>--</td><td>--</td><td>--</td><td>--</td><td>--</td><td>--</td><td>--</td><td>--</td><td>--</td><td>--</td><td>--</td><td>--</td><td>--</td><td>0.929713</td><td>119.074968</td></tr>\n",
       "</table></div>"
      ],
      "text/plain": [
       "<Table length=137>\n",
       "    ra        dec      sigra   sigdec ... k_msig_2mass   dist     angle   \n",
       "   deg        deg      arcsec  arcsec ...     mag       arcsec     deg    \n",
       " float64    float64   float64 float64 ...   float64    float64   float64  \n",
       "---------- ---------- ------- ------- ... ------------ -------- ----------\n",
       "40.1255655 60.8793063  0.0947  0.0936 ...           -- 0.028668 242.330013\n",
       " 40.125574  60.879297  0.0925  0.0874 ...           -- 0.048011 192.659014\n",
       "40.1256226 60.8793176  0.0808  0.0794 ...           -- 0.079498  69.867298\n",
       "40.1255528 60.8792864  0.0663  0.0608 ...           -- 0.097389 209.287467\n",
       "40.1255725 60.8792803  0.0645  0.0599 ...           -- 0.107707  187.00605\n",
       "40.1255736 60.8792799  0.1164  0.1059 ...           -- 0.108928 185.907602\n",
       "       ...        ...     ...     ... ...          ...      ...        ...\n",
       "40.1254195  60.879191  0.0736  0.0604 ...           -- 0.512441 213.279623\n",
       "40.1253594 60.8792163  0.0631  0.0675 ...           -- 0.512985 228.885562\n",
       "40.1252771 60.8793411   0.115  0.1078 ...           -- 0.542346 281.913746\n",
       "40.1253172 60.8792186  0.1035  0.1091 ...           -- 0.565899 234.448038\n",
       "40.1256247 60.8791518  0.1463  0.1293 ...           -- 0.574875 172.170603\n",
       "40.1252789 60.8792352  0.1174  0.1057 ...           --  0.59227 242.957045\n",
       "40.1260438 60.8791845  0.1911  0.1661 ...           -- 0.929713 119.074968"
      ]
     },
     "execution_count": 10,
     "metadata": {},
     "output_type": "execute_result"
    }
   ],
   "source": [
    "from astropy.table import Table\n",
    "\n",
    "Table.read('./irsa_catalog_WISE_iPTF14jg_search_results.tbl', format = 'ascii')"
   ]
  },
  {
   "cell_type": "markdown",
   "metadata": {
    "slideshow": {
     "slide_type": "subslide"
    }
   },
   "source": [
    "A benefit to using this method, as opposed to `pandas`, is that data typing and data units are naturally read from the IRSA table and included with the associated columns. Thus, if you are uncertain if some brightness measurement is in magnitudes or Janskys, the `astropy Table` can report on that information.\n",
    "\n",
    "Unfortunately, `astropy` does *not* know about every strange formating decision that every astronomer has made at some point in their lives (as we are about to see...) "
   ]
  },
  {
   "cell_type": "markdown",
   "metadata": {
    "slideshow": {
     "slide_type": "slide"
    }
   },
   "source": [
    "## Problem 2) The Sins of Our Journals"
   ]
  },
  {
   "cell_type": "markdown",
   "metadata": {
    "slideshow": {
     "slide_type": "slide"
    }
   },
   "source": [
    "Unlike IRSA/IPAC, which uses a weird but nevertheless consistent format for data tables, data retrieved from Journal articles essentially follows no rules. In principle, tables in Journal articles are supposed to be provided in a machine readable format. In practice, as we are about to see, this is far from the case.\n",
    "\n",
    "For this particular wrangling case study we will focus on supernova light curves, a simple thing to report: time, filter, brightness, uncertainty on that brightness, that the community has nevertheless managed to mangle into some truly wild and difficult to parse forms."
   ]
  },
  {
   "cell_type": "markdown",
   "metadata": {
    "slideshow": {
     "slide_type": "skip"
    }
   },
   "source": [
    "(Sorry for the heavy emphasis on time-domain examples - I'm pulling straight from my own life today, but the issues described here are not perfectly addressed by any subfield within the astro umbrella)"
   ]
  },
  {
   "cell_type": "markdown",
   "metadata": {
    "slideshow": {
     "slide_type": "slide"
    }
   },
   "source": [
    "Here is the LaTeX-formatted version of Table 4 from [Miller et al. 2011](https://iopscience.iop.org/article/10.1088/0004-637X/730/2/80/meta):\n",
    "\n",
    "<img style=\"display: block; margin-left: auto; margin-right: auto\" src=\"images/Miller11_tbl4.png\" width=\"350\" align=\"middle\">"
   ]
  },
  {
   "cell_type": "markdown",
   "metadata": {
    "slideshow": {
     "slide_type": "subslide"
    }
   },
   "source": [
    "That is a very simple table to interpret, no?\n",
    "\n",
    "Have a look at the [\"machine-readible\" file](https://northwestern.box.com/s/o9nxkr3o79xunfo2o7r8nnas2sskncrc) that ApJ provides for readers that might want to evaluate these photometric measurements."
   ]
  },
  {
   "cell_type": "markdown",
   "metadata": {
    "slideshow": {
     "slide_type": "slide"
    }
   },
   "source": [
    "**Problem 2a** \n",
    "\n",
    "Read the ApJ version of Table 4 from from Miller et al. 2011 – called `Miller_et_al2011_table4.txt` – into either a `pandas DataFrame` or an `astropy Table`."
   ]
  },
  {
   "cell_type": "code",
   "execution_count": 11,
   "metadata": {
    "scrolled": false,
    "slideshow": {
     "slide_type": "subslide"
    }
   },
   "outputs": [],
   "source": [
    "miller = pd.read_table('./miller-modified.txt', comment = '#', delim_whitespace = True)"
   ]
  },
  {
   "cell_type": "code",
   "execution_count": 12,
   "metadata": {},
   "outputs": [
    {
     "data": {
      "text/html": [
       "<div>\n",
       "<style scoped>\n",
       "    .dataframe tbody tr th:only-of-type {\n",
       "        vertical-align: middle;\n",
       "    }\n",
       "\n",
       "    .dataframe tbody tr th {\n",
       "        vertical-align: top;\n",
       "    }\n",
       "\n",
       "    .dataframe thead th {\n",
       "        text-align: right;\n",
       "    }\n",
       "</style>\n",
       "<table border=\"1\" class=\"dataframe\">\n",
       "  <thead>\n",
       "    <tr style=\"text-align: right;\">\n",
       "      <th></th>\n",
       "      <th>t_mid^a</th>\n",
       "      <th>J</th>\n",
       "      <th>mag</th>\n",
       "      <th>+/-</th>\n",
       "      <th>unc</th>\n",
       "      <th>H</th>\n",
       "      <th>mag.1</th>\n",
       "      <th>+/-.1</th>\n",
       "      <th>unc.1</th>\n",
       "      <th>K_s</th>\n",
       "      <th>mag.2</th>\n",
       "      <th>+/-.2</th>\n",
       "      <th>unc.2</th>\n",
       "    </tr>\n",
       "  </thead>\n",
       "  <tbody>\n",
       "    <tr>\n",
       "      <th>0</th>\n",
       "      <td>55466.137</td>\n",
       "      <td>10.04</td>\n",
       "      <td>+or-</td>\n",
       "      <td>0.03</td>\n",
       "      <td>9.14</td>\n",
       "      <td>+or-</td>\n",
       "      <td>0.03</td>\n",
       "      <td>8.65</td>\n",
       "      <td>+or-</td>\n",
       "      <td>0.03</td>\n",
       "      <td>NaN</td>\n",
       "      <td>NaN</td>\n",
       "      <td>NaN</td>\n",
       "    </tr>\n",
       "    <tr>\n",
       "      <th>1</th>\n",
       "      <td>55468.145</td>\n",
       "      <td>9.99</td>\n",
       "      <td>+or-</td>\n",
       "      <td>0.03</td>\n",
       "      <td>9.06</td>\n",
       "      <td>+or-</td>\n",
       "      <td>0.04</td>\n",
       "      <td>8.64</td>\n",
       "      <td>+or-</td>\n",
       "      <td>0.04</td>\n",
       "      <td>NaN</td>\n",
       "      <td>NaN</td>\n",
       "      <td>NaN</td>\n",
       "    </tr>\n",
       "    <tr>\n",
       "      <th>2</th>\n",
       "      <td>55469.148</td>\n",
       "      <td>10.04</td>\n",
       "      <td>+or-</td>\n",
       "      <td>0.03</td>\n",
       "      <td>9.07</td>\n",
       "      <td>+or-</td>\n",
       "      <td>0.03</td>\n",
       "      <td>8.70</td>\n",
       "      <td>+or-</td>\n",
       "      <td>0.03</td>\n",
       "      <td>NaN</td>\n",
       "      <td>NaN</td>\n",
       "      <td>NaN</td>\n",
       "    </tr>\n",
       "    <tr>\n",
       "      <th>3</th>\n",
       "      <td>55479.109</td>\n",
       "      <td>10.11</td>\n",
       "      <td>+or-</td>\n",
       "      <td>0.03</td>\n",
       "      <td>9.11</td>\n",
       "      <td>+or-</td>\n",
       "      <td>0.03</td>\n",
       "      <td>8.63</td>\n",
       "      <td>+or-</td>\n",
       "      <td>0.04</td>\n",
       "      <td>NaN</td>\n",
       "      <td>NaN</td>\n",
       "      <td>NaN</td>\n",
       "    </tr>\n",
       "    <tr>\n",
       "      <th>4</th>\n",
       "      <td>55504.164</td>\n",
       "      <td>10.20</td>\n",
       "      <td>+or-</td>\n",
       "      <td>0.03</td>\n",
       "      <td>9.24</td>\n",
       "      <td>+or-</td>\n",
       "      <td>0.03</td>\n",
       "      <td>8.74</td>\n",
       "      <td>+or-</td>\n",
       "      <td>0.03</td>\n",
       "      <td>NaN</td>\n",
       "      <td>NaN</td>\n",
       "      <td>NaN</td>\n",
       "    </tr>\n",
       "    <tr>\n",
       "      <th>5</th>\n",
       "      <td>55513.195</td>\n",
       "      <td>10.29</td>\n",
       "      <td>+or-</td>\n",
       "      <td>0.03</td>\n",
       "      <td>9.34</td>\n",
       "      <td>+or-</td>\n",
       "      <td>0.03</td>\n",
       "      <td>8.79</td>\n",
       "      <td>+or-</td>\n",
       "      <td>0.03</td>\n",
       "      <td>NaN</td>\n",
       "      <td>NaN</td>\n",
       "      <td>NaN</td>\n",
       "    </tr>\n",
       "    <tr>\n",
       "      <th>6</th>\n",
       "      <td>55518.168</td>\n",
       "      <td>10.32</td>\n",
       "      <td>+or-</td>\n",
       "      <td>0.03</td>\n",
       "      <td>9.34</td>\n",
       "      <td>+or-</td>\n",
       "      <td>0.04</td>\n",
       "      <td>8.84</td>\n",
       "      <td>+or-</td>\n",
       "      <td>0.03</td>\n",
       "      <td>NaN</td>\n",
       "      <td>NaN</td>\n",
       "      <td>NaN</td>\n",
       "    </tr>\n",
       "    <tr>\n",
       "      <th>7</th>\n",
       "      <td>55527.117</td>\n",
       "      <td>10.35</td>\n",
       "      <td>+or-</td>\n",
       "      <td>0.03</td>\n",
       "      <td>9.40</td>\n",
       "      <td>+or-</td>\n",
       "      <td>0.03</td>\n",
       "      <td>8.89</td>\n",
       "      <td>+or-</td>\n",
       "      <td>0.03</td>\n",
       "      <td>NaN</td>\n",
       "      <td>NaN</td>\n",
       "      <td>NaN</td>\n",
       "    </tr>\n",
       "    <tr>\n",
       "      <th>8</th>\n",
       "      <td>55531.145</td>\n",
       "      <td>10.40</td>\n",
       "      <td>+or-</td>\n",
       "      <td>0.03</td>\n",
       "      <td>9.44</td>\n",
       "      <td>+or-</td>\n",
       "      <td>0.03</td>\n",
       "      <td>8.97</td>\n",
       "      <td>+or-</td>\n",
       "      <td>0.03</td>\n",
       "      <td>NaN</td>\n",
       "      <td>NaN</td>\n",
       "      <td>NaN</td>\n",
       "    </tr>\n",
       "    <tr>\n",
       "      <th>9</th>\n",
       "      <td>55543.066</td>\n",
       "      <td>10.45</td>\n",
       "      <td>+or-</td>\n",
       "      <td>0.03</td>\n",
       "      <td>9.48</td>\n",
       "      <td>+or-</td>\n",
       "      <td>0.04</td>\n",
       "      <td>9.06</td>\n",
       "      <td>+or-</td>\n",
       "      <td>0.04</td>\n",
       "      <td>NaN</td>\n",
       "      <td>NaN</td>\n",
       "      <td>NaN</td>\n",
       "    </tr>\n",
       "  </tbody>\n",
       "</table>\n",
       "</div>"
      ],
      "text/plain": [
       "     t_mid^a      J   mag   +/-   unc     H  mag.1  +/-.1 unc.1   K_s  mag.2  \\\n",
       "0  55466.137  10.04  +or-  0.03  9.14  +or-   0.03   8.65  +or-  0.03    NaN   \n",
       "1  55468.145   9.99  +or-  0.03  9.06  +or-   0.04   8.64  +or-  0.04    NaN   \n",
       "2  55469.148  10.04  +or-  0.03  9.07  +or-   0.03   8.70  +or-  0.03    NaN   \n",
       "3  55479.109  10.11  +or-  0.03  9.11  +or-   0.03   8.63  +or-  0.04    NaN   \n",
       "4  55504.164  10.20  +or-  0.03  9.24  +or-   0.03   8.74  +or-  0.03    NaN   \n",
       "5  55513.195  10.29  +or-  0.03  9.34  +or-   0.03   8.79  +or-  0.03    NaN   \n",
       "6  55518.168  10.32  +or-  0.03  9.34  +or-   0.04   8.84  +or-  0.03    NaN   \n",
       "7  55527.117  10.35  +or-  0.03  9.40  +or-   0.03   8.89  +or-  0.03    NaN   \n",
       "8  55531.145  10.40  +or-  0.03  9.44  +or-   0.03   8.97  +or-  0.03    NaN   \n",
       "9  55543.066  10.45  +or-  0.03  9.48  +or-   0.04   9.06  +or-  0.04    NaN   \n",
       "\n",
       "   +/-.2  unc.2  \n",
       "0    NaN    NaN  \n",
       "1    NaN    NaN  \n",
       "2    NaN    NaN  \n",
       "3    NaN    NaN  \n",
       "4    NaN    NaN  \n",
       "5    NaN    NaN  \n",
       "6    NaN    NaN  \n",
       "7    NaN    NaN  \n",
       "8    NaN    NaN  \n",
       "9    NaN    NaN  "
      ]
     },
     "execution_count": 12,
     "metadata": {},
     "output_type": "execute_result"
    }
   ],
   "source": [
    "miller"
   ]
  },
  {
   "cell_type": "code",
   "execution_count": null,
   "metadata": {},
   "outputs": [],
   "source": []
  },
  {
   "cell_type": "markdown",
   "metadata": {
    "slideshow": {
     "slide_type": "slide"
    }
   },
   "source": [
    "That wasn't too terrible. But what if we consider a more typical light curve table, where there are loads of missing data, such as Table 2 from [Foley et al. 2009](https://iopscience.iop.org/article/10.1088/0004-6256/138/2/376#aj309430t2):\n",
    "\n",
    "<img style=\"display: block; margin-left: auto; margin-right: auto\" src=\"images/Foley09_tbl2.png\" width=\"350\" align=\"middle\">"
   ]
  },
  {
   "cell_type": "markdown",
   "metadata": {
    "slideshow": {
     "slide_type": "subslide"
    }
   },
   "source": [
    "Again, this table is straightforward to read, and it isn't hard to imagine how one could construct a machine-readable csv or other file from this information. But alas, this is not what is available from ApJ. So, we will need to figure out how to deal with both the missing data, \"...\", and the weird convention that many astronomers use where the uncertainties are (a) not reported in their own column, and (b) are not provided in the same units as the measurement itself. I can understand the former, but the later is somewhat baffling..."
   ]
  },
  {
   "cell_type": "markdown",
   "metadata": {
    "slideshow": {
     "slide_type": "slide"
    }
   },
   "source": [
    "**Problem 2b** \n",
    "\n",
    "Read the ApJ version of Table 2 from from Foley et al. 2009 – called `Foley_et_al2009_table2.txt` – into either a `pandas DataFrame` or an `astropy Table`."
   ]
  },
  {
   "cell_type": "code",
   "execution_count": 13,
   "metadata": {
    "slideshow": {
     "slide_type": "subslide"
    }
   },
   "outputs": [],
   "source": [
    "data = pd.read_table('./Foley_et_al2009_table2.txt', skiprows=2)"
   ]
  },
  {
   "cell_type": "code",
   "execution_count": 14,
   "metadata": {},
   "outputs": [
    {
     "data": {
      "text/html": [
       "<div>\n",
       "<style scoped>\n",
       "    .dataframe tbody tr th:only-of-type {\n",
       "        vertical-align: middle;\n",
       "    }\n",
       "\n",
       "    .dataframe tbody tr th {\n",
       "        vertical-align: top;\n",
       "    }\n",
       "\n",
       "    .dataframe thead th {\n",
       "        text-align: right;\n",
       "    }\n",
       "</style>\n",
       "<table border=\"1\" class=\"dataframe\">\n",
       "  <thead>\n",
       "    <tr style=\"text-align: right;\">\n",
       "      <th></th>\n",
       "      <th>JD</th>\n",
       "      <th>B (mag)</th>\n",
       "      <th>V (mag)</th>\n",
       "      <th>R (mag)</th>\n",
       "      <th>I (mag)</th>\n",
       "      <th>Unfiltered (mag)</th>\n",
       "      <th>Telescope</th>\n",
       "      <th>Unnamed: 7</th>\n",
       "    </tr>\n",
       "  </thead>\n",
       "  <tbody>\n",
       "    <tr>\n",
       "      <th>0</th>\n",
       "      <td>2454764.80</td>\n",
       "      <td>sdotsdotsdot</td>\n",
       "      <td>sdotsdotsdot</td>\n",
       "      <td>sdotsdotsdot</td>\n",
       "      <td>sdotsdotsdot</td>\n",
       "      <td>&gt;19.5</td>\n",
       "      <td>KAIT</td>\n",
       "      <td>NaN</td>\n",
       "    </tr>\n",
       "    <tr>\n",
       "      <th>1</th>\n",
       "      <td>2454778.69</td>\n",
       "      <td>sdotsdotsdot</td>\n",
       "      <td>sdotsdotsdot</td>\n",
       "      <td>sdotsdotsdot</td>\n",
       "      <td>sdotsdotsdot</td>\n",
       "      <td>18.069 (092)</td>\n",
       "      <td>KAIT</td>\n",
       "      <td>NaN</td>\n",
       "    </tr>\n",
       "    <tr>\n",
       "      <th>2</th>\n",
       "      <td>2454781.76</td>\n",
       "      <td>18.340 (084)</td>\n",
       "      <td>17.828 (037)</td>\n",
       "      <td>sdotsdotsdot</td>\n",
       "      <td>sdotsdotsdot</td>\n",
       "      <td>sdotsdotsdot</td>\n",
       "      <td>KAIT</td>\n",
       "      <td>NaN</td>\n",
       "    </tr>\n",
       "    <tr>\n",
       "      <th>3</th>\n",
       "      <td>2454783.74</td>\n",
       "      <td>18.229 (062)</td>\n",
       "      <td>17.718 (042)</td>\n",
       "      <td>17.509 (041)</td>\n",
       "      <td>17.377 (054)</td>\n",
       "      <td>sdotsdotsdot</td>\n",
       "      <td>KAIT</td>\n",
       "      <td>NaN</td>\n",
       "    </tr>\n",
       "    <tr>\n",
       "      <th>4</th>\n",
       "      <td>2454784.64</td>\n",
       "      <td>sdotsdotsdot</td>\n",
       "      <td>sdotsdotsdot</td>\n",
       "      <td>sdotsdotsdot</td>\n",
       "      <td>sdotsdotsdot</td>\n",
       "      <td>17.736 (091)</td>\n",
       "      <td>KAIT</td>\n",
       "      <td>NaN</td>\n",
       "    </tr>\n",
       "    <tr>\n",
       "      <th>5</th>\n",
       "      <td>2454784.71</td>\n",
       "      <td>18.230 (030)</td>\n",
       "      <td>17.635 (030)</td>\n",
       "      <td>17.570 (030)</td>\n",
       "      <td>17.392 (030)</td>\n",
       "      <td>sdotsdotsdot</td>\n",
       "      <td>Nickel</td>\n",
       "      <td>NaN</td>\n",
       "    </tr>\n",
       "    <tr>\n",
       "      <th>6</th>\n",
       "      <td>2454785.67</td>\n",
       "      <td>18.385 (030)</td>\n",
       "      <td>17.660 (027)</td>\n",
       "      <td>17.610 (023)</td>\n",
       "      <td>17.425 (034)</td>\n",
       "      <td>17.683 (038)</td>\n",
       "      <td>KAIT</td>\n",
       "      <td>NaN</td>\n",
       "    </tr>\n",
       "    <tr>\n",
       "      <th>7</th>\n",
       "      <td>2454786.80</td>\n",
       "      <td>18.415 (030)</td>\n",
       "      <td>17.710 (030)</td>\n",
       "      <td>17.544 (030)</td>\n",
       "      <td>17.358 (030)</td>\n",
       "      <td>sdotsdotsdot</td>\n",
       "      <td>Nickel</td>\n",
       "      <td>NaN</td>\n",
       "    </tr>\n",
       "    <tr>\n",
       "      <th>8</th>\n",
       "      <td>2454787.67</td>\n",
       "      <td>18.596 (030)</td>\n",
       "      <td>17.762 (030)</td>\n",
       "      <td>17.552 (030)</td>\n",
       "      <td>17.376 (030)</td>\n",
       "      <td>sdotsdotsdot</td>\n",
       "      <td>KAIT</td>\n",
       "      <td>NaN</td>\n",
       "    </tr>\n",
       "    <tr>\n",
       "      <th>9</th>\n",
       "      <td>2454789.68</td>\n",
       "      <td>18.904 (030)</td>\n",
       "      <td>17.827 (014)</td>\n",
       "      <td>17.573 (011)</td>\n",
       "      <td>17.353 (030)</td>\n",
       "      <td>17.732 (028)</td>\n",
       "      <td>KAIT</td>\n",
       "      <td>NaN</td>\n",
       "    </tr>\n",
       "    <tr>\n",
       "      <th>10</th>\n",
       "      <td>2454790.71</td>\n",
       "      <td>18.969 (030)</td>\n",
       "      <td>17.871 (030)</td>\n",
       "      <td>17.560 (030)</td>\n",
       "      <td>17.278 (030)</td>\n",
       "      <td>sdotsdotsdot</td>\n",
       "      <td>Nickel</td>\n",
       "      <td>NaN</td>\n",
       "    </tr>\n",
       "    <tr>\n",
       "      <th>11</th>\n",
       "      <td>2454792.70</td>\n",
       "      <td>19.563 (054)</td>\n",
       "      <td>18.127 (022)</td>\n",
       "      <td>17.689 (016)</td>\n",
       "      <td>17.443 (030)</td>\n",
       "      <td>sdotsdotsdot</td>\n",
       "      <td>KAIT</td>\n",
       "      <td>NaN</td>\n",
       "    </tr>\n",
       "    <tr>\n",
       "      <th>12</th>\n",
       "      <td>2454794.68</td>\n",
       "      <td>19.789 (072)</td>\n",
       "      <td>18.377 (032)</td>\n",
       "      <td>17.904 (025)</td>\n",
       "      <td>17.541 (037)</td>\n",
       "      <td>sdotsdotsdot</td>\n",
       "      <td>KAIT</td>\n",
       "      <td>NaN</td>\n",
       "    </tr>\n",
       "    <tr>\n",
       "      <th>13</th>\n",
       "      <td>2454795.78</td>\n",
       "      <td>20.297 (216)</td>\n",
       "      <td>sdotsdotsdot</td>\n",
       "      <td>sdotsdotsdot</td>\n",
       "      <td>sdotsdotsdot</td>\n",
       "      <td>18.009 (103)</td>\n",
       "      <td>KAIT</td>\n",
       "      <td>NaN</td>\n",
       "    </tr>\n",
       "    <tr>\n",
       "      <th>14</th>\n",
       "      <td>2454798.65</td>\n",
       "      <td>20.390 (123)</td>\n",
       "      <td>18.791 (033)</td>\n",
       "      <td>18.308 (022)</td>\n",
       "      <td>17.876 (039)</td>\n",
       "      <td>18.388 (022)</td>\n",
       "      <td>KAIT</td>\n",
       "      <td>NaN</td>\n",
       "    </tr>\n",
       "    <tr>\n",
       "      <th>15</th>\n",
       "      <td>2454799.66</td>\n",
       "      <td>sdotsdotsdot</td>\n",
       "      <td>18.921 (046)</td>\n",
       "      <td>18.343 (029)</td>\n",
       "      <td>17.919 (050)</td>\n",
       "      <td>18.468 (040)</td>\n",
       "      <td>KAIT</td>\n",
       "      <td>NaN</td>\n",
       "    </tr>\n",
       "    <tr>\n",
       "      <th>16</th>\n",
       "      <td>2454800.67</td>\n",
       "      <td>sdotsdotsdot</td>\n",
       "      <td>18.942 (035)</td>\n",
       "      <td>18.347 (029)</td>\n",
       "      <td>17.892 (033)</td>\n",
       "      <td>18.482 (027)</td>\n",
       "      <td>KAIT</td>\n",
       "      <td>NaN</td>\n",
       "    </tr>\n",
       "    <tr>\n",
       "      <th>17</th>\n",
       "      <td>2454801.64</td>\n",
       "      <td>sdotsdotsdot</td>\n",
       "      <td>19.004 (044)</td>\n",
       "      <td>18.438 (026)</td>\n",
       "      <td>17.964 (036)</td>\n",
       "      <td>18.589 (031)</td>\n",
       "      <td>KAIT</td>\n",
       "      <td>NaN</td>\n",
       "    </tr>\n",
       "    <tr>\n",
       "      <th>18</th>\n",
       "      <td>2454802.74</td>\n",
       "      <td>sdotsdotsdot</td>\n",
       "      <td>19.064 (082)</td>\n",
       "      <td>18.472 (037)</td>\n",
       "      <td>17.921 (030)</td>\n",
       "      <td>18.635 (026)</td>\n",
       "      <td>KAIT</td>\n",
       "      <td>NaN</td>\n",
       "    </tr>\n",
       "    <tr>\n",
       "      <th>19</th>\n",
       "      <td>2454803.63</td>\n",
       "      <td>sdotsdotsdot</td>\n",
       "      <td>19.130 (054)</td>\n",
       "      <td>18.569 (031)</td>\n",
       "      <td>18.087 (047)</td>\n",
       "      <td>18.589 (030)</td>\n",
       "      <td>KAIT</td>\n",
       "      <td>NaN</td>\n",
       "    </tr>\n",
       "    <tr>\n",
       "      <th>20</th>\n",
       "      <td>2454805.63</td>\n",
       "      <td>sdotsdotsdot</td>\n",
       "      <td>19.211 (095)</td>\n",
       "      <td>18.851 (055)</td>\n",
       "      <td>18.142 (056)</td>\n",
       "      <td>18.682 (048)</td>\n",
       "      <td>KAIT</td>\n",
       "      <td>NaN</td>\n",
       "    </tr>\n",
       "    <tr>\n",
       "      <th>21</th>\n",
       "      <td>2454809.67</td>\n",
       "      <td>sdotsdotsdot</td>\n",
       "      <td>19.288 (206)</td>\n",
       "      <td>19.104 (135)</td>\n",
       "      <td>sdotsdotsdot</td>\n",
       "      <td>18.909 (078)</td>\n",
       "      <td>KAIT</td>\n",
       "      <td>NaN</td>\n",
       "    </tr>\n",
       "    <tr>\n",
       "      <th>22</th>\n",
       "      <td>2454811.61</td>\n",
       "      <td>sdotsdotsdot</td>\n",
       "      <td>19.462 (103)</td>\n",
       "      <td>19.069 (073)</td>\n",
       "      <td>18.374 (067)</td>\n",
       "      <td>19.150 (060)</td>\n",
       "      <td>KAIT</td>\n",
       "      <td>NaN</td>\n",
       "    </tr>\n",
       "    <tr>\n",
       "      <th>23</th>\n",
       "      <td>2454812.62</td>\n",
       "      <td>sdotsdotsdot</td>\n",
       "      <td>19.458 (207)</td>\n",
       "      <td>19.118 (065)</td>\n",
       "      <td>18.482 (077)</td>\n",
       "      <td>19.070 (049)</td>\n",
       "      <td>KAIT</td>\n",
       "      <td>NaN</td>\n",
       "    </tr>\n",
       "    <tr>\n",
       "      <th>24</th>\n",
       "      <td>2454831.63</td>\n",
       "      <td>21.372 (030)</td>\n",
       "      <td>20.191 (030)</td>\n",
       "      <td>19.647 (030)</td>\n",
       "      <td>18.864 (030)</td>\n",
       "      <td>sdotsdotsdot</td>\n",
       "      <td>Nickel</td>\n",
       "      <td>NaN</td>\n",
       "    </tr>\n",
       "    <tr>\n",
       "      <th>25</th>\n",
       "      <td>Note. Uncertainties (units of 0.001 mag) are g...</td>\n",
       "      <td>NaN</td>\n",
       "      <td>NaN</td>\n",
       "      <td>NaN</td>\n",
       "      <td>NaN</td>\n",
       "      <td>NaN</td>\n",
       "      <td>NaN</td>\n",
       "      <td>NaN</td>\n",
       "    </tr>\n",
       "  </tbody>\n",
       "</table>\n",
       "</div>"
      ],
      "text/plain": [
       "                                                   JD         B (mag)  \\\n",
       "0                                          2454764.80   sdotsdotsdot    \n",
       "1                                          2454778.69   sdotsdotsdot    \n",
       "2                                          2454781.76    18.340 (084)   \n",
       "3                                          2454783.74    18.229 (062)   \n",
       "4                                          2454784.64   sdotsdotsdot    \n",
       "5                                          2454784.71    18.230 (030)   \n",
       "6                                          2454785.67    18.385 (030)   \n",
       "7                                          2454786.80    18.415 (030)   \n",
       "8                                          2454787.67    18.596 (030)   \n",
       "9                                          2454789.68    18.904 (030)   \n",
       "10                                         2454790.71    18.969 (030)   \n",
       "11                                         2454792.70    19.563 (054)   \n",
       "12                                         2454794.68    19.789 (072)   \n",
       "13                                         2454795.78    20.297 (216)   \n",
       "14                                         2454798.65    20.390 (123)   \n",
       "15                                         2454799.66   sdotsdotsdot    \n",
       "16                                         2454800.67   sdotsdotsdot    \n",
       "17                                         2454801.64   sdotsdotsdot    \n",
       "18                                         2454802.74   sdotsdotsdot    \n",
       "19                                         2454803.63   sdotsdotsdot    \n",
       "20                                         2454805.63   sdotsdotsdot    \n",
       "21                                         2454809.67   sdotsdotsdot    \n",
       "22                                         2454811.61   sdotsdotsdot    \n",
       "23                                         2454812.62   sdotsdotsdot    \n",
       "24                                         2454831.63    21.372 (030)   \n",
       "25  Note. Uncertainties (units of 0.001 mag) are g...             NaN   \n",
       "\n",
       "           V (mag)         R (mag)         I (mag) Unfiltered (mag) Telescope  \\\n",
       "0    sdotsdotsdot    sdotsdotsdot    sdotsdotsdot             >19.5      KAIT   \n",
       "1    sdotsdotsdot    sdotsdotsdot    sdotsdotsdot      18.069 (092)      KAIT   \n",
       "2     17.828 (037)   sdotsdotsdot    sdotsdotsdot     sdotsdotsdot       KAIT   \n",
       "3     17.718 (042)    17.509 (041)    17.377 (054)    sdotsdotsdot       KAIT   \n",
       "4    sdotsdotsdot    sdotsdotsdot    sdotsdotsdot      17.736 (091)      KAIT   \n",
       "5     17.635 (030)    17.570 (030)    17.392 (030)    sdotsdotsdot     Nickel   \n",
       "6     17.660 (027)    17.610 (023)    17.425 (034)     17.683 (038)      KAIT   \n",
       "7     17.710 (030)    17.544 (030)    17.358 (030)    sdotsdotsdot     Nickel   \n",
       "8     17.762 (030)    17.552 (030)    17.376 (030)    sdotsdotsdot       KAIT   \n",
       "9     17.827 (014)    17.573 (011)    17.353 (030)     17.732 (028)      KAIT   \n",
       "10    17.871 (030)    17.560 (030)    17.278 (030)    sdotsdotsdot     Nickel   \n",
       "11    18.127 (022)    17.689 (016)    17.443 (030)    sdotsdotsdot       KAIT   \n",
       "12    18.377 (032)    17.904 (025)    17.541 (037)    sdotsdotsdot       KAIT   \n",
       "13   sdotsdotsdot    sdotsdotsdot    sdotsdotsdot      18.009 (103)      KAIT   \n",
       "14    18.791 (033)    18.308 (022)    17.876 (039)     18.388 (022)      KAIT   \n",
       "15    18.921 (046)    18.343 (029)    17.919 (050)     18.468 (040)      KAIT   \n",
       "16    18.942 (035)    18.347 (029)    17.892 (033)     18.482 (027)      KAIT   \n",
       "17    19.004 (044)    18.438 (026)    17.964 (036)     18.589 (031)      KAIT   \n",
       "18    19.064 (082)    18.472 (037)    17.921 (030)     18.635 (026)      KAIT   \n",
       "19    19.130 (054)    18.569 (031)    18.087 (047)     18.589 (030)      KAIT   \n",
       "20    19.211 (095)    18.851 (055)    18.142 (056)     18.682 (048)      KAIT   \n",
       "21    19.288 (206)    19.104 (135)   sdotsdotsdot      18.909 (078)      KAIT   \n",
       "22    19.462 (103)    19.069 (073)    18.374 (067)     19.150 (060)      KAIT   \n",
       "23    19.458 (207)    19.118 (065)    18.482 (077)     19.070 (049)      KAIT   \n",
       "24    20.191 (030)    19.647 (030)    18.864 (030)    sdotsdotsdot     Nickel   \n",
       "25             NaN             NaN             NaN              NaN       NaN   \n",
       "\n",
       "    Unnamed: 7  \n",
       "0          NaN  \n",
       "1          NaN  \n",
       "2          NaN  \n",
       "3          NaN  \n",
       "4          NaN  \n",
       "5          NaN  \n",
       "6          NaN  \n",
       "7          NaN  \n",
       "8          NaN  \n",
       "9          NaN  \n",
       "10         NaN  \n",
       "11         NaN  \n",
       "12         NaN  \n",
       "13         NaN  \n",
       "14         NaN  \n",
       "15         NaN  \n",
       "16         NaN  \n",
       "17         NaN  \n",
       "18         NaN  \n",
       "19         NaN  \n",
       "20         NaN  \n",
       "21         NaN  \n",
       "22         NaN  \n",
       "23         NaN  \n",
       "24         NaN  \n",
       "25         NaN  "
      ]
     },
     "execution_count": 14,
     "metadata": {},
     "output_type": "execute_result"
    }
   ],
   "source": [
    "data"
   ]
  },
  {
   "cell_type": "markdown",
   "metadata": {
    "slideshow": {
     "slide_type": "subslide"
    }
   },
   "source": [
    "Okay - there is nothing elegant about that particular solution. But it works, and wranglin' ain't pretty. \n",
    "\n",
    "It is likely that you developed a solution that looks very different from this one, and that is fine. When data are provided in an unrulely format, the most important thing is to develop some method, any method, for converting the information into a useful format. Following whatever path you used above, it should now be easy to plot the light curve of SN 2008ha."
   ]
  },
  {
   "cell_type": "markdown",
   "metadata": {
    "slideshow": {
     "slide_type": "slide"
    }
   },
   "source": [
    "## Problem 3) My Heart Will Go On\n",
    "\n",
    "Sometimes there is no difficultly whatsoever in reading in the data (as was the case in **Problems 1** and **2**), but instead the difficultly lies in wranglin' the data to be appropriate for the model that you are building.\n",
    "\n",
    "For the next problem we will work with the famous [Titanic survival](https://www.kaggle.com/c/titanic/data?) data set. "
   ]
  },
  {
   "cell_type": "markdown",
   "metadata": {
    "slideshow": {
     "slide_type": "subslide"
    }
   },
   "source": [
    "Briefly, [the Titantic](https://thefilmcricket.files.wordpress.com/2012/04/film-titanic_clar.jpg) is a [famous](https://wallpapercave.com/wp/jrF8rQK.jpg) historical ship that was thought to be unsinkable. **Spoiler alert** it hit an iceberg and sank. The data in the Titanic data set includes information about 891 passengers from the Titanic, as well as whether or not they survived. The aim of this data set is to build a machine learning model to predict which passengers survived and which did not."
   ]
  },
  {
   "cell_type": "markdown",
   "metadata": {
    "slideshow": {
     "slide_type": "subslide"
    }
   },
   "source": [
    "The features include: \n",
    "\n",
    "|Feature    | Description |\n",
    "|:---------:|:--------------------------------------:|\n",
    "|PassengerId| Running index that describes the individual passengers|\n",
    "|Pclass| A proxy for socio-economic status (1 = Upper class, 2 = Middle Class, 3 = Lower Class)|\n",
    "|Name| The passenger's name|\n",
    "|Sex | The passenger's sex|\n",
    "|Age | The passenger's age - note age's ending in 0.5 are estimated |\n",
    "|SibSp| The sum of the passenger's sibblings and spouces on board|\n",
    "|Parch| The sum of the passenger's parents and children on board|\n",
    "|Ticket| The ticket number for the passenger|\n",
    "|Fare| The price paid for the ticket by th passenger|\n",
    "|Cabin| The Cabin in which the passenger stayed|\n",
    "|Embarked| The point of Origin for the Passenger: C = Cherbourg, S = Southampton, Q = Queenstown|"
   ]
  },
  {
   "cell_type": "markdown",
   "metadata": {
    "slideshow": {
     "slide_type": "subslide"
    }
   },
   "source": [
    "And of course, we are trying to predict:\n",
    "\n",
    "|Label    | Description |\n",
    "|:---------:|:--------------------------------------:|\n",
    "|Survived| 1 = yes; 0 = no|\n"
   ]
  },
  {
   "cell_type": "markdown",
   "metadata": {
    "slideshow": {
     "slide_type": "slide"
    }
   },
   "source": [
    "**Problem 3a**\n",
    "\n",
    "Read in the Titanic training data and create the `scikit-learn` standard `X` and `y` arrays to hold the features and the labels, respectively."
   ]
  },
  {
   "cell_type": "code",
   "execution_count": 23,
   "metadata": {
    "slideshow": {
     "slide_type": "slide"
    }
   },
   "outputs": [],
   "source": [
    "titanic_df = pd.read_csv('./titanic_kaggle_training_set2.csv')\n",
    "\n",
    "feat_list = list(titanic_df.columns)\n",
    "label = 'Survived'\n",
    "feat_list.remove(label)\n",
    "X = titanic_df[feat_list]\n",
    "y = titanic_df['Survived']"
   ]
  },
  {
   "cell_type": "markdown",
   "metadata": {
    "slideshow": {
     "slide_type": "slide"
    }
   },
   "source": [
    "Now that we have the data in the appropriate `X` and `y` arrays, estimate the accuracy with which a [K nearest neighbors](https://scikit-learn.org/stable/modules/generated/sklearn.neighbors.KNeighborsClassifier.html) classification model can predict whether or not a passenger would survive the Titanic disaster. Use $k=10$ fold cross validation for the prediction."
   ]
  },
  {
   "cell_type": "markdown",
   "metadata": {
    "slideshow": {
     "slide_type": "subslide"
    }
   },
   "source": [
    "**Problem 3b**\n",
    "\n",
    "Train a $k=7$ nearest neighbors machine learning model on the Titanic training set."
   ]
  },
  {
   "cell_type": "code",
   "execution_count": 16,
   "metadata": {
    "slideshow": {
     "slide_type": "subslide"
    }
   },
   "outputs": [],
   "source": [
    "# from sklearn.neighbors import KNeighborsClassifier\n",
    "# knn_clf = KNeighborsClassifier(n_neighbors=2)\n",
    "# knn_clf.fit(X,y)"
   ]
  },
  {
   "cell_type": "markdown",
   "metadata": {
    "slideshow": {
     "slide_type": "slide"
    }
   },
   "source": [
    "Note - that should have failed! And for good reason - recall that `kNN` models measure the Euclidean distance between all points within the feature space. So, when considering the sex of a passenger, what is the *numerical* distance between male and female? "
   ]
  },
  {
   "cell_type": "markdown",
   "metadata": {
    "slideshow": {
     "slide_type": "subslide"
    }
   },
   "source": [
    "In other words, we need to wrangle this data before we can run the machine learning model. \n",
    "\n",
    "Most of the features in this problem are non-numeric (i.e. we are dealing with categorical features), and therefore we need to figure out how to include them in the `kNN` model. "
   ]
  },
  {
   "cell_type": "markdown",
   "metadata": {
    "slideshow": {
     "slide_type": "subslide"
    }
   },
   "source": [
    "The first step when wrangling for machine learning is to figure out if anything can be thrown away. We certainly want to avoid including any uninformative features in the model. \n",
    "\n",
    "*If you haven't already, now would be a good time to create a new cell and examine the contents of the csv*"
   ]
  },
  {
   "cell_type": "code",
   "execution_count": null,
   "metadata": {},
   "outputs": [],
   "source": []
  },
  {
   "cell_type": "code",
   "execution_count": 27,
   "metadata": {
    "slideshow": {
     "slide_type": "skip"
    }
   },
   "outputs": [
    {
     "data": {
      "text/html": [
       "<div>\n",
       "<style scoped>\n",
       "    .dataframe tbody tr th:only-of-type {\n",
       "        vertical-align: middle;\n",
       "    }\n",
       "\n",
       "    .dataframe tbody tr th {\n",
       "        vertical-align: top;\n",
       "    }\n",
       "\n",
       "    .dataframe thead th {\n",
       "        text-align: right;\n",
       "    }\n",
       "</style>\n",
       "<table border=\"1\" class=\"dataframe\">\n",
       "  <thead>\n",
       "    <tr style=\"text-align: right;\">\n",
       "      <th></th>\n",
       "      <th>PassengerId</th>\n",
       "      <th>Survived</th>\n",
       "      <th>Pclass</th>\n",
       "      <th>Name</th>\n",
       "      <th>Sex</th>\n",
       "      <th>Age</th>\n",
       "      <th>SibSp</th>\n",
       "      <th>Parch</th>\n",
       "      <th>Ticket</th>\n",
       "      <th>Fare</th>\n",
       "      <th>Cabin</th>\n",
       "      <th>Embarked</th>\n",
       "    </tr>\n",
       "  </thead>\n",
       "  <tbody>\n",
       "    <tr>\n",
       "      <th>0</th>\n",
       "      <td>1</td>\n",
       "      <td>0</td>\n",
       "      <td>3</td>\n",
       "      <td>Braund, Mr. Owen Harris</td>\n",
       "      <td>male</td>\n",
       "      <td>22.0</td>\n",
       "      <td>1</td>\n",
       "      <td>0</td>\n",
       "      <td>A/5 21171</td>\n",
       "      <td>7.2500</td>\n",
       "      <td>NaN</td>\n",
       "      <td>S</td>\n",
       "    </tr>\n",
       "    <tr>\n",
       "      <th>1</th>\n",
       "      <td>2</td>\n",
       "      <td>1</td>\n",
       "      <td>1</td>\n",
       "      <td>Cumings, Mrs. John Bradley (Florence Briggs Th...</td>\n",
       "      <td>female</td>\n",
       "      <td>38.0</td>\n",
       "      <td>1</td>\n",
       "      <td>0</td>\n",
       "      <td>PC 17599</td>\n",
       "      <td>71.2833</td>\n",
       "      <td>C85</td>\n",
       "      <td>C</td>\n",
       "    </tr>\n",
       "    <tr>\n",
       "      <th>2</th>\n",
       "      <td>3</td>\n",
       "      <td>1</td>\n",
       "      <td>3</td>\n",
       "      <td>Heikkinen, Miss. Laina</td>\n",
       "      <td>female</td>\n",
       "      <td>26.0</td>\n",
       "      <td>0</td>\n",
       "      <td>0</td>\n",
       "      <td>STON/O2. 3101282</td>\n",
       "      <td>7.9250</td>\n",
       "      <td>NaN</td>\n",
       "      <td>S</td>\n",
       "    </tr>\n",
       "    <tr>\n",
       "      <th>3</th>\n",
       "      <td>4</td>\n",
       "      <td>1</td>\n",
       "      <td>1</td>\n",
       "      <td>Futrelle, Mrs. Jacques Heath (Lily May Peel)</td>\n",
       "      <td>female</td>\n",
       "      <td>35.0</td>\n",
       "      <td>1</td>\n",
       "      <td>0</td>\n",
       "      <td>113803</td>\n",
       "      <td>53.1000</td>\n",
       "      <td>C123</td>\n",
       "      <td>S</td>\n",
       "    </tr>\n",
       "    <tr>\n",
       "      <th>4</th>\n",
       "      <td>5</td>\n",
       "      <td>0</td>\n",
       "      <td>3</td>\n",
       "      <td>Allen, Mr. William Henry</td>\n",
       "      <td>male</td>\n",
       "      <td>35.0</td>\n",
       "      <td>0</td>\n",
       "      <td>0</td>\n",
       "      <td>373450</td>\n",
       "      <td>8.0500</td>\n",
       "      <td>NaN</td>\n",
       "      <td>S</td>\n",
       "    </tr>\n",
       "    <tr>\n",
       "      <th>...</th>\n",
       "      <td>...</td>\n",
       "      <td>...</td>\n",
       "      <td>...</td>\n",
       "      <td>...</td>\n",
       "      <td>...</td>\n",
       "      <td>...</td>\n",
       "      <td>...</td>\n",
       "      <td>...</td>\n",
       "      <td>...</td>\n",
       "      <td>...</td>\n",
       "      <td>...</td>\n",
       "      <td>...</td>\n",
       "    </tr>\n",
       "    <tr>\n",
       "      <th>886</th>\n",
       "      <td>887</td>\n",
       "      <td>0</td>\n",
       "      <td>2</td>\n",
       "      <td>Montvila, Rev. Juozas</td>\n",
       "      <td>male</td>\n",
       "      <td>27.0</td>\n",
       "      <td>0</td>\n",
       "      <td>0</td>\n",
       "      <td>211536</td>\n",
       "      <td>13.0000</td>\n",
       "      <td>NaN</td>\n",
       "      <td>S</td>\n",
       "    </tr>\n",
       "    <tr>\n",
       "      <th>887</th>\n",
       "      <td>888</td>\n",
       "      <td>1</td>\n",
       "      <td>1</td>\n",
       "      <td>Graham, Miss. Margaret Edith</td>\n",
       "      <td>female</td>\n",
       "      <td>19.0</td>\n",
       "      <td>0</td>\n",
       "      <td>0</td>\n",
       "      <td>112053</td>\n",
       "      <td>30.0000</td>\n",
       "      <td>B42</td>\n",
       "      <td>S</td>\n",
       "    </tr>\n",
       "    <tr>\n",
       "      <th>888</th>\n",
       "      <td>889</td>\n",
       "      <td>0</td>\n",
       "      <td>3</td>\n",
       "      <td>Johnston, Miss. Catherine Helen \"Carrie\"</td>\n",
       "      <td>female</td>\n",
       "      <td>NaN</td>\n",
       "      <td>1</td>\n",
       "      <td>2</td>\n",
       "      <td>W./C. 6607</td>\n",
       "      <td>23.4500</td>\n",
       "      <td>NaN</td>\n",
       "      <td>S</td>\n",
       "    </tr>\n",
       "    <tr>\n",
       "      <th>889</th>\n",
       "      <td>890</td>\n",
       "      <td>1</td>\n",
       "      <td>1</td>\n",
       "      <td>Behr, Mr. Karl Howell</td>\n",
       "      <td>male</td>\n",
       "      <td>26.0</td>\n",
       "      <td>0</td>\n",
       "      <td>0</td>\n",
       "      <td>111369</td>\n",
       "      <td>30.0000</td>\n",
       "      <td>C148</td>\n",
       "      <td>C</td>\n",
       "    </tr>\n",
       "    <tr>\n",
       "      <th>890</th>\n",
       "      <td>891</td>\n",
       "      <td>0</td>\n",
       "      <td>3</td>\n",
       "      <td>Dooley, Mr. Patrick</td>\n",
       "      <td>male</td>\n",
       "      <td>32.0</td>\n",
       "      <td>0</td>\n",
       "      <td>0</td>\n",
       "      <td>370376</td>\n",
       "      <td>7.7500</td>\n",
       "      <td>NaN</td>\n",
       "      <td>Q</td>\n",
       "    </tr>\n",
       "  </tbody>\n",
       "</table>\n",
       "<p>891 rows × 12 columns</p>\n",
       "</div>"
      ],
      "text/plain": [
       "     PassengerId  Survived  Pclass  \\\n",
       "0              1         0       3   \n",
       "1              2         1       1   \n",
       "2              3         1       3   \n",
       "3              4         1       1   \n",
       "4              5         0       3   \n",
       "..           ...       ...     ...   \n",
       "886          887         0       2   \n",
       "887          888         1       1   \n",
       "888          889         0       3   \n",
       "889          890         1       1   \n",
       "890          891         0       3   \n",
       "\n",
       "                                                  Name     Sex   Age  SibSp  \\\n",
       "0                              Braund, Mr. Owen Harris    male  22.0      1   \n",
       "1    Cumings, Mrs. John Bradley (Florence Briggs Th...  female  38.0      1   \n",
       "2                               Heikkinen, Miss. Laina  female  26.0      0   \n",
       "3         Futrelle, Mrs. Jacques Heath (Lily May Peel)  female  35.0      1   \n",
       "4                             Allen, Mr. William Henry    male  35.0      0   \n",
       "..                                                 ...     ...   ...    ...   \n",
       "886                              Montvila, Rev. Juozas    male  27.0      0   \n",
       "887                       Graham, Miss. Margaret Edith  female  19.0      0   \n",
       "888           Johnston, Miss. Catherine Helen \"Carrie\"  female   NaN      1   \n",
       "889                              Behr, Mr. Karl Howell    male  26.0      0   \n",
       "890                                Dooley, Mr. Patrick    male  32.0      0   \n",
       "\n",
       "     Parch            Ticket     Fare Cabin Embarked  \n",
       "0        0         A/5 21171   7.2500   NaN        S  \n",
       "1        0          PC 17599  71.2833   C85        C  \n",
       "2        0  STON/O2. 3101282   7.9250   NaN        S  \n",
       "3        0            113803  53.1000  C123        S  \n",
       "4        0            373450   8.0500   NaN        S  \n",
       "..     ...               ...      ...   ...      ...  \n",
       "886      0            211536  13.0000   NaN        S  \n",
       "887      0            112053  30.0000   B42        S  \n",
       "888      2        W./C. 6607  23.4500   NaN        S  \n",
       "889      0            111369  30.0000  C148        C  \n",
       "890      0            370376   7.7500   NaN        Q  \n",
       "\n",
       "[891 rows x 12 columns]"
      ]
     },
     "execution_count": 27,
     "metadata": {},
     "output_type": "execute_result"
    }
   ],
   "source": [
    "titanic_df"
   ]
  },
  {
   "cell_type": "markdown",
   "metadata": {
    "slideshow": {
     "slide_type": "subslide"
    }
   },
   "source": [
    "**Problem 3c** \n",
    "\n",
    "Are there any features that *obviously* will not help with this classification problem?\n",
    "\n",
    "*If you answer yes - ignore those features moving forward*"
   ]
  },
  {
   "cell_type": "markdown",
   "metadata": {
    "slideshow": {
     "slide_type": "subslide"
    }
   },
   "source": [
    "**Solution 3c**\n",
    "\n",
    "# name, embarked, \n",
    "\n",
    "things we need: Pclass, sex, age"
   ]
  },
  {
   "cell_type": "code",
   "execution_count": 18,
   "metadata": {},
   "outputs": [
    {
     "data": {
      "text/html": [
       "<div>\n",
       "<style scoped>\n",
       "    .dataframe tbody tr th:only-of-type {\n",
       "        vertical-align: middle;\n",
       "    }\n",
       "\n",
       "    .dataframe tbody tr th {\n",
       "        vertical-align: top;\n",
       "    }\n",
       "\n",
       "    .dataframe thead th {\n",
       "        text-align: right;\n",
       "    }\n",
       "</style>\n",
       "<table border=\"1\" class=\"dataframe\">\n",
       "  <thead>\n",
       "    <tr style=\"text-align: right;\">\n",
       "      <th></th>\n",
       "      <th>Pclass</th>\n",
       "      <th>SibSp</th>\n",
       "      <th>Parch</th>\n",
       "      <th>Fare</th>\n",
       "    </tr>\n",
       "  </thead>\n",
       "  <tbody>\n",
       "    <tr>\n",
       "      <th>0</th>\n",
       "      <td>3</td>\n",
       "      <td>1</td>\n",
       "      <td>0</td>\n",
       "      <td>7.2500</td>\n",
       "    </tr>\n",
       "    <tr>\n",
       "      <th>1</th>\n",
       "      <td>1</td>\n",
       "      <td>1</td>\n",
       "      <td>0</td>\n",
       "      <td>71.2833</td>\n",
       "    </tr>\n",
       "    <tr>\n",
       "      <th>2</th>\n",
       "      <td>3</td>\n",
       "      <td>0</td>\n",
       "      <td>0</td>\n",
       "      <td>7.9250</td>\n",
       "    </tr>\n",
       "    <tr>\n",
       "      <th>3</th>\n",
       "      <td>1</td>\n",
       "      <td>1</td>\n",
       "      <td>0</td>\n",
       "      <td>53.1000</td>\n",
       "    </tr>\n",
       "    <tr>\n",
       "      <th>4</th>\n",
       "      <td>3</td>\n",
       "      <td>0</td>\n",
       "      <td>0</td>\n",
       "      <td>8.0500</td>\n",
       "    </tr>\n",
       "    <tr>\n",
       "      <th>...</th>\n",
       "      <td>...</td>\n",
       "      <td>...</td>\n",
       "      <td>...</td>\n",
       "      <td>...</td>\n",
       "    </tr>\n",
       "    <tr>\n",
       "      <th>886</th>\n",
       "      <td>2</td>\n",
       "      <td>0</td>\n",
       "      <td>0</td>\n",
       "      <td>13.0000</td>\n",
       "    </tr>\n",
       "    <tr>\n",
       "      <th>887</th>\n",
       "      <td>1</td>\n",
       "      <td>0</td>\n",
       "      <td>0</td>\n",
       "      <td>30.0000</td>\n",
       "    </tr>\n",
       "    <tr>\n",
       "      <th>888</th>\n",
       "      <td>3</td>\n",
       "      <td>1</td>\n",
       "      <td>2</td>\n",
       "      <td>23.4500</td>\n",
       "    </tr>\n",
       "    <tr>\n",
       "      <th>889</th>\n",
       "      <td>1</td>\n",
       "      <td>0</td>\n",
       "      <td>0</td>\n",
       "      <td>30.0000</td>\n",
       "    </tr>\n",
       "    <tr>\n",
       "      <th>890</th>\n",
       "      <td>3</td>\n",
       "      <td>0</td>\n",
       "      <td>0</td>\n",
       "      <td>7.7500</td>\n",
       "    </tr>\n",
       "  </tbody>\n",
       "</table>\n",
       "<p>891 rows × 4 columns</p>\n",
       "</div>"
      ],
      "text/plain": [
       "     Pclass  SibSp  Parch     Fare\n",
       "0         3      1      0   7.2500\n",
       "1         1      1      0  71.2833\n",
       "2         3      0      0   7.9250\n",
       "3         1      1      0  53.1000\n",
       "4         3      0      0   8.0500\n",
       "..      ...    ...    ...      ...\n",
       "886       2      0      0  13.0000\n",
       "887       1      0      0  30.0000\n",
       "888       3      1      2  23.4500\n",
       "889       1      0      0  30.0000\n",
       "890       3      0      0   7.7500\n",
       "\n",
       "[891 rows x 4 columns]"
      ]
     },
     "execution_count": 18,
     "metadata": {},
     "output_type": "execute_result"
    }
   ],
   "source": [
    "new_titanic_df = titanic_df\n",
    "\n",
    "filt = list(titanic_df.columns)\n",
    "\n",
    "# filt.remove('Fare')\n",
    "filt.remove('Name')\n",
    "filt.remove('Ticket')\n",
    "filt.remove('Cabin')\n",
    "filt.remove('Embarked')\n",
    "filt.remove('Survived')\n",
    "filt.remove('PassengerId')\n",
    "filt.remove('Age')\n",
    "filt.remove('Sex')\n",
    "\n",
    "new_titanic_df = new_titanic_df[filt]\n",
    "\n",
    "# new_titanic_df\n",
    "# new_titanic_df.loc[new_titanic_df['Sex'] == 'male', \"Sex\"] = 1\n",
    "# new_titanic_df.loc[new_titanic_df['Sex'] == 'female', \"Sex\"] = 0\n",
    "\n",
    "new_titanic_df"
   ]
  },
  {
   "cell_type": "code",
   "execution_count": 19,
   "metadata": {},
   "outputs": [
    {
     "data": {
      "text/plain": [
       "['Pclass', 'SibSp', 'Parch', 'Fare']"
      ]
     },
     "execution_count": 19,
     "metadata": {},
     "output_type": "execute_result"
    }
   ],
   "source": [
    "filt"
   ]
  },
  {
   "cell_type": "markdown",
   "metadata": {
    "slideshow": {
     "slide_type": "slide"
    }
   },
   "source": [
    "Given that we have both categorical and numeric features, let's start with the numerical features and see how well they can predict survival on the Titanic.\n",
    "\n",
    "One note - for now we are going to exclude `Age`, because as you saw when you examined the data, there are some passengers that do not have any age information. This problem, known as \"missing data\" is one that we will deal with before the end of this problem."
   ]
  },
  {
   "cell_type": "markdown",
   "metadata": {
    "slideshow": {
     "slide_type": "subslide"
    }
   },
   "source": [
    "**Problem 3d**\n",
    "\n",
    "How accurately can the numeric features, `Pclass`, `SibSp`, `Parch`, and `Fare` predict survival on the Titanic? Use a $k = 7$ Nearest Neighbors model, and estimate the model accuracy using 10-fold cross validation. \n",
    "\n",
    "*Hint 1 - you'll want to redefine your features vector `X`*\n",
    "\n",
    "*Hint 2 - you may find [`cross_val_score`](https://scikit-learn.org/stable/modules/generated/sklearn.model_selection.cross_val_score.html) from `scikit-learn` helpful*"
   ]
  },
  {
   "cell_type": "code",
   "execution_count": 20,
   "metadata": {
    "slideshow": {
     "slide_type": "subslide"
    }
   },
   "outputs": [
    {
     "ename": "NameError",
     "evalue": "name 'KNeighborsClassifier' is not defined",
     "output_type": "error",
     "traceback": [
      "\u001b[0;31m---------------------------------------------------------------------------\u001b[0m",
      "\u001b[0;31mNameError\u001b[0m                                 Traceback (most recent call last)",
      "Input \u001b[0;32mIn [20]\u001b[0m, in \u001b[0;36m<cell line: 5>\u001b[0;34m()\u001b[0m\n\u001b[1;32m      1\u001b[0m \u001b[38;5;28;01mfrom\u001b[39;00m \u001b[38;5;21;01msklearn\u001b[39;00m\u001b[38;5;21;01m.\u001b[39;00m\u001b[38;5;21;01mmodel_selection\u001b[39;00m \u001b[38;5;28;01mimport\u001b[39;00m cross_val_score\n\u001b[1;32m      3\u001b[0m X \u001b[38;5;241m=\u001b[39m new_titanic_df[filt]\n\u001b[0;32m----> 5\u001b[0m knn_clf \u001b[38;5;241m=\u001b[39m \u001b[43mKNeighborsClassifier\u001b[49m(n_neighbors\u001b[38;5;241m=\u001b[39m\u001b[38;5;241m7\u001b[39m)\n\u001b[1;32m      6\u001b[0m knn_clf\u001b[38;5;241m.\u001b[39mfit(X,y)\n\u001b[1;32m      8\u001b[0m cv_results \u001b[38;5;241m=\u001b[39m cross_val_score(knn_clf, X, y)\n",
      "\u001b[0;31mNameError\u001b[0m: name 'KNeighborsClassifier' is not defined"
     ]
    }
   ],
   "source": [
    "from sklearn.model_selection import cross_val_score\n",
    "\n",
    "X = new_titanic_df[filt]\n",
    "\n",
    "knn_clf = KNeighborsClassifier(n_neighbors=7)\n",
    "knn_clf.fit(X,y)\n",
    "\n",
    "cv_results = cross_val_score(knn_clf, X, y)\n",
    "\n",
    "print('The accuracy from numeric features = {:.2f}%'.format(100*np.mean(cv_results)))"
   ]
  },
  {
   "cell_type": "markdown",
   "metadata": {
    "slideshow": {
     "slide_type": "slide"
    }
   },
   "source": [
    "An accuracy of 68% isn't particularly inspiring. But, there's a lot of important information that we are excluding. As far as the Titanic is concerned, Kate and Leo taught us that [female passengers are far more likely to survive](https://qph.fs.quoracdn.net/main-qimg-93eb36091c7eec872b891fa51dc5722b), while [male passengers are not](http://hoycinema.abc.es/Media/201602/03/titanic-kate-dicaprio--644x362.jpg). So, if we can include gender in the model then we may be able to achieve more accurate predictions. "
   ]
  },
  {
   "cell_type": "markdown",
   "metadata": {
    "slideshow": {
     "slide_type": "subslide"
    }
   },
   "source": [
    "**Problem 3e**\n",
    "\n",
    "Create a new feature called `gender` that equals 1 for male passengers and 2 for female passengers. Add this feature to your dataframe, and include it in a `kNN` model with the other numeric features. Does the inclusion of this feature improve the 10-fold CV accuracy?"
   ]
  },
  {
   "cell_type": "code",
   "execution_count": 32,
   "metadata": {},
   "outputs": [
    {
     "data": {
      "text/html": [
       "<div>\n",
       "<style scoped>\n",
       "    .dataframe tbody tr th:only-of-type {\n",
       "        vertical-align: middle;\n",
       "    }\n",
       "\n",
       "    .dataframe tbody tr th {\n",
       "        vertical-align: top;\n",
       "    }\n",
       "\n",
       "    .dataframe thead th {\n",
       "        text-align: right;\n",
       "    }\n",
       "</style>\n",
       "<table border=\"1\" class=\"dataframe\">\n",
       "  <thead>\n",
       "    <tr style=\"text-align: right;\">\n",
       "      <th></th>\n",
       "      <th>PassengerId</th>\n",
       "      <th>Survived</th>\n",
       "      <th>Pclass</th>\n",
       "      <th>Name</th>\n",
       "      <th>Sex</th>\n",
       "      <th>Age</th>\n",
       "      <th>SibSp</th>\n",
       "      <th>Parch</th>\n",
       "      <th>Ticket</th>\n",
       "      <th>Fare</th>\n",
       "      <th>Cabin</th>\n",
       "      <th>Embarked</th>\n",
       "    </tr>\n",
       "  </thead>\n",
       "  <tbody>\n",
       "    <tr>\n",
       "      <th>0</th>\n",
       "      <td>1</td>\n",
       "      <td>0</td>\n",
       "      <td>3</td>\n",
       "      <td>Braund, Mr. Owen Harris</td>\n",
       "      <td>male</td>\n",
       "      <td>22.0</td>\n",
       "      <td>1</td>\n",
       "      <td>0</td>\n",
       "      <td>A/5 21171</td>\n",
       "      <td>7.2500</td>\n",
       "      <td>NaN</td>\n",
       "      <td>S</td>\n",
       "    </tr>\n",
       "    <tr>\n",
       "      <th>1</th>\n",
       "      <td>2</td>\n",
       "      <td>1</td>\n",
       "      <td>1</td>\n",
       "      <td>Cumings, Mrs. John Bradley (Florence Briggs Th...</td>\n",
       "      <td>female</td>\n",
       "      <td>38.0</td>\n",
       "      <td>1</td>\n",
       "      <td>0</td>\n",
       "      <td>PC 17599</td>\n",
       "      <td>71.2833</td>\n",
       "      <td>C85</td>\n",
       "      <td>C</td>\n",
       "    </tr>\n",
       "    <tr>\n",
       "      <th>2</th>\n",
       "      <td>3</td>\n",
       "      <td>1</td>\n",
       "      <td>3</td>\n",
       "      <td>Heikkinen, Miss. Laina</td>\n",
       "      <td>female</td>\n",
       "      <td>26.0</td>\n",
       "      <td>0</td>\n",
       "      <td>0</td>\n",
       "      <td>STON/O2. 3101282</td>\n",
       "      <td>7.9250</td>\n",
       "      <td>NaN</td>\n",
       "      <td>S</td>\n",
       "    </tr>\n",
       "    <tr>\n",
       "      <th>3</th>\n",
       "      <td>4</td>\n",
       "      <td>1</td>\n",
       "      <td>1</td>\n",
       "      <td>Futrelle, Mrs. Jacques Heath (Lily May Peel)</td>\n",
       "      <td>female</td>\n",
       "      <td>35.0</td>\n",
       "      <td>1</td>\n",
       "      <td>0</td>\n",
       "      <td>113803</td>\n",
       "      <td>53.1000</td>\n",
       "      <td>C123</td>\n",
       "      <td>S</td>\n",
       "    </tr>\n",
       "    <tr>\n",
       "      <th>4</th>\n",
       "      <td>5</td>\n",
       "      <td>0</td>\n",
       "      <td>3</td>\n",
       "      <td>Allen, Mr. William Henry</td>\n",
       "      <td>male</td>\n",
       "      <td>35.0</td>\n",
       "      <td>0</td>\n",
       "      <td>0</td>\n",
       "      <td>373450</td>\n",
       "      <td>8.0500</td>\n",
       "      <td>NaN</td>\n",
       "      <td>S</td>\n",
       "    </tr>\n",
       "    <tr>\n",
       "      <th>...</th>\n",
       "      <td>...</td>\n",
       "      <td>...</td>\n",
       "      <td>...</td>\n",
       "      <td>...</td>\n",
       "      <td>...</td>\n",
       "      <td>...</td>\n",
       "      <td>...</td>\n",
       "      <td>...</td>\n",
       "      <td>...</td>\n",
       "      <td>...</td>\n",
       "      <td>...</td>\n",
       "      <td>...</td>\n",
       "    </tr>\n",
       "    <tr>\n",
       "      <th>886</th>\n",
       "      <td>887</td>\n",
       "      <td>0</td>\n",
       "      <td>2</td>\n",
       "      <td>Montvila, Rev. Juozas</td>\n",
       "      <td>male</td>\n",
       "      <td>27.0</td>\n",
       "      <td>0</td>\n",
       "      <td>0</td>\n",
       "      <td>211536</td>\n",
       "      <td>13.0000</td>\n",
       "      <td>NaN</td>\n",
       "      <td>S</td>\n",
       "    </tr>\n",
       "    <tr>\n",
       "      <th>887</th>\n",
       "      <td>888</td>\n",
       "      <td>1</td>\n",
       "      <td>1</td>\n",
       "      <td>Graham, Miss. Margaret Edith</td>\n",
       "      <td>female</td>\n",
       "      <td>19.0</td>\n",
       "      <td>0</td>\n",
       "      <td>0</td>\n",
       "      <td>112053</td>\n",
       "      <td>30.0000</td>\n",
       "      <td>B42</td>\n",
       "      <td>S</td>\n",
       "    </tr>\n",
       "    <tr>\n",
       "      <th>888</th>\n",
       "      <td>889</td>\n",
       "      <td>0</td>\n",
       "      <td>3</td>\n",
       "      <td>Johnston, Miss. Catherine Helen \"Carrie\"</td>\n",
       "      <td>female</td>\n",
       "      <td>NaN</td>\n",
       "      <td>1</td>\n",
       "      <td>2</td>\n",
       "      <td>W./C. 6607</td>\n",
       "      <td>23.4500</td>\n",
       "      <td>NaN</td>\n",
       "      <td>S</td>\n",
       "    </tr>\n",
       "    <tr>\n",
       "      <th>889</th>\n",
       "      <td>890</td>\n",
       "      <td>1</td>\n",
       "      <td>1</td>\n",
       "      <td>Behr, Mr. Karl Howell</td>\n",
       "      <td>male</td>\n",
       "      <td>26.0</td>\n",
       "      <td>0</td>\n",
       "      <td>0</td>\n",
       "      <td>111369</td>\n",
       "      <td>30.0000</td>\n",
       "      <td>C148</td>\n",
       "      <td>C</td>\n",
       "    </tr>\n",
       "    <tr>\n",
       "      <th>890</th>\n",
       "      <td>891</td>\n",
       "      <td>0</td>\n",
       "      <td>3</td>\n",
       "      <td>Dooley, Mr. Patrick</td>\n",
       "      <td>male</td>\n",
       "      <td>32.0</td>\n",
       "      <td>0</td>\n",
       "      <td>0</td>\n",
       "      <td>370376</td>\n",
       "      <td>7.7500</td>\n",
       "      <td>NaN</td>\n",
       "      <td>Q</td>\n",
       "    </tr>\n",
       "  </tbody>\n",
       "</table>\n",
       "<p>891 rows × 12 columns</p>\n",
       "</div>"
      ],
      "text/plain": [
       "     PassengerId  Survived  Pclass  \\\n",
       "0              1         0       3   \n",
       "1              2         1       1   \n",
       "2              3         1       3   \n",
       "3              4         1       1   \n",
       "4              5         0       3   \n",
       "..           ...       ...     ...   \n",
       "886          887         0       2   \n",
       "887          888         1       1   \n",
       "888          889         0       3   \n",
       "889          890         1       1   \n",
       "890          891         0       3   \n",
       "\n",
       "                                                  Name     Sex   Age  SibSp  \\\n",
       "0                              Braund, Mr. Owen Harris    male  22.0      1   \n",
       "1    Cumings, Mrs. John Bradley (Florence Briggs Th...  female  38.0      1   \n",
       "2                               Heikkinen, Miss. Laina  female  26.0      0   \n",
       "3         Futrelle, Mrs. Jacques Heath (Lily May Peel)  female  35.0      1   \n",
       "4                             Allen, Mr. William Henry    male  35.0      0   \n",
       "..                                                 ...     ...   ...    ...   \n",
       "886                              Montvila, Rev. Juozas    male  27.0      0   \n",
       "887                       Graham, Miss. Margaret Edith  female  19.0      0   \n",
       "888           Johnston, Miss. Catherine Helen \"Carrie\"  female   NaN      1   \n",
       "889                              Behr, Mr. Karl Howell    male  26.0      0   \n",
       "890                                Dooley, Mr. Patrick    male  32.0      0   \n",
       "\n",
       "     Parch            Ticket     Fare Cabin Embarked  \n",
       "0        0         A/5 21171   7.2500   NaN        S  \n",
       "1        0          PC 17599  71.2833   C85        C  \n",
       "2        0  STON/O2. 3101282   7.9250   NaN        S  \n",
       "3        0            113803  53.1000  C123        S  \n",
       "4        0            373450   8.0500   NaN        S  \n",
       "..     ...               ...      ...   ...      ...  \n",
       "886      0            211536  13.0000   NaN        S  \n",
       "887      0            112053  30.0000   B42        S  \n",
       "888      2        W./C. 6607  23.4500   NaN        S  \n",
       "889      0            111369  30.0000  C148        C  \n",
       "890      0            370376   7.7500   NaN        Q  \n",
       "\n",
       "[891 rows x 12 columns]"
      ]
     },
     "execution_count": 32,
     "metadata": {},
     "output_type": "execute_result"
    }
   ],
   "source": [
    "titanic_df"
   ]
  },
  {
   "cell_type": "code",
   "execution_count": 57,
   "metadata": {},
   "outputs": [],
   "source": [
    "filt2 = filt.append('gender')"
   ]
  },
  {
   "cell_type": "code",
   "execution_count": 61,
   "metadata": {
    "slideshow": {
     "slide_type": "subslide"
    }
   },
   "outputs": [],
   "source": [
    "gender = np.zeros(len(titanic_df['Sex']))\n",
    "for i in np.arange(len(titanic_df['Sex'])):\n",
    "    if titanic_df['Sex'][i] == 'male': gender[i] = 1\n",
    "    elif titanic_df['Sex'][i] == 'female' : gender[i] = 0\n",
    "titanic_df['gender'] = gender\n",
    "\n",
    "X = titanic_df[filt]\n",
    "\n",
    "# cv_results = cross_val_score( # complete\n",
    "\n",
    "# print('The accuracy when including gender = {:.2f}%'.format(100*np.mean(cv_results)))"
   ]
  },
  {
   "cell_type": "code",
   "execution_count": 60,
   "metadata": {},
   "outputs": [
    {
     "data": {
      "text/plain": [
       "['PassengerId',\n",
       " 'Survived',\n",
       " 'Pclass',\n",
       " 'Name',\n",
       " 'Sex',\n",
       " 'Age',\n",
       " 'SibSp',\n",
       " 'Parch',\n",
       " 'Ticket',\n",
       " 'Fare',\n",
       " 'Cabin',\n",
       " 'Embarked',\n",
       " 'gender']"
      ]
     },
     "execution_count": 60,
     "metadata": {},
     "output_type": "execute_result"
    }
   ],
   "source": [
    "filt = list(titanic_df.columns)\n",
    "filt"
   ]
  },
  {
   "cell_type": "markdown",
   "metadata": {
    "slideshow": {
     "slide_type": "slide"
    }
   },
   "source": [
    "A 14% improvement is pretty good! But, we can wrangle even more out of the gender feature. Recall that `kNN` models measure the Euclidean distance between sources, meaning the scale of each feature really matters. Given that the fare ranges from 0 up to 512.3292, the `kNN` model will see this feature as far more important than `gender`, for no other reason than the units that have been adopted. \n",
    "\n",
    "If women are far more likely to survive than men, then we want to be sure that gender is weighted at least the same as all the other features, which we can do with a minmax scaler. As a brief reminder - a minmax scaler scales all values of a feature to be between 0 and 1 by subtracting the minimum value of each feature and then dividing by the maximum minus the minimum. "
   ]
  },
  {
   "cell_type": "markdown",
   "metadata": {
    "slideshow": {
     "slide_type": "subslide"
    }
   },
   "source": [
    "**Problem 3f**\n",
    "\n",
    "Scale all the features from the previous problem using a minmax scaler and evaluate the CV accuracy of the `kNN` model.\n",
    "\n",
    "*Hint - you may find [`MinMaxScaler`](https://scikit-learn.org/stable/modules/generated/sklearn.preprocessing.MinMaxScaler.html) helpful*"
   ]
  },
  {
   "cell_type": "code",
   "execution_count": null,
   "metadata": {
    "slideshow": {
     "slide_type": "subslide"
    }
   },
   "outputs": [],
   "source": [
    "from sklearn.preprocessing import MinMaxScaler\n",
    "\n",
    "scaler = MinMaxScaler()\n",
    "scaler.fit(X)\n",
    "Xminmax = scaler.transform(X)\n",
    "\n",
    "knn_clf = # complete\n",
    "\n",
    "cv_results = cross_val_score( # complete\n",
    "\n",
    "print('The accuracy when scaling features = {:.2f}%'.format(100*np.mean(cv_results)))"
   ]
  },
  {
   "cell_type": "markdown",
   "metadata": {
    "slideshow": {
     "slide_type": "slide"
    }
   },
   "source": [
    "Scaling the features leads to further improvement!\n",
    "\n",
    "Now turn your attention to another categorical feature, `Embarked`, which includes the point of origin for each passenger and has three categories, `S`, `Q`, and `C`. We need to convert these values to a numeric representation for inclusion in the model."
   ]
  },
  {
   "cell_type": "markdown",
   "metadata": {
    "slideshow": {
     "slide_type": "subslide"
    }
   },
   "source": [
    "**Problem 3g**\n",
    "\n",
    "Convert the categorical feature `Embarked` to a numeric representation, and add it to the `titanic_df`."
   ]
  },
  {
   "cell_type": "code",
   "execution_count": null,
   "metadata": {
    "slideshow": {
     "slide_type": "subslide"
    }
   },
   "outputs": [],
   "source": [
    "# following previous example, set C = 0, S = 1, Q = 2\n",
    "\n",
    "porigin = # complete\n",
    "# complete\n",
    "# complete\n",
    "# complete\n",
    "\n",
    "titanic_df['porigin'] = porigin"
   ]
  },
  {
   "cell_type": "markdown",
   "metadata": {
    "slideshow": {
     "slide_type": "slide"
    }
   },
   "source": [
    "But wait! Does this actually make sense?\n",
    "\n",
    "Our \"numerification\" has now introduced order where there previously was none. We are effectively telling the model that Cherbourg and Queenstown are far apart (not in distance but in terms of the similarity of the passengers that boarded the ship in each location), while each are equally close to Southampton. Is there actually any evidence to support this conclusion? "
   ]
  },
  {
   "cell_type": "markdown",
   "metadata": {
    "slideshow": {
     "slide_type": "subslide"
    }
   },
   "source": [
    "By definition categorical features do not have order (e.g., cat, dog, horse, elephant), and therefore we should not impose any when converting these features to numeric values for inclusion in our model. Instead, we should be creating a new set of binary features for every category within the feature set. Thus, `Embarked` will now need to be represented by 3 different features, where the feature `Queenstown` equals one for passengers that boarded there and zero for everyone else. "
   ]
  },
  {
   "cell_type": "markdown",
   "metadata": {
    "slideshow": {
     "slide_type": "subslide"
    }
   },
   "source": [
    "**Problem 3h**\n",
    "\n",
    "Complete the function below that will automatically create binary arrays for a categorical feature."
   ]
  },
  {
   "cell_type": "code",
   "execution_count": null,
   "metadata": {
    "slideshow": {
     "slide_type": "subslide"
    }
   },
   "outputs": [],
   "source": [
    "def create_bin_cat_feats(feature_array):\n",
    "    categories = np.unique(feature_array)\n",
    "    feat_dict = {}\n",
    "    for cat in categories:\n",
    "        # complete\n",
    "        # complete\n",
    "        # complete\n",
    "    return feat_dict"
   ]
  },
  {
   "cell_type": "markdown",
   "metadata": {
    "slideshow": {
     "slide_type": "slide"
    }
   },
   "source": [
    "**Problem 3i**\n",
    "\n",
    "Use the `create_bin_cat_feats` function to convert the `Embarked` and `Sex` categorical features to a numeric representation (yes we need to do this for `Sex` as well where we otherwise previously introduced order). Add these features to the `titanic_df` data frame."
   ]
  },
  {
   "cell_type": "code",
   "execution_count": null,
   "metadata": {
    "slideshow": {
     "slide_type": "subslide"
    }
   },
   "outputs": [],
   "source": [
    "gender_dict = create_bin_cat_feats( # complete\n",
    "porigin_dict = create_bin_cat_feats( # complete\n",
    "\n",
    "for feat in gender_dict.keys():\n",
    "    titanic_df[feat] = gender_dict[feat]\n",
    "    \n",
    "for feat in porigin_dict.keys():\n",
    "    titanic_df[feat] = porigin_dict[feat]"
   ]
  },
  {
   "cell_type": "markdown",
   "metadata": {
    "slideshow": {
     "slide_type": "slide"
    }
   },
   "source": [
    "**Problem 3j**\n",
    "\n",
    "Use the newly created `female`, `male`, `S`, `Q`, and `C` features in combination with the `Pclass`, `SibSp`, `Parch`, and `Fare` features to estimate the classification accuracy of a $k = 7$ nearest neighbors model with 10-fold cross validation.\n",
    "\n",
    "How does the addition of the point of origin feature affect the final model output?\n",
    "\n",
    "*Hint - don't forget to scale the features in the model*"
   ]
  },
  {
   "cell_type": "code",
   "execution_count": null,
   "metadata": {
    "slideshow": {
     "slide_type": "subslide"
    }
   },
   "outputs": [],
   "source": [
    "from sklearn.preprocessing import MinMaxScaler\n",
    "\n",
    "X = # complete\n",
    "\n",
    "scaler = MinMaxScaler()\n",
    "scaler.fit(X)\n",
    "Xminmax = scaler.transform(X)\n",
    "\n",
    "cv_results = cross_val_score( # complete\n",
    "\n",
    "print('The accuracy with categorical features = {:.2f}%'.format(100*np.mean(cv_results)))"
   ]
  },
  {
   "cell_type": "markdown",
   "metadata": {
    "slideshow": {
     "slide_type": "slide"
    }
   },
   "source": [
    "The last thing we'd like to add to the model is the `Age` feature. Unfortunately, for 177 passengers we do not have a reported value for their age. This is a standard issue when building models known as \"missing data\" and this happens in astronomy all the time (for example, LSST is going to observe millions of L and T dwarfs that are easily detected in the $y$-band, but which will not have a detection in $u$-band)."
   ]
  },
  {
   "cell_type": "markdown",
   "metadata": {
    "slideshow": {
     "slide_type": "subslide"
    }
   },
   "source": [
    "There are several different strategies for dealing with missing data. The first and most straightforward is to simply remove observations with missing data (note - to simplify this example I already did this by removing the 2 passengers from the training set that did not have an entry for `Embarked`). \n",
    "\n",
    "This strategy is perfectly fine if only a few sources have missing information (2/891 for `Embarked` - and none of the test set sources are missing `Embarked`). If, however, a significant fraction are missing data, this strategy would remove a lot of useful data from the model."
   ]
  },
  {
   "cell_type": "markdown",
   "metadata": {
    "slideshow": {
     "slide_type": "subslide"
    }
   },
   "source": [
    "If you cannot remove the sources with missing data, then it is essential to ask the following question: \n",
    "\n",
    "Does the missing information have meaning? \n",
    "\n",
    "In the LSST L/T dwarf example, the lack of a $u$-band detection is meaningful: these stars are too faint for LSST. When this is the case, an indicator value (e.g., -999) allows the model to recognize the non-detection. "
   ]
  },
  {
   "cell_type": "markdown",
   "metadata": {
    "slideshow": {
     "slide_type": "subslide"
    }
   },
   "source": [
    "For the Titanic data, the lack of age information is not meaningful. Simply put, there are some passengers that did not have recorded ages. We will now show this to be the case. "
   ]
  },
  {
   "cell_type": "markdown",
   "metadata": {
    "slideshow": {
     "slide_type": "subslide"
    }
   },
   "source": [
    "**Problem 3k**\n",
    "\n",
    "Replace the unknown ages with a value of -999, and estimate the accuracy of the model via 10-fold cross validation."
   ]
  },
  {
   "cell_type": "code",
   "execution_count": null,
   "metadata": {
    "slideshow": {
     "slide_type": "subslide"
    }
   },
   "outputs": [],
   "source": [
    "age_impute = # complete\n",
    "# complete\n",
    "\n",
    "titanic_df['age_impute'] = age_impute\n",
    "\n",
    "X = # complete\n",
    "\n",
    "scaler = MinMaxScaler()\n",
    "scaler.fit(X)\n",
    "Xminmax = scaler.transform(X)\n",
    "\n",
    "cv_results = cross_val_score( # complete\n",
    "\n",
    "print('The accuracy with -999 for missing ages = {:.2f}%'.format(100*np.mean(cv_results)))"
   ]
  },
  {
   "cell_type": "markdown",
   "metadata": {
    "slideshow": {
     "slide_type": "slide"
    }
   },
   "source": [
    "The accuracy of the model hasn't improved by adding the age information (even though we know children were more likely to survive than adults). \n",
    "\n",
    "Given that the missing ages don't have meaning, we need to develop alternative strategies for \"imputing\" the missing data. The most simple approach in this regard is to replace the missing values with the mean value of the feature distribution for sources that do have measurements (use the median if the distribution has significant outliers).  "
   ]
  },
  {
   "cell_type": "markdown",
   "metadata": {
    "slideshow": {
     "slide_type": "subslide"
    }
   },
   "source": [
    "**Problem 3l**\n",
    "\n",
    "Replace the unknown ages with the mean age of passengers, and estiamte the accuracy of the model via 10-fold cross validation."
   ]
  },
  {
   "cell_type": "code",
   "execution_count": null,
   "metadata": {
    "slideshow": {
     "slide_type": "subslide"
    }
   },
   "outputs": [],
   "source": [
    "age_impute = # complete\n",
    "# complete\n",
    "\n",
    "titanic_df['age_impute'] = age_impute\n",
    "\n",
    "X = # complete\n",
    "\n",
    "scaler = MinMaxScaler()\n",
    "scaler.fit(X)\n",
    "Xminmax = scaler.transform(X)\n",
    "\n",
    "cv_results = cross_val_score( # complete\n",
    "\n",
    "print('The accuracy with the mean for missing ages = {:.2f}%'.format(100*np.mean(cv_results)))"
   ]
  },
  {
   "cell_type": "markdown",
   "metadata": {
    "slideshow": {
     "slide_type": "slide"
    }
   },
   "source": [
    "Using the mean age for missing values provides a marginal improvement over the models with no age information. Is there anything else we can do? Yes - we can build a machine learning model to predict the values of the missing data. So there will be a machine learning model within the final machine learning model. In order to predict ages, we will need to build a regression model. Simple algorithms include Linear or Logistic Regression, while more complex examples include `kNN` or random forest regression.\n",
    "\n",
    "I quickly tested the above four methods, and found that the `scikit-learn` [`LinearRegression`](https://scikit-learn.org/stable/modules/generated/sklearn.linear_model.LinearRegression.html#sklearn.linear_model.LinearRegression) performs best when using the model defaults."
   ]
  },
  {
   "cell_type": "markdown",
   "metadata": {
    "slideshow": {
     "slide_type": "subslide"
    }
   },
   "source": [
    "**Problem 3m**\n",
    "\n",
    "Build a `LinearRegression` model to predict a passenger's age based on the `Pclass`, `SibSp`, `Parch`, `Fare`, `female`, `male`, `S`, `Q`, `C` features. The model should be trained with passengers that have known ages. Use 10-fold cross validation to determine the performance of this model.\n",
    "\n",
    "*Hint - note that for regression models the typical metric of evaluation is the [mean squared error](https://en.wikipedia.org/wiki/Mean_squared_error), and that for consistency within the `scikit-learn` API, the [negative mean squared error is returned rather than the mean squared error](https://scikit-learn.org/stable/modules/model_evaluation.html#common-cases-predefined-values).*"
   ]
  },
  {
   "cell_type": "code",
   "execution_count": null,
   "metadata": {
    "slideshow": {
     "slide_type": "subslide"
    }
   },
   "outputs": [],
   "source": [
    "from sklearn.linear_model import LinearRegression\n",
    "\n",
    "has_ages = np.where(np.isfinite(titanic_df['Age']))[0]\n",
    "\n",
    "impute_X_train = # complete\n",
    "impute_y_train = # complete\n",
    "\n",
    "scaler = MinMaxScaler()\n",
    "scaler.fit(impute_X_train)\n",
    "Xminmax = scaler.transform(impute_X_train)\n",
    "\n",
    "lr_age = LinearRegression().fit( # complete\n",
    "\n",
    "cv_results = cross_val_score(LinearRegression(), Xminmax, impute_y_train, cv=10, scoring='neg_mean_squared_error')\n",
    "\n",
    "print('Missing ages have RMSE = {:.2f}'.format(np.mean((-1*cv_results)**0.5)))"
   ]
  },
  {
   "cell_type": "markdown",
   "metadata": {
    "slideshow": {
     "slide_type": "slide"
    }
   },
   "source": [
    "**Problem 3n**\n",
    "\n",
    "Use the age regression model to predict the ages for passengers with missing data."
   ]
  },
  {
   "cell_type": "code",
   "execution_count": null,
   "metadata": {
    "slideshow": {
     "slide_type": "subslide"
    }
   },
   "outputs": [],
   "source": [
    "missing_ages = np.where(np.isnan(titanic_df['Age']))[0]\n",
    "\n",
    "impute_X_missing = # complete\n",
    "\n",
    "X_missing_minmax = scaler.transform(impute_X_missing)\n",
    "\n",
    "age_preds = lr_age.predict(X_missing_minmax)"
   ]
  },
  {
   "cell_type": "markdown",
   "metadata": {
    "slideshow": {
     "slide_type": "slide"
    }
   },
   "source": [
    "**Problem 3o**\n",
    "\n",
    "Use the imputed age estimates to predict the passenger survival via 10-fold cross validation."
   ]
  },
  {
   "cell_type": "code",
   "execution_count": null,
   "metadata": {
    "slideshow": {
     "slide_type": "subslide"
    }
   },
   "outputs": [],
   "source": [
    "age_impute = titanic_df['Age'].copy().values\n",
    "age_impute[missing_ages] = # complete\n",
    "\n",
    "titanic_df['age_impute'] = age_impute\n",
    "\n",
    "X = # complete\n",
    "\n",
    "scaler = MinMaxScaler()\n",
    "scaler.fit(X)\n",
    "Xminmax = scaler.transform(X)\n",
    "\n",
    "cv_results = cross_val_score( # complete\n",
    "\n",
    "print('The accuracy with the mean for missing ages = {:.2f}%'.format(100*np.mean(cv_results)))"
   ]
  },
  {
   "cell_type": "markdown",
   "metadata": {
    "slideshow": {
     "slide_type": "slide"
    }
   },
   "source": [
    "As far as ages are concerned, imputation of the missing data does not significantly improve the model.\n",
    "\n",
    "Which brings us to the concluding lesson in wrangling the Titanic data - not every piece of information is *useful*. This is critical to remember when building machine learning models. "
   ]
  },
  {
   "cell_type": "markdown",
   "metadata": {
    "slideshow": {
     "slide_type": "subslide"
    }
   },
   "source": [
    "(As a quick aside - it wouldn't be entirely fair to say there is no useful information in the age feature. It is clear, for example, that \"children,\" i.e. those with Age < 10, had a much higher probability of survival than adults. Perhaps the creation of a `child` feature based on age would improve the model... or using the age in combination with other features, e.g., `Age`x`Pclass` which will further highlight that 1st class passengers were more likely to survive than 3rd class passengers)"
   ]
  },
  {
   "cell_type": "markdown",
   "metadata": {
    "slideshow": {
     "slide_type": "subslide"
    }
   },
   "source": [
    "Finally - note that you can try to build a model and submit it to Kaggle to see how well you preform on blind data. \n",
    "\n",
    "https://www.kaggle.com/c/titanic - the classifications are not revealed, but from the [leaderboard](https://www.kaggle.com/c/titanic/leaderboard) it is clear that some people were able to build models that perfectly classified the blind data."
   ]
  },
  {
   "cell_type": "markdown",
   "metadata": {
    "slideshow": {
     "slide_type": "slide"
    }
   },
   "source": [
    "## Problem 4) Wrangling an astro machine learning model"
   ]
  },
  {
   "cell_type": "markdown",
   "metadata": {
    "slideshow": {
     "slide_type": "slide"
    }
   },
   "source": [
    "Now we will put together the above examples to work on an astronomical problem of great importance for LSST: photometric redshifts. As we have previously discussed, LSST will observe many, many, many, many more galaxies than we can possibly observe with spectroscopic instruments. As a result, the vast majority of the galaxies observed by LSST will not have precise redshift estimates, and instead we will need to estimate redshifts via photometry alone. "
   ]
  },
  {
   "cell_type": "markdown",
   "metadata": {
    "slideshow": {
     "slide_type": "subslide"
    }
   },
   "source": [
    "This week we have heard a lot about `SDSS CasJobs`, and for today's problem we will use 50,000 SDSS sources with spectroscopic measurements to train a machine learning model to estimate redshifts from photometry. The following query was used to generate this training set: \n",
    "\n",
    "    select top 50000 s.specObjID, s.z, s.type,\n",
    "       psfMag_u, psfMag_g, psfMag_r, psfMag_i, psfMag_z, \n",
    "       modelMag_u, modelMag_g, modelMag_r, modelMag_i, modelMag_z,\n",
    "       extinction_u, extinction_g, extinction_r, extinction_i, extinction_z,\n",
    "       w.w1mpro, w1snr, w.w2mpro, w2snr, w.w3mpro, w3snr, w.w4mpro, w4snr\n",
    "       from specphotoall s \n",
    "         join (WISE_xmatch wx  \n",
    "           join WISE_allsky w on wx.wise_cntr = w.cntr) on s.objid = wx.sdss_objid"
   ]
  },
  {
   "cell_type": "markdown",
   "metadata": {
    "slideshow": {
     "slide_type": "subslide"
    }
   },
   "source": [
    "A few notes about the data: `specObjID` is the SDSS identifier, `z` is the redshift, `type` is the photometric type (\"ps\" for point source or \"ext\" for extended), `psfMag` is the SDSS PSF mag in each filter, `modelMag` is the aperture-matched model mag in each filter, `extinction` is the SFD extinction estimate, `w?mpro` is the [WISE](https://www.nasa.gov/mission_pages/WISE/main/index.html) satellite mid-IR magnitude in the W1, W2, W3, and W4 bands, and `w?msnr` is the SNR in each of the respective filters. "
   ]
  },
  {
   "cell_type": "markdown",
   "metadata": {
    "slideshow": {
     "slide_type": "skip"
    }
   },
   "source": [
    "*quick aside* - the SDSS photometric type is reported as either 6 or 3, and, for convenience, I have converted these to 'ps' and 'ext' in the file used for the problem below."
   ]
  },
  {
   "cell_type": "markdown",
   "metadata": {
    "slideshow": {
     "slide_type": "subslide"
    }
   },
   "source": [
    "**Important note** - not every SDSS source will have detections in each of the WISE filters. If `w?msnr` < 2, then the `w?mpro` number represents an upper limit, *not* a detection (i.e., these are cases with missing data)."
   ]
  },
  {
   "cell_type": "markdown",
   "metadata": {
    "slideshow": {
     "slide_type": "slide"
    }
   },
   "source": [
    "**Problem 4a**\n",
    "\n",
    "Read the SDSS training set data – in a file called `DSFP_SDSS_spec_train.csv` – into either a `pandas` DataFrame or `astropy` Table."
   ]
  },
  {
   "cell_type": "code",
   "execution_count": null,
   "metadata": {
    "slideshow": {
     "slide_type": "subslide"
    }
   },
   "outputs": [],
   "source": [
    "sdss = pd.read_csv(\"DSFP_SDSS_spec_train.csv\")\n",
    "sdss[:5]"
   ]
  },
  {
   "cell_type": "markdown",
   "metadata": {
    "slideshow": {
     "slide_type": "slide"
    }
   },
   "source": [
    "**Problem 4b**\n",
    "\n",
    "Are there categorical features in the dataset? If yes, convert the categorical features for use in machine learning models.\n",
    "\n",
    "*Hint* - recall **Problem 3h** and **3i**."
   ]
  },
  {
   "cell_type": "code",
   "execution_count": null,
   "metadata": {
    "slideshow": {
     "slide_type": "subslide"
    }
   },
   "outputs": [],
   "source": [
    "type_dict = create_bin_cat_feats( # complete\n",
    "\n",
    "# complete\n",
    "# complete"
   ]
  },
  {
   "cell_type": "markdown",
   "metadata": {
    "slideshow": {
     "slide_type": "slide"
    }
   },
   "source": [
    "**Problem 4c**\n",
    "\n",
    "Is there missing data in the training set? If yes, how will you deal these data? \n",
    "\n",
    "*Hint* - you were already told there is missing data."
   ]
  },
  {
   "cell_type": "code",
   "execution_count": null,
   "metadata": {
    "slideshow": {
     "slide_type": "subslide"
    }
   },
   "outputs": [],
   "source": [
    "# WISE non-detections have SNR < 2\n",
    "\n",
    "for wsnr in ['w1snr', 'w2snr', 'w3snr', 'w4snr']:\n",
    "    frac_missing = # complete\n",
    "    print('{:.2f}% of the obs in {} are non-detections'.format(100*frac_missing, wsnr[0:2]))"
   ]
  },
  {
   "cell_type": "markdown",
   "metadata": {
    "slideshow": {
     "slide_type": "subslide"
    }
   },
   "source": [
    "Given that there are obs missing in each filter, with a substantial number missing in W3 and W4, we will create a new categorical variable for detection in each filter. We will also replace \"upper limits\" with -9.99 (do this in the cell below).\n",
    "\n",
    "(Alternative strategies that could prove worthwhile include: removing W3 and W4 as they are largely missing, imputing the missing values for non-detections, or removing individual sources with non-detections. This last choice would really cut the training set). "
   ]
  },
  {
   "cell_type": "code",
   "execution_count": null,
   "metadata": {
    "slideshow": {
     "slide_type": "subslide"
    }
   },
   "outputs": [],
   "source": [
    "for filt in ['w1', 'w2', 'w3', 'w4']:\n",
    "    det = np.ones(len(sdss)).astype(int)\n",
    "    det[np.where(sdss['{}snr'.format(filt)] < 2)] = 0\n",
    "    sdss['{}det'.format(filt)] = det\n",
    "    mag = sdss['{}mpro'.format(filt)].values\n",
    "    mag[det == 0] = -9.99\n",
    "    sdss['{}mag'.format(filt)] = mag"
   ]
  },
  {
   "cell_type": "markdown",
   "metadata": {
    "slideshow": {
     "slide_type": "slide"
    }
   },
   "source": [
    "Now that we have dealt with missing and categorical data we can construct out machine learning model. We will use a $k$ nearest neighbors regression model to determine how well we can measure photometric redshifts.\n",
    "\n",
    "The `sdss` dataframe now includes far more columns than are necessary for the model. Should any of these be excluded from the fitting? "
   ]
  },
  {
   "cell_type": "markdown",
   "metadata": {
    "slideshow": {
     "slide_type": "subslide"
    }
   },
   "source": [
    "**Problem 4d**\n",
    "\n",
    "Build a `scikit-learn` appropriate `X` and `y` array for the features and labels (i.e. redshifts) of the photo-z training set."
   ]
  },
  {
   "cell_type": "code",
   "execution_count": null,
   "metadata": {
    "slideshow": {
     "slide_type": "subslide"
    }
   },
   "outputs": [],
   "source": [
    "X = # complete\n",
    "y = # complete"
   ]
  },
  {
   "cell_type": "markdown",
   "metadata": {
    "slideshow": {
     "slide_type": "slide"
    }
   },
   "source": [
    "**Problem 4e**\n",
    "\n",
    "Estimate the RMSE for a [`KNeighborsRegression`](https://scikit-learn.org/stable/modules/generated/sklearn.neighbors.KNeighborsRegressor.html) via 10 fold CV.\n",
    "\n",
    "*Hint* - use [`cross_val_predict`](https://scikit-learn.org/stable/modules/generated/sklearn.model_selection.cross_val_predict.html) in this case so you can plot $z_\\mathrm{SDSS}$ vs. $z_\\mathrm{kNN}$.\n",
    "\n",
    "*Hint 2* - make the plot in a separate cell so you can adjust it without needing to re-run the CV."
   ]
  },
  {
   "cell_type": "code",
   "execution_count": null,
   "metadata": {
    "slideshow": {
     "slide_type": "slide"
    }
   },
   "outputs": [],
   "source": [
    "# cross validation goes here\n",
    "from sklearn.neighbors import KNeighborsRegressor\n",
    "from sklearn.model_selection import cross_val_predict\n",
    "from sklearn.metrics import mean_squared_error\n",
    "\n",
    "knn_reg = # complete\n",
    "y_preds = cross_val_predict( # complete\n",
    "print('The RMSE = {}'.format(np.sqrt(mean_squared_error(y,y_preds))))"
   ]
  },
  {
   "cell_type": "code",
   "execution_count": null,
   "metadata": {
    "slideshow": {
     "slide_type": "subslide"
    }
   },
   "outputs": [],
   "source": [
    "# plotting goes here\n",
    "\n",
    "fig, ax = plt.subplots(figsize=(7,7))\n",
    "ax.scatter( # complete\n",
    "ax.plot([0,6],[0,6], 'Crimson')\n",
    "ax.set_xlabel('z_SDSS')\n",
    "ax.set_ylabel('z_kNN')"
   ]
  },
  {
   "cell_type": "markdown",
   "metadata": {
    "slideshow": {
     "slide_type": "slide"
    }
   },
   "source": [
    "If you made a plot of redshift vs. predictions, you likely saw that there are many sources that are far from the 1 to 1 line. These are called catastrophic outliers, and they are a serious problem for science programs that rely on photometric redshifts. "
   ]
  },
  {
   "cell_type": "markdown",
   "metadata": {
    "slideshow": {
     "slide_type": "subslide"
    }
   },
   "source": [
    "**Problem 4f**\n",
    "\n",
    "Write a function that takes input arrays `ground_truth` and `predictions` and determines the fraction of the dataset that is catastrophic outliers. For today's purposes we will say a catastrophic outlier is one where the prediction differs by 20%. "
   ]
  },
  {
   "cell_type": "code",
   "execution_count": null,
   "metadata": {
    "slideshow": {
     "slide_type": "subslide"
    }
   },
   "outputs": [],
   "source": [
    "def catastrophic_fraction(ground_truth, predictions, threshold=0.2):\n",
    "    '''Function to calculate fraction of predictions that are catastrophic outliers\n",
    "    \n",
    "    Parameter\n",
    "    ---------\n",
    "    ground_truth : array-like\n",
    "        Correct labels for the model sources\n",
    "    \n",
    "    predictions : array-like\n",
    "        Predictions for the model sources\n",
    "    \n",
    "    threshold : float (optional, default=0.2)\n",
    "        The threshold to determine if a \"miss\" is catastrophic or not\n",
    "    \n",
    "    Returns\n",
    "    -------\n",
    "    oh_nos : float\n",
    "        Fractional number of catastrophic outliers\n",
    "    '''\n",
    "    # complete\n",
    "    # complete\n",
    "\n",
    "    return oh_nos"
   ]
  },
  {
   "cell_type": "markdown",
   "metadata": {
    "slideshow": {
     "slide_type": "slide"
    }
   },
   "source": [
    "**Problem 4g**\n",
    "\n",
    "How many catastrophic outliers did your previous predictions have? "
   ]
  },
  {
   "cell_type": "code",
   "execution_count": null,
   "metadata": {
    "slideshow": {
     "slide_type": "subslide"
    }
   },
   "outputs": [],
   "source": [
    "catastrophic_fraction( # complete\n"
   ]
  },
  {
   "cell_type": "markdown",
   "metadata": {
    "slideshow": {
     "slide_type": "slide"
    }
   },
   "source": [
    "Earlier we saw that the performance of a kNN model greatly improves with feature scaling.\n",
    "\n",
    "**Problem 4h**\n",
    "\n",
    "Use a MinMax scaler to scale the features, performs 10 fold cross-validation, and estimate the catastrophic outlier fraction."
   ]
  },
  {
   "cell_type": "code",
   "execution_count": null,
   "metadata": {
    "slideshow": {
     "slide_type": "subslide"
    }
   },
   "outputs": [],
   "source": [
    "scaler = MinMaxScaler()\n",
    "scaler.fit(X)\n",
    "Xminmax = scaler.transform(X)\n",
    "\n",
    "knn_reg = KNeighborsRegressor(n_neighbors=7)\n",
    "y_preds = cross_val_predict( # complete\n",
    "print('The RMSE = {}'.format(np.sqrt(mean_squared_error(y,y_preds))))\n",
    "print('{} are catastrophic'.format(catastrophic_fraction(y, y_preds)))"
   ]
  },
  {
   "cell_type": "code",
   "execution_count": null,
   "metadata": {
    "slideshow": {
     "slide_type": "subslide"
    }
   },
   "outputs": [],
   "source": [
    "# plotting goes here\n",
    "\n",
    "fig, ax = plt.subplots()\n",
    "ax.scatter( # complete\n",
    "ax.plot([0,6],[0,6], 'Crimson')\n",
    "ax.set_xlabel('z_SDSS')\n",
    "ax.set_ylabel('z_kNN')"
   ]
  },
  {
   "cell_type": "markdown",
   "metadata": {
    "slideshow": {
     "slide_type": "slide"
    }
   },
   "source": [
    "The MinMax scaler didn't help at all!\n",
    "\n",
    "Perhaps we need a different kind of wrangling for this data set - feature engineering. (For example, does it make sense to include `extinction` as a feature, or should we instead combine the extinction with the observed magnitudes to get extinction corrected brightness measurements?)\n",
    "\n",
    "Finally - we close with a machine learning question, not a data wrangling question. Does it actually make sense to use a kNN model for datasets that have categorical features? "
   ]
  },
  {
   "cell_type": "markdown",
   "metadata": {
    "slideshow": {
     "slide_type": "slide"
    }
   },
   "source": [
    "**Problem 4i**\n",
    "\n",
    "Build a better machine learning model, possibly with the use of different features, to improve the model classification performance.\n",
    "\n",
    "*Hint* - there was a hint about this in yesterday's lecture."
   ]
  },
  {
   "cell_type": "code",
   "execution_count": null,
   "metadata": {
    "slideshow": {
     "slide_type": "subslide"
    }
   },
   "outputs": [],
   "source": [
    "from sklearn.ensemble import RandomForestRegressor\n",
    "\n",
    "# complete\n",
    "# complete\n",
    "# complete\n",
    "# complete"
   ]
  },
  {
   "cell_type": "code",
   "execution_count": null,
   "metadata": {
    "slideshow": {
     "slide_type": "subslide"
    }
   },
   "outputs": [],
   "source": [
    "# plotting goes here\n",
    "\n",
    "fig, ax = plt.subplots(figsize=(8,8))\n",
    "ax.scatter( # complete\n",
    "ax.plot([0,6],[0,6], 'Crimson')\n",
    "ax.set_xlim(-0.1,4)\n",
    "ax.set_ylim(-0.1,4)\n",
    "ax.set_xlabel('z_SDSS')\n",
    "ax.set_ylabel('z_kNN')"
   ]
  }
 ],
 "metadata": {
  "celltoolbar": "Slideshow",
  "kernelspec": {
   "display_name": "Python 3 (ipykernel)",
   "language": "python",
   "name": "python3"
  },
  "language_info": {
   "codemirror_mode": {
    "name": "ipython",
    "version": 3
   },
   "file_extension": ".py",
   "mimetype": "text/x-python",
   "name": "python",
   "nbconvert_exporter": "python",
   "pygments_lexer": "ipython3",
   "version": "3.9.12"
  }
 },
 "nbformat": 4,
 "nbformat_minor": 2
}
